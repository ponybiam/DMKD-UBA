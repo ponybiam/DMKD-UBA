{
 "cells": [
  {
   "cell_type": "markdown",
   "metadata": {},
   "source": [
    "# Preprocesamiento"
   ]
  },
  {
   "cell_type": "code",
   "execution_count": 1,
   "metadata": {},
   "outputs": [],
   "source": [
    "# Números\n",
    "import pandas as pd\n",
    "import numpy as np\n",
    "\n",
    "# Visualizaciones\n",
    "import matplotlib.pyplot as plt\n",
    "import matplotlib as mpl\n",
    "import matplotlib.pylab as pylab\n",
    "%matplotlib inline\n",
    "mpl.rcParams['figure.figsize'] = (10,6)\n",
    "mpl.rcParams['font.size'] = 12\n",
    "import seaborn as sns\n",
    "sns.set_style(\"darkgrid\")\n",
    "mpl.style.use('ggplot')\n",
    "# Paletas\n",
    "from matplotlib.colors import ListedColormap\n",
    "from palettable.wesanderson import FantasticFox1_5, Moonrise5_6\n",
    "\n",
    "# Preprocesamiento\n",
    "# Imputación de faltantes\n",
    "import statsmodels.imputation.mice as sim"
   ]
  },
  {
   "cell_type": "code",
   "execution_count": 2,
   "metadata": {},
   "outputs": [],
   "source": [
    "path_original = \"..\\\\data\\\\original\\\\\"\n",
    "path_proc =  \"..\\\\data\\\\processed\\\\\"\n",
    "path_ext = \"..\\\\data\\\\external\\\\\""
   ]
  },
  {
   "cell_type": "markdown",
   "metadata": {},
   "source": [
    "Wes palettes python: https://jiffyclub.github.io/palettable/wesanderson/"
   ]
  },
  {
   "cell_type": "code",
   "execution_count": 3,
   "metadata": {},
   "outputs": [],
   "source": [
    "# Paletas a usar: contínua y discreta\n",
    "FFox = FantasticFox1_5.mpl_colors # callable\n",
    "FFoxC = FantasticFox1_5.mpl_colormap\n",
    "FFoxD = ListedColormap(FantasticFox1_5.mpl_colors)\n",
    "\n",
    "Moon = Moonrise5_6.mpl_colors # callable\n",
    "MoonC =  Moonrise5_6.mpl_colormap\n",
    "MoonD = ListedColormap( Moonrise5_6.mpl_colors)"
   ]
  },
  {
   "cell_type": "markdown",
   "metadata": {
    "toc-hr-collapsed": true
   },
   "source": [
    "## Dataset de trabajo"
   ]
  },
  {
   "cell_type": "code",
   "execution_count": 4,
   "metadata": {},
   "outputs": [
    {
     "name": "stdout",
     "output_type": "stream",
     "text": [
      "<class 'pandas.core.frame.DataFrame'>\n",
      "RangeIndex: 13479 entries, 0 to 13478\n",
      "Data columns (total 47 columns):\n",
      " #   Column    Non-Null Count  Dtype  \n",
      "---  ------    --------------  -----  \n",
      " 0   id        13479 non-null  int64  \n",
      " 1   REGION    13479 non-null  int64  \n",
      " 2   SEX       13479 non-null  int64  \n",
      " 3   AHEIGHT   12711 non-null  float64\n",
      " 4   AWEIGHTP  12497 non-null  float64\n",
      " 5   BMI       12470 non-null  float64\n",
      " 6   AGE_P     13479 non-null  int64  \n",
      " 7   RACERPI2  13479 non-null  int64  \n",
      " 8   R_MARITL  13450 non-null  float64\n",
      " 9   DOINGLWA  13471 non-null  float64\n",
      " 10  WRKLYR4   13459 non-null  float64\n",
      " 11  HYPYR1    13459 non-null  float64\n",
      " 12  HYPMED2   13479 non-null  float64\n",
      " 13  CHLYR     13427 non-null  float64\n",
      " 14  CHLMDNW2  13479 non-null  float64\n",
      " 15  ANGEV     13468 non-null  float64\n",
      " 16  MIEV      13472 non-null  float64\n",
      " 17  HRTEV     13474 non-null  float64\n",
      " 18  STREV     13478 non-null  float64\n",
      " 19  EPHEV     13477 non-null  float64\n",
      " 20  COPDEV    13477 non-null  float64\n",
      " 21  ASP       13475 non-null  float64\n",
      " 22  AASSTILL  13471 non-null  float64\n",
      " 23  ULCYR     13476 non-null  float64\n",
      " 24  DIBEV1    13476 non-null  float64\n",
      " 25  DIBPILL1  13478 non-null  float64\n",
      " 26  INSLN1    13479 non-null  float64\n",
      " 27  AHAYFYR   13471 non-null  float64\n",
      " 28  SINYR     13475 non-null  float64\n",
      " 29  CBRCHYR   13477 non-null  float64\n",
      " 30  KIDWKYR   13479 non-null  float64\n",
      " 31  LIVYR     13475 non-null  float64\n",
      " 32  ARTH1     13473 non-null  float64\n",
      " 33  PAINECK   13477 non-null  float64\n",
      " 34  PAINLB    13477 non-null  float64\n",
      " 35  PAINFACE  13479 non-null  float64\n",
      " 36  FLA1AR    13460 non-null  float64\n",
      " 37  CIGSDAY   13479 non-null  float64\n",
      " 38  VIG       13251 non-null  float64\n",
      " 39  MOD       13086 non-null  float64\n",
      " 40  ALC       13479 non-null  float64\n",
      " 41  APOX      12844 non-null  float64\n",
      " 42  AHEP      13283 non-null  float64\n",
      " 43  LIVEV     13291 non-null  float64\n",
      " 44  ASICPUSE  13278 non-null  float64\n",
      " 45  ASISLEEP  13155 non-null  float64\n",
      " 46  target    13479 non-null  int64  \n",
      "dtypes: float64(41), int64(6)\n",
      "memory usage: 4.8 MB\n"
     ]
    }
   ],
   "source": [
    "data = pd.read_csv(path_proc + \"data_filter.csv\")\n",
    "data.info()"
   ]
  },
  {
   "cell_type": "markdown",
   "metadata": {},
   "source": [
    "## Datos faltantes"
   ]
  },
  {
   "cell_type": "markdown",
   "metadata": {},
   "source": [
    "Se utiliza la técnica MICE para imputación. \n",
    "- Paquete utilizado: https://kite.com/python/docs/statsmodels.imputation.mice\n",
    "- Bibliografía: Azur, M. J., Stuart, E. A., Frangakis, C., & Leaf, P. J. (2011). Multiple imputation by chained equations: what is it and how does it work? International Journal of Methods in Psychiatric Research, 20(1), 40–49. https://doi.org/10.1002/mpr.329"
   ]
  },
  {
   "cell_type": "code",
   "execution_count": 5,
   "metadata": {},
   "outputs": [
    {
     "data": {
      "text/plain": [
       "id          0.00\n",
       "REGION      0.00\n",
       "SEX         0.00\n",
       "AHEIGHT     5.70\n",
       "AWEIGHTP    7.29\n",
       "BMI         7.49\n",
       "AGE_P       0.00\n",
       "RACERPI2    0.00\n",
       "R_MARITL    0.22\n",
       "DOINGLWA    0.06\n",
       "WRKLYR4     0.15\n",
       "HYPYR1      0.15\n",
       "HYPMED2     0.00\n",
       "CHLYR       0.39\n",
       "CHLMDNW2    0.00\n",
       "ANGEV       0.08\n",
       "MIEV        0.05\n",
       "HRTEV       0.04\n",
       "STREV       0.01\n",
       "EPHEV       0.01\n",
       "COPDEV      0.01\n",
       "ASP         0.03\n",
       "AASSTILL    0.06\n",
       "ULCYR       0.02\n",
       "DIBEV1      0.02\n",
       "DIBPILL1    0.01\n",
       "INSLN1      0.00\n",
       "AHAYFYR     0.06\n",
       "SINYR       0.03\n",
       "CBRCHYR     0.01\n",
       "KIDWKYR     0.00\n",
       "LIVYR       0.03\n",
       "ARTH1       0.04\n",
       "PAINECK     0.01\n",
       "PAINLB      0.01\n",
       "PAINFACE    0.00\n",
       "FLA1AR      0.14\n",
       "CIGSDAY     0.00\n",
       "VIG         1.69\n",
       "MOD         2.92\n",
       "ALC         0.00\n",
       "APOX        4.71\n",
       "AHEP        1.45\n",
       "LIVEV       1.39\n",
       "ASICPUSE    1.49\n",
       "ASISLEEP    2.40\n",
       "target      0.00\n",
       "dtype: float64"
      ]
     },
     "execution_count": 5,
     "metadata": {},
     "output_type": "execute_result"
    }
   ],
   "source": [
    "# Porcentaje de faltantes\n",
    "round(data.isna().sum() * 100 / len(data),2)"
   ]
  },
  {
   "cell_type": "code",
   "execution_count": 6,
   "metadata": {},
   "outputs": [],
   "source": [
    "# Imputación\n",
    "imp = sim.MICEData(data)\n",
    "# Exportar dataset imputado\n",
    "imp.data.to_csv(path_proc + \"data_imp.csv\", index=False)"
   ]
  },
  {
   "cell_type": "code",
   "execution_count": 7,
   "metadata": {},
   "outputs": [
    {
     "name": "stdout",
     "output_type": "stream",
     "text": [
      "<class 'pandas.core.frame.DataFrame'>\n",
      "RangeIndex: 13479 entries, 0 to 13478\n",
      "Data columns (total 47 columns):\n",
      " #   Column    Non-Null Count  Dtype  \n",
      "---  ------    --------------  -----  \n",
      " 0   id        13479 non-null  int64  \n",
      " 1   REGION    13479 non-null  int64  \n",
      " 2   SEX       13479 non-null  int64  \n",
      " 3   AHEIGHT   13479 non-null  float64\n",
      " 4   AWEIGHTP  13479 non-null  float64\n",
      " 5   BMI       13479 non-null  float64\n",
      " 6   AGE_P     13479 non-null  int64  \n",
      " 7   RACERPI2  13479 non-null  int64  \n",
      " 8   R_MARITL  13479 non-null  float64\n",
      " 9   DOINGLWA  13479 non-null  float64\n",
      " 10  WRKLYR4   13479 non-null  float64\n",
      " 11  HYPYR1    13479 non-null  float64\n",
      " 12  HYPMED2   13479 non-null  float64\n",
      " 13  CHLYR     13479 non-null  float64\n",
      " 14  CHLMDNW2  13479 non-null  float64\n",
      " 15  ANGEV     13479 non-null  float64\n",
      " 16  MIEV      13479 non-null  float64\n",
      " 17  HRTEV     13479 non-null  float64\n",
      " 18  STREV     13479 non-null  float64\n",
      " 19  EPHEV     13479 non-null  float64\n",
      " 20  COPDEV    13479 non-null  float64\n",
      " 21  ASP       13479 non-null  float64\n",
      " 22  AASSTILL  13479 non-null  float64\n",
      " 23  ULCYR     13479 non-null  float64\n",
      " 24  DIBEV1    13479 non-null  float64\n",
      " 25  DIBPILL1  13479 non-null  float64\n",
      " 26  INSLN1    13479 non-null  float64\n",
      " 27  AHAYFYR   13479 non-null  float64\n",
      " 28  SINYR     13479 non-null  float64\n",
      " 29  CBRCHYR   13479 non-null  float64\n",
      " 30  KIDWKYR   13479 non-null  float64\n",
      " 31  LIVYR     13479 non-null  float64\n",
      " 32  ARTH1     13479 non-null  float64\n",
      " 33  PAINECK   13479 non-null  float64\n",
      " 34  PAINLB    13479 non-null  float64\n",
      " 35  PAINFACE  13479 non-null  float64\n",
      " 36  FLA1AR    13479 non-null  float64\n",
      " 37  CIGSDAY   13479 non-null  float64\n",
      " 38  VIG       13479 non-null  float64\n",
      " 39  MOD       13479 non-null  float64\n",
      " 40  ALC       13479 non-null  float64\n",
      " 41  APOX      13479 non-null  float64\n",
      " 42  AHEP      13479 non-null  float64\n",
      " 43  LIVEV     13479 non-null  float64\n",
      " 44  ASICPUSE  13479 non-null  float64\n",
      " 45  ASISLEEP  13479 non-null  float64\n",
      " 46  target    13479 non-null  int64  \n",
      "dtypes: float64(41), int64(6)\n",
      "memory usage: 4.8 MB\n"
     ]
    }
   ],
   "source": [
    "data = pd.read_csv(path_proc + \"data_imp.csv\")\n",
    "data.info()"
   ]
  },
  {
   "cell_type": "code",
   "execution_count": 8,
   "metadata": {},
   "outputs": [],
   "source": [
    "# Corrige BMI\n",
    "data.BMI = round(data.AWEIGHTP / np.power((data.AHEIGHT/100),2),2)"
   ]
  },
  {
   "cell_type": "code",
   "execution_count": 9,
   "metadata": {},
   "outputs": [],
   "source": [
    "# Exportar dataset imputado\n",
    "data.to_csv(path_proc + \"data_imp.csv\", index=False)"
   ]
  },
  {
   "cell_type": "markdown",
   "metadata": {},
   "source": [
    "## Datos atípicos"
   ]
  },
  {
   "cell_type": "markdown",
   "metadata": {},
   "source": [
    "### Univariados"
   ]
  },
  {
   "cell_type": "markdown",
   "metadata": {},
   "source": [
    "Se buscarán datos atípicos en las variables contínuas."
   ]
  },
  {
   "cell_type": "code",
   "execution_count": 10,
   "metadata": {},
   "outputs": [],
   "source": [
    "data = pd.read_csv(path_proc + \"data_imp.csv\")"
   ]
  },
  {
   "cell_type": "code",
   "execution_count": 11,
   "metadata": {},
   "outputs": [],
   "source": [
    "cont = data[[\"AHEIGHT\",\"AWEIGHTP\",\"BMI\",\"AGE_P\",\"CIGSDAY\",\"VIG\",\"MOD\",\"ALC\",\"ASISLEEP\"]]"
   ]
  },
  {
   "cell_type": "code",
   "execution_count": 12,
   "metadata": {},
   "outputs": [
    {
     "data": {
      "image/png": "[encoded data removed]",
      "text/plain": [
       "<Figure size 1296x360 with 9 Axes>"
      ]
     },
     "metadata": {},
     "output_type": "display_data"
    }
   ],
   "source": [
    "# Tamaño\n",
    "sns.set(rc={\"figure.figsize\": (18, 5)})\n",
    "sns.set(font_scale = 1.2)\n",
    "# Figura y ejes\n",
    "f, axes = plt.subplots(1, 9, sharex=False)\n",
    "axes = axes.flatten()\n",
    "# Colores\n",
    "pal = FFox * 2\n",
    "\n",
    "# Etiquetas para el eje\n",
    "labels = [\n",
    "    \"Altura\",\n",
    "    \"Peso\",\n",
    "    \"Índice de masa corporal\",\n",
    "    \"Edad\",\n",
    "    \"Cigarrilos (unidades/semana)\",\n",
    "    \"Actividad vigorosa (minutos/semana)\",\n",
    "    \"Actividad moderada (minutos/semana)\",\n",
    "    \"Vasos de alcohol promedio (unidades/semana)\",\n",
    "    \"Horas de sueño promedio (horas/dia)\",\n",
    "]\n",
    "# Subplots\n",
    "for i, j in enumerate(cont.columns):\n",
    "    ax = axes[i]\n",
    "    sns.boxplot(data[j], orient=\"v\", ax=ax, color = pal[i])\n",
    "    ax.set_ylabel(labels[i])\n",
    "# Layout\n",
    "f.tight_layout()"
   ]
  },
  {
   "cell_type": "code",
   "execution_count": 13,
   "metadata": {},
   "outputs": [],
   "source": [
    "f.savefig(\"..\\\\figures\\\\boxplot_imp.png\", dpi=150, bbox_inches='tight')"
   ]
  },
  {
   "cell_type": "markdown",
   "metadata": {},
   "source": [
    "Las variables relacionadas al consumo de cigarrillos, alcohol y actividad presentan desviación hacia los valores menores. La mayoría de la población presenta hábitos de consumo de alcohol y cigarrillos bajo-moderadom, lo mismo con el hábito de ejercicio. Sí llaman la atención los datos tan altos en actividad física."
   ]
  },
  {
   "cell_type": "markdown",
   "metadata": {},
   "source": [
    "### Outliers univariados"
   ]
  },
  {
   "cell_type": "markdown",
   "metadata": {},
   "source": [
    "#### Consumo de alcohol semanal (ALC)"
   ]
  },
  {
   "cell_type": "code",
   "execution_count": 14,
   "metadata": {},
   "outputs": [
    {
     "data": {
      "text/plain": [
       "0.0      8055\n",
       "2.0      1018\n",
       "4.0       775\n",
       "1.0       645\n",
       "6.0       587\n",
       "3.0       500\n",
       "8.0       274\n",
       "7.0       236\n",
       "14.0      236\n",
       "12.0      205\n",
       "10.0      181\n",
       "5.0       175\n",
       "9.0       148\n",
       "21.0       81\n",
       "15.0       69\n",
       "16.0       47\n",
       "18.0       37\n",
       "20.0       33\n",
       "42.0       29\n",
       "28.0       28\n",
       "24.0       26\n",
       "35.0       18\n",
       "30.0       11\n",
       "25.0       10\n",
       "36.0        7\n",
       "49.0        6\n",
       "40.0        6\n",
       "84.0        6\n",
       "32.0        5\n",
       "70.0        5\n",
       "48.0        3\n",
       "56.0        2\n",
       "52.0        2\n",
       "210.0       2\n",
       "105.0       2\n",
       "45.0        1\n",
       "285.0       1\n",
       "72.0        1\n",
       "630.0       1\n",
       "13.0        1\n",
       "132.0       1\n",
       "245.0       1\n",
       "140.0       1\n",
       "126.0       1\n",
       "Name: ALC, dtype: int64"
      ]
     },
     "execution_count": 14,
     "metadata": {},
     "output_type": "execute_result"
    }
   ],
   "source": [
    "data.ALC.value_counts()"
   ]
  },
  {
   "cell_type": "markdown",
   "metadata": {},
   "source": [
    "Se observa un único caso extremadamente alejado del resto. Dado que es un único sujeto y su valor duplica a su inmediato inferior, se considera un error de imputación y se lo descarta."
   ]
  },
  {
   "cell_type": "code",
   "execution_count": 15,
   "metadata": {},
   "outputs": [
    {
     "data": {
      "text/html": [
       "<div>\n",
       "<style scoped>\n",
       "    .dataframe tbody tr th:only-of-type {\n",
       "        vertical-align: middle;\n",
       "    }\n",
       "\n",
       "    .dataframe tbody tr th {\n",
       "        vertical-align: top;\n",
       "    }\n",
       "\n",
       "    .dataframe thead th {\n",
       "        text-align: right;\n",
       "    }\n",
       "</style>\n",
       "<table border=\"1\" class=\"dataframe\">\n",
       "  <thead>\n",
       "    <tr style=\"text-align: right;\">\n",
       "      <th></th>\n",
       "      <th>id</th>\n",
       "      <th>REGION</th>\n",
       "      <th>SEX</th>\n",
       "      <th>AHEIGHT</th>\n",
       "      <th>AWEIGHTP</th>\n",
       "      <th>BMI</th>\n",
       "      <th>AGE_P</th>\n",
       "      <th>RACERPI2</th>\n",
       "      <th>R_MARITL</th>\n",
       "      <th>DOINGLWA</th>\n",
       "      <th>...</th>\n",
       "      <th>CIGSDAY</th>\n",
       "      <th>VIG</th>\n",
       "      <th>MOD</th>\n",
       "      <th>ALC</th>\n",
       "      <th>APOX</th>\n",
       "      <th>AHEP</th>\n",
       "      <th>LIVEV</th>\n",
       "      <th>ASICPUSE</th>\n",
       "      <th>ASISLEEP</th>\n",
       "      <th>target</th>\n",
       "    </tr>\n",
       "  </thead>\n",
       "  <tbody>\n",
       "    <tr>\n",
       "      <th>12002</th>\n",
       "      <td>4934511</td>\n",
       "      <td>4</td>\n",
       "      <td>1</td>\n",
       "      <td>175.26</td>\n",
       "      <td>79.4</td>\n",
       "      <td>25.85</td>\n",
       "      <td>80</td>\n",
       "      <td>1</td>\n",
       "      <td>2.0</td>\n",
       "      <td>0.0</td>\n",
       "      <td>...</td>\n",
       "      <td>0.0</td>\n",
       "      <td>60.0</td>\n",
       "      <td>60.0</td>\n",
       "      <td>630.0</td>\n",
       "      <td>1.0</td>\n",
       "      <td>0.0</td>\n",
       "      <td>0.0</td>\n",
       "      <td>2.0</td>\n",
       "      <td>8.0</td>\n",
       "      <td>0</td>\n",
       "    </tr>\n",
       "  </tbody>\n",
       "</table>\n",
       "<p>1 rows × 47 columns</p>\n",
       "</div>"
      ],
      "text/plain": [
       "            id  REGION  SEX  AHEIGHT  AWEIGHTP    BMI  AGE_P  RACERPI2  \\\n",
       "12002  4934511       4    1   175.26      79.4  25.85     80         1   \n",
       "\n",
       "       R_MARITL  DOINGLWA  ...  CIGSDAY   VIG   MOD    ALC  APOX  AHEP  LIVEV  \\\n",
       "12002       2.0       0.0  ...      0.0  60.0  60.0  630.0   1.0   0.0    0.0   \n",
       "\n",
       "       ASICPUSE  ASISLEEP  target  \n",
       "12002       2.0       8.0       0  \n",
       "\n",
       "[1 rows x 47 columns]"
      ]
     },
     "execution_count": 15,
     "metadata": {},
     "output_type": "execute_result"
    }
   ],
   "source": [
    "data.loc[data[\"ALC\"] > 300]"
   ]
  },
  {
   "cell_type": "markdown",
   "metadata": {},
   "source": [
    "Se descartan los casos arriba detallados:"
   ]
  },
  {
   "cell_type": "code",
   "execution_count": 16,
   "metadata": {},
   "outputs": [
    {
     "data": {
      "text/plain": [
       "[12002]"
      ]
     },
     "execution_count": 16,
     "metadata": {},
     "output_type": "execute_result"
    }
   ],
   "source": [
    "# índices\n",
    "droplist = list(data.loc[data[\"ALC\"] > 300, \"id\"].index)\n",
    "droplist"
   ]
  },
  {
   "cell_type": "code",
   "execution_count": 17,
   "metadata": {},
   "outputs": [],
   "source": [
    "# Drop\n",
    "data = data.drop(droplist, axis=0)"
   ]
  },
  {
   "cell_type": "markdown",
   "metadata": {},
   "source": [
    "#### Variable actividad vigorosa semanal (VIG)"
   ]
  },
  {
   "cell_type": "code",
   "execution_count": 18,
   "metadata": {},
   "outputs": [
    {
     "data": {
      "text/plain": [
       "0.0        5637\n",
       "180.0       842\n",
       "60.0        694\n",
       "120.0       660\n",
       "90.0        608\n",
       "           ... \n",
       "1335.0        1\n",
       "76.0          1\n",
       "3150.0        1\n",
       "35.0          1\n",
       "10080.0       1\n",
       "Name: VIG, Length: 102, dtype: int64"
      ]
     },
     "execution_count": 18,
     "metadata": {},
     "output_type": "execute_result"
    }
   ],
   "source": [
    "data.VIG.value_counts()"
   ]
  },
  {
   "cell_type": "markdown",
   "metadata": {},
   "source": [
    "Dado que una semana tiene en total 10080 minutos, se considera imposible físicamente realizar actividad física durante la mitad de ella o más (la mitad implicaría entrenar 12 horas por día)."
   ]
  },
  {
   "cell_type": "code",
   "execution_count": 19,
   "metadata": {},
   "outputs": [
    {
     "data": {
      "text/html": [
       "<div>\n",
       "<style scoped>\n",
       "    .dataframe tbody tr th:only-of-type {\n",
       "        vertical-align: middle;\n",
       "    }\n",
       "\n",
       "    .dataframe tbody tr th {\n",
       "        vertical-align: top;\n",
       "    }\n",
       "\n",
       "    .dataframe thead th {\n",
       "        text-align: right;\n",
       "    }\n",
       "</style>\n",
       "<table border=\"1\" class=\"dataframe\">\n",
       "  <thead>\n",
       "    <tr style=\"text-align: right;\">\n",
       "      <th></th>\n",
       "      <th>id</th>\n",
       "      <th>REGION</th>\n",
       "      <th>SEX</th>\n",
       "      <th>AHEIGHT</th>\n",
       "      <th>AWEIGHTP</th>\n",
       "      <th>BMI</th>\n",
       "      <th>AGE_P</th>\n",
       "      <th>RACERPI2</th>\n",
       "      <th>R_MARITL</th>\n",
       "      <th>DOINGLWA</th>\n",
       "      <th>...</th>\n",
       "      <th>CIGSDAY</th>\n",
       "      <th>VIG</th>\n",
       "      <th>MOD</th>\n",
       "      <th>ALC</th>\n",
       "      <th>APOX</th>\n",
       "      <th>AHEP</th>\n",
       "      <th>LIVEV</th>\n",
       "      <th>ASICPUSE</th>\n",
       "      <th>ASISLEEP</th>\n",
       "      <th>target</th>\n",
       "    </tr>\n",
       "  </thead>\n",
       "  <tbody>\n",
       "    <tr>\n",
       "      <th>6686</th>\n",
       "      <td>2713411</td>\n",
       "      <td>3</td>\n",
       "      <td>1</td>\n",
       "      <td>180.34</td>\n",
       "      <td>67.1</td>\n",
       "      <td>20.63</td>\n",
       "      <td>23</td>\n",
       "      <td>1</td>\n",
       "      <td>1.0</td>\n",
       "      <td>1.0</td>\n",
       "      <td>...</td>\n",
       "      <td>0.0</td>\n",
       "      <td>6720.0</td>\n",
       "      <td>168.0</td>\n",
       "      <td>0.0</td>\n",
       "      <td>0.0</td>\n",
       "      <td>0.0</td>\n",
       "      <td>0.0</td>\n",
       "      <td>2.0</td>\n",
       "      <td>6.0</td>\n",
       "      <td>0</td>\n",
       "    </tr>\n",
       "    <tr>\n",
       "      <th>7205</th>\n",
       "      <td>2921111</td>\n",
       "      <td>3</td>\n",
       "      <td>1</td>\n",
       "      <td>177.80</td>\n",
       "      <td>90.7</td>\n",
       "      <td>28.69</td>\n",
       "      <td>57</td>\n",
       "      <td>3</td>\n",
       "      <td>1.0</td>\n",
       "      <td>1.0</td>\n",
       "      <td>...</td>\n",
       "      <td>0.0</td>\n",
       "      <td>10080.0</td>\n",
       "      <td>0.0</td>\n",
       "      <td>0.0</td>\n",
       "      <td>1.0</td>\n",
       "      <td>0.0</td>\n",
       "      <td>0.0</td>\n",
       "      <td>0.0</td>\n",
       "      <td>8.0</td>\n",
       "      <td>0</td>\n",
       "    </tr>\n",
       "    <tr>\n",
       "      <th>10878</th>\n",
       "      <td>4466411</td>\n",
       "      <td>3</td>\n",
       "      <td>1</td>\n",
       "      <td>175.26</td>\n",
       "      <td>74.4</td>\n",
       "      <td>24.22</td>\n",
       "      <td>66</td>\n",
       "      <td>1</td>\n",
       "      <td>3.0</td>\n",
       "      <td>0.0</td>\n",
       "      <td>...</td>\n",
       "      <td>0.0</td>\n",
       "      <td>6720.0</td>\n",
       "      <td>168.0</td>\n",
       "      <td>6.0</td>\n",
       "      <td>1.0</td>\n",
       "      <td>0.0</td>\n",
       "      <td>0.0</td>\n",
       "      <td>3.0</td>\n",
       "      <td>7.0</td>\n",
       "      <td>0</td>\n",
       "    </tr>\n",
       "    <tr>\n",
       "      <th>11711</th>\n",
       "      <td>4821312</td>\n",
       "      <td>3</td>\n",
       "      <td>1</td>\n",
       "      <td>177.80</td>\n",
       "      <td>74.8</td>\n",
       "      <td>23.66</td>\n",
       "      <td>53</td>\n",
       "      <td>1</td>\n",
       "      <td>1.0</td>\n",
       "      <td>1.0</td>\n",
       "      <td>...</td>\n",
       "      <td>0.0</td>\n",
       "      <td>9000.0</td>\n",
       "      <td>60.0</td>\n",
       "      <td>8.0</td>\n",
       "      <td>0.0</td>\n",
       "      <td>0.0</td>\n",
       "      <td>0.0</td>\n",
       "      <td>3.0</td>\n",
       "      <td>7.0</td>\n",
       "      <td>0</td>\n",
       "    </tr>\n",
       "  </tbody>\n",
       "</table>\n",
       "<p>4 rows × 47 columns</p>\n",
       "</div>"
      ],
      "text/plain": [
       "            id  REGION  SEX  AHEIGHT  AWEIGHTP    BMI  AGE_P  RACERPI2  \\\n",
       "6686   2713411       3    1   180.34      67.1  20.63     23         1   \n",
       "7205   2921111       3    1   177.80      90.7  28.69     57         3   \n",
       "10878  4466411       3    1   175.26      74.4  24.22     66         1   \n",
       "11711  4821312       3    1   177.80      74.8  23.66     53         1   \n",
       "\n",
       "       R_MARITL  DOINGLWA  ...  CIGSDAY      VIG    MOD  ALC  APOX  AHEP  \\\n",
       "6686        1.0       1.0  ...      0.0   6720.0  168.0  0.0   0.0   0.0   \n",
       "7205        1.0       1.0  ...      0.0  10080.0    0.0  0.0   1.0   0.0   \n",
       "10878       3.0       0.0  ...      0.0   6720.0  168.0  6.0   1.0   0.0   \n",
       "11711       1.0       1.0  ...      0.0   9000.0   60.0  8.0   0.0   0.0   \n",
       "\n",
       "       LIVEV  ASICPUSE  ASISLEEP  target  \n",
       "6686     0.0       2.0       6.0       0  \n",
       "7205     0.0       0.0       8.0       0  \n",
       "10878    0.0       3.0       7.0       0  \n",
       "11711    0.0       3.0       7.0       0  \n",
       "\n",
       "[4 rows x 47 columns]"
      ]
     },
     "execution_count": 19,
     "metadata": {},
     "output_type": "execute_result"
    }
   ],
   "source": [
    "data.loc[data[\"VIG\"] > 5040]"
   ]
  },
  {
   "cell_type": "markdown",
   "metadata": {},
   "source": [
    "Se descartan los casos arriba detallados:"
   ]
  },
  {
   "cell_type": "code",
   "execution_count": 20,
   "metadata": {},
   "outputs": [
    {
     "data": {
      "text/plain": [
       "[6686, 7205, 10878, 11711]"
      ]
     },
     "execution_count": 20,
     "metadata": {},
     "output_type": "execute_result"
    }
   ],
   "source": [
    "# índices\n",
    "droplist = list(data.loc[data[\"VIG\"] > 5040, \"id\"].index)\n",
    "droplist"
   ]
  },
  {
   "cell_type": "code",
   "execution_count": 21,
   "metadata": {},
   "outputs": [],
   "source": [
    "# Drop\n",
    "data = data.drop(droplist, axis=0)"
   ]
  },
  {
   "cell_type": "markdown",
   "metadata": {},
   "source": [
    "#### Variable actividad moderada semanal (MOD)"
   ]
  },
  {
   "cell_type": "code",
   "execution_count": 22,
   "metadata": {},
   "outputs": [
    {
     "data": {
      "text/plain": [
       "0.0        4097\n",
       "60.0        974\n",
       "210.0       855\n",
       "420.0       750\n",
       "90.0        643\n",
       "           ... \n",
       "252.0         1\n",
       "13.0          1\n",
       "42.0          1\n",
       "161.0         1\n",
       "10080.0       1\n",
       "Name: MOD, Length: 96, dtype: int64"
      ]
     },
     "execution_count": 22,
     "metadata": {},
     "output_type": "execute_result"
    }
   ],
   "source": [
    "data.MOD.value_counts()"
   ]
  },
  {
   "cell_type": "markdown",
   "metadata": {},
   "source": [
    "Dado que una semana tiene en total 10080 minutos, se considera imposible físicamente realizar actividad física durante la mitad de ella o más (la mitad implicaría entrenar 12 horas por día)."
   ]
  },
  {
   "cell_type": "code",
   "execution_count": 23,
   "metadata": {},
   "outputs": [
    {
     "data": {
      "text/html": [
       "<div>\n",
       "<style scoped>\n",
       "    .dataframe tbody tr th:only-of-type {\n",
       "        vertical-align: middle;\n",
       "    }\n",
       "\n",
       "    .dataframe tbody tr th {\n",
       "        vertical-align: top;\n",
       "    }\n",
       "\n",
       "    .dataframe thead th {\n",
       "        text-align: right;\n",
       "    }\n",
       "</style>\n",
       "<table border=\"1\" class=\"dataframe\">\n",
       "  <thead>\n",
       "    <tr style=\"text-align: right;\">\n",
       "      <th></th>\n",
       "      <th>id</th>\n",
       "      <th>REGION</th>\n",
       "      <th>SEX</th>\n",
       "      <th>AHEIGHT</th>\n",
       "      <th>AWEIGHTP</th>\n",
       "      <th>BMI</th>\n",
       "      <th>AGE_P</th>\n",
       "      <th>RACERPI2</th>\n",
       "      <th>R_MARITL</th>\n",
       "      <th>DOINGLWA</th>\n",
       "      <th>...</th>\n",
       "      <th>CIGSDAY</th>\n",
       "      <th>VIG</th>\n",
       "      <th>MOD</th>\n",
       "      <th>ALC</th>\n",
       "      <th>APOX</th>\n",
       "      <th>AHEP</th>\n",
       "      <th>LIVEV</th>\n",
       "      <th>ASICPUSE</th>\n",
       "      <th>ASISLEEP</th>\n",
       "      <th>target</th>\n",
       "    </tr>\n",
       "  </thead>\n",
       "  <tbody>\n",
       "    <tr>\n",
       "      <th>6460</th>\n",
       "      <td>2624721</td>\n",
       "      <td>3</td>\n",
       "      <td>1</td>\n",
       "      <td>182.88</td>\n",
       "      <td>88.5</td>\n",
       "      <td>26.46</td>\n",
       "      <td>65</td>\n",
       "      <td>1</td>\n",
       "      <td>1.0</td>\n",
       "      <td>1.0</td>\n",
       "      <td>...</td>\n",
       "      <td>0.0</td>\n",
       "      <td>0.0</td>\n",
       "      <td>6300.0</td>\n",
       "      <td>0.0</td>\n",
       "      <td>1.0</td>\n",
       "      <td>0.0</td>\n",
       "      <td>0.0</td>\n",
       "      <td>3.0</td>\n",
       "      <td>8.0</td>\n",
       "      <td>0</td>\n",
       "    </tr>\n",
       "    <tr>\n",
       "      <th>8238</th>\n",
       "      <td>3339411</td>\n",
       "      <td>2</td>\n",
       "      <td>2</td>\n",
       "      <td>167.64</td>\n",
       "      <td>104.3</td>\n",
       "      <td>37.11</td>\n",
       "      <td>31</td>\n",
       "      <td>1</td>\n",
       "      <td>4.0</td>\n",
       "      <td>1.0</td>\n",
       "      <td>...</td>\n",
       "      <td>20.0</td>\n",
       "      <td>0.0</td>\n",
       "      <td>10080.0</td>\n",
       "      <td>0.0</td>\n",
       "      <td>1.0</td>\n",
       "      <td>0.0</td>\n",
       "      <td>0.0</td>\n",
       "      <td>3.0</td>\n",
       "      <td>7.0</td>\n",
       "      <td>0</td>\n",
       "    </tr>\n",
       "    <tr>\n",
       "      <th>8504</th>\n",
       "      <td>3442811</td>\n",
       "      <td>4</td>\n",
       "      <td>1</td>\n",
       "      <td>175.26</td>\n",
       "      <td>81.6</td>\n",
       "      <td>26.57</td>\n",
       "      <td>46</td>\n",
       "      <td>1</td>\n",
       "      <td>3.0</td>\n",
       "      <td>1.0</td>\n",
       "      <td>...</td>\n",
       "      <td>15.0</td>\n",
       "      <td>960.0</td>\n",
       "      <td>6720.0</td>\n",
       "      <td>0.0</td>\n",
       "      <td>1.0</td>\n",
       "      <td>0.0</td>\n",
       "      <td>0.0</td>\n",
       "      <td>3.0</td>\n",
       "      <td>7.0</td>\n",
       "      <td>0</td>\n",
       "    </tr>\n",
       "    <tr>\n",
       "      <th>13274</th>\n",
       "      <td>5469812</td>\n",
       "      <td>1</td>\n",
       "      <td>1</td>\n",
       "      <td>175.26</td>\n",
       "      <td>74.8</td>\n",
       "      <td>24.35</td>\n",
       "      <td>68</td>\n",
       "      <td>1</td>\n",
       "      <td>1.0</td>\n",
       "      <td>0.0</td>\n",
       "      <td>...</td>\n",
       "      <td>0.0</td>\n",
       "      <td>40.0</td>\n",
       "      <td>6720.0</td>\n",
       "      <td>12.0</td>\n",
       "      <td>1.0</td>\n",
       "      <td>0.0</td>\n",
       "      <td>0.0</td>\n",
       "      <td>3.0</td>\n",
       "      <td>8.0</td>\n",
       "      <td>0</td>\n",
       "    </tr>\n",
       "  </tbody>\n",
       "</table>\n",
       "<p>4 rows × 47 columns</p>\n",
       "</div>"
      ],
      "text/plain": [
       "            id  REGION  SEX  AHEIGHT  AWEIGHTP    BMI  AGE_P  RACERPI2  \\\n",
       "6460   2624721       3    1   182.88      88.5  26.46     65         1   \n",
       "8238   3339411       2    2   167.64     104.3  37.11     31         1   \n",
       "8504   3442811       4    1   175.26      81.6  26.57     46         1   \n",
       "13274  5469812       1    1   175.26      74.8  24.35     68         1   \n",
       "\n",
       "       R_MARITL  DOINGLWA  ...  CIGSDAY    VIG      MOD   ALC  APOX  AHEP  \\\n",
       "6460        1.0       1.0  ...      0.0    0.0   6300.0   0.0   1.0   0.0   \n",
       "8238        4.0       1.0  ...     20.0    0.0  10080.0   0.0   1.0   0.0   \n",
       "8504        3.0       1.0  ...     15.0  960.0   6720.0   0.0   1.0   0.0   \n",
       "13274       1.0       0.0  ...      0.0   40.0   6720.0  12.0   1.0   0.0   \n",
       "\n",
       "       LIVEV  ASICPUSE  ASISLEEP  target  \n",
       "6460     0.0       3.0       8.0       0  \n",
       "8238     0.0       3.0       7.0       0  \n",
       "8504     0.0       3.0       7.0       0  \n",
       "13274    0.0       3.0       8.0       0  \n",
       "\n",
       "[4 rows x 47 columns]"
      ]
     },
     "execution_count": 23,
     "metadata": {},
     "output_type": "execute_result"
    }
   ],
   "source": [
    "data.loc[data[\"MOD\"] > 5040]"
   ]
  },
  {
   "cell_type": "markdown",
   "metadata": {},
   "source": [
    "Se descartan los casos arriba detallados:"
   ]
  },
  {
   "cell_type": "code",
   "execution_count": 24,
   "metadata": {},
   "outputs": [
    {
     "data": {
      "text/plain": [
       "[6460, 8238, 8504, 13274]"
      ]
     },
     "execution_count": 24,
     "metadata": {},
     "output_type": "execute_result"
    }
   ],
   "source": [
    "# índices\n",
    "droplist = list(data.loc[data[\"MOD\"] > 5040, \"id\"].index)\n",
    "droplist"
   ]
  },
  {
   "cell_type": "code",
   "execution_count": 25,
   "metadata": {},
   "outputs": [],
   "source": [
    "# Drop\n",
    "data = data.drop(droplist, axis=0)"
   ]
  },
  {
   "cell_type": "code",
   "execution_count": 26,
   "metadata": {},
   "outputs": [
    {
     "name": "stdout",
     "output_type": "stream",
     "text": [
      "<class 'pandas.core.frame.DataFrame'>\n",
      "Int64Index: 13470 entries, 0 to 13478\n",
      "Data columns (total 47 columns):\n",
      " #   Column    Non-Null Count  Dtype  \n",
      "---  ------    --------------  -----  \n",
      " 0   id        13470 non-null  int64  \n",
      " 1   REGION    13470 non-null  int64  \n",
      " 2   SEX       13470 non-null  int64  \n",
      " 3   AHEIGHT   13470 non-null  float64\n",
      " 4   AWEIGHTP  13470 non-null  float64\n",
      " 5   BMI       13470 non-null  float64\n",
      " 6   AGE_P     13470 non-null  int64  \n",
      " 7   RACERPI2  13470 non-null  int64  \n",
      " 8   R_MARITL  13470 non-null  float64\n",
      " 9   DOINGLWA  13470 non-null  float64\n",
      " 10  WRKLYR4   13470 non-null  float64\n",
      " 11  HYPYR1    13470 non-null  float64\n",
      " 12  HYPMED2   13470 non-null  float64\n",
      " 13  CHLYR     13470 non-null  float64\n",
      " 14  CHLMDNW2  13470 non-null  float64\n",
      " 15  ANGEV     13470 non-null  float64\n",
      " 16  MIEV      13470 non-null  float64\n",
      " 17  HRTEV     13470 non-null  float64\n",
      " 18  STREV     13470 non-null  float64\n",
      " 19  EPHEV     13470 non-null  float64\n",
      " 20  COPDEV    13470 non-null  float64\n",
      " 21  ASP       13470 non-null  float64\n",
      " 22  AASSTILL  13470 non-null  float64\n",
      " 23  ULCYR     13470 non-null  float64\n",
      " 24  DIBEV1    13470 non-null  float64\n",
      " 25  DIBPILL1  13470 non-null  float64\n",
      " 26  INSLN1    13470 non-null  float64\n",
      " 27  AHAYFYR   13470 non-null  float64\n",
      " 28  SINYR     13470 non-null  float64\n",
      " 29  CBRCHYR   13470 non-null  float64\n",
      " 30  KIDWKYR   13470 non-null  float64\n",
      " 31  LIVYR     13470 non-null  float64\n",
      " 32  ARTH1     13470 non-null  float64\n",
      " 33  PAINECK   13470 non-null  float64\n",
      " 34  PAINLB    13470 non-null  float64\n",
      " 35  PAINFACE  13470 non-null  float64\n",
      " 36  FLA1AR    13470 non-null  float64\n",
      " 37  CIGSDAY   13470 non-null  float64\n",
      " 38  VIG       13470 non-null  float64\n",
      " 39  MOD       13470 non-null  float64\n",
      " 40  ALC       13470 non-null  float64\n",
      " 41  APOX      13470 non-null  float64\n",
      " 42  AHEP      13470 non-null  float64\n",
      " 43  LIVEV     13470 non-null  float64\n",
      " 44  ASICPUSE  13470 non-null  float64\n",
      " 45  ASISLEEP  13470 non-null  float64\n",
      " 46  target    13470 non-null  int64  \n",
      "dtypes: float64(41), int64(6)\n",
      "memory usage: 4.9 MB\n"
     ]
    }
   ],
   "source": [
    "data.info()"
   ]
  },
  {
   "cell_type": "markdown",
   "metadata": {},
   "source": [
    "## Dataset final"
   ]
  },
  {
   "cell_type": "code",
   "execution_count": 27,
   "metadata": {},
   "outputs": [
    {
     "data": {
      "image/png": "[encoded data removed]",
      "text/plain": [
       "<Figure size 1296x360 with 9 Axes>"
      ]
     },
     "metadata": {},
     "output_type": "display_data"
    }
   ],
   "source": [
    "# Tamaño\n",
    "sns.set(rc={\"figure.figsize\": (18, 5)})\n",
    "sns.set(font_scale = 1.2)\n",
    "# Figura y ejes\n",
    "f, axes = plt.subplots(1, 9, sharex=False)\n",
    "axes = axes.flatten()\n",
    "# Colores\n",
    "pal = FFox * 2\n",
    "\n",
    "# Etiquetas para el eje\n",
    "labels = [\n",
    "    \"Altura\",\n",
    "    \"Peso\",\n",
    "    \"Índice de masa corporal\",\n",
    "    \"Edad\",\n",
    "    \"Cigarrilos (unidades/semana)\",\n",
    "    \"Actividad vigorosa (minutos/semana)\",\n",
    "    \"Actividad moderada (minutos/semana)\",\n",
    "    \"Vasos de alcohol promedio (unidades/semana)\",\n",
    "    \"Horas de sueño promedio (horas/dia)\",\n",
    "]\n",
    "# Subplots\n",
    "for i, j in enumerate(cont.columns):\n",
    "    ax = axes[i]\n",
    "    sns.boxplot(data[j], orient=\"v\", ax=ax, color = pal[i])\n",
    "    ax.set_ylabel(labels[i])\n",
    "# Layout\n",
    "f.tight_layout()"
   ]
  },
  {
   "cell_type": "code",
   "execution_count": 28,
   "metadata": {},
   "outputs": [],
   "source": [
    "f.savefig(\"..\\\\figures\\\\boxplot_clean.png\", dpi=150, bbox_inches='tight')"
   ]
  },
  {
   "cell_type": "code",
   "execution_count": 29,
   "metadata": {},
   "outputs": [],
   "source": [
    "data = data.reset_index(drop=True)"
   ]
  },
  {
   "cell_type": "code",
   "execution_count": 30,
   "metadata": {},
   "outputs": [
    {
     "name": "stdout",
     "output_type": "stream",
     "text": [
      "<class 'pandas.core.frame.DataFrame'>\n",
      "RangeIndex: 13470 entries, 0 to 13469\n",
      "Data columns (total 47 columns):\n",
      " #   Column    Non-Null Count  Dtype  \n",
      "---  ------    --------------  -----  \n",
      " 0   id        13470 non-null  int64  \n",
      " 1   REGION    13470 non-null  int64  \n",
      " 2   SEX       13470 non-null  int64  \n",
      " 3   AHEIGHT   13470 non-null  float64\n",
      " 4   AWEIGHTP  13470 non-null  float64\n",
      " 5   BMI       13470 non-null  float64\n",
      " 6   AGE_P     13470 non-null  int64  \n",
      " 7   RACERPI2  13470 non-null  int64  \n",
      " 8   R_MARITL  13470 non-null  float64\n",
      " 9   DOINGLWA  13470 non-null  float64\n",
      " 10  WRKLYR4   13470 non-null  float64\n",
      " 11  HYPYR1    13470 non-null  float64\n",
      " 12  HYPMED2   13470 non-null  float64\n",
      " 13  CHLYR     13470 non-null  float64\n",
      " 14  CHLMDNW2  13470 non-null  float64\n",
      " 15  ANGEV     13470 non-null  float64\n",
      " 16  MIEV      13470 non-null  float64\n",
      " 17  HRTEV     13470 non-null  float64\n",
      " 18  STREV     13470 non-null  float64\n",
      " 19  EPHEV     13470 non-null  float64\n",
      " 20  COPDEV    13470 non-null  float64\n",
      " 21  ASP       13470 non-null  float64\n",
      " 22  AASSTILL  13470 non-null  float64\n",
      " 23  ULCYR     13470 non-null  float64\n",
      " 24  DIBEV1    13470 non-null  float64\n",
      " 25  DIBPILL1  13470 non-null  float64\n",
      " 26  INSLN1    13470 non-null  float64\n",
      " 27  AHAYFYR   13470 non-null  float64\n",
      " 28  SINYR     13470 non-null  float64\n",
      " 29  CBRCHYR   13470 non-null  float64\n",
      " 30  KIDWKYR   13470 non-null  float64\n",
      " 31  LIVYR     13470 non-null  float64\n",
      " 32  ARTH1     13470 non-null  float64\n",
      " 33  PAINECK   13470 non-null  float64\n",
      " 34  PAINLB    13470 non-null  float64\n",
      " 35  PAINFACE  13470 non-null  float64\n",
      " 36  FLA1AR    13470 non-null  float64\n",
      " 37  CIGSDAY   13470 non-null  float64\n",
      " 38  VIG       13470 non-null  float64\n",
      " 39  MOD       13470 non-null  float64\n",
      " 40  ALC       13470 non-null  float64\n",
      " 41  APOX      13470 non-null  float64\n",
      " 42  AHEP      13470 non-null  float64\n",
      " 43  LIVEV     13470 non-null  float64\n",
      " 44  ASICPUSE  13470 non-null  float64\n",
      " 45  ASISLEEP  13470 non-null  float64\n",
      " 46  target    13470 non-null  int64  \n",
      "dtypes: float64(41), int64(6)\n",
      "memory usage: 4.8 MB\n"
     ]
    }
   ],
   "source": [
    "data.info()"
   ]
  },
  {
   "cell_type": "code",
   "execution_count": 31,
   "metadata": {},
   "outputs": [],
   "source": [
    "data.to_csv(path_proc + \"data_clean.csv\", index=False)"
   ]
  },
  {
   "cell_type": "code",
   "execution_count": null,
   "metadata": {},
   "outputs": [],
   "source": []
  }
 ],
 "metadata": {
  "kernelspec": {
   "display_name": "Python 3",
   "language": "python",
   "name": "python3"
  },
  "language_info": {
   "codemirror_mode": {
    "name": "ipython",
    "version": 3
   },
   "file_extension": ".py",
   "mimetype": "text/x-python",
   "name": "python",
   "nbconvert_exporter": "python",
   "pygments_lexer": "ipython3",
   "version": "3.7.6"
  }
 },
 "nbformat": 4,
 "nbformat_minor": 4
}
