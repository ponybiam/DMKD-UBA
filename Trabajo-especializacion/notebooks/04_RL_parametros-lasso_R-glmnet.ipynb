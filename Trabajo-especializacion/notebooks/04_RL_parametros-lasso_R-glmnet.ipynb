{
 "cells": [
  {
   "cell_type": "markdown",
   "metadata": {},
   "source": [
    "# Regresión logística"
   ]
  },
  {
   "cell_type": "code",
   "execution_count": null,
   "metadata": {},
   "outputs": [],
   "source": [
    "library(tidyverse)\n",
    "library(broom)\n",
    "library(modelr)\n",
    "library(purrr)\n",
    "library(caret)\n",
    "library(glmnet)\n",
    "library(\"pROC\")\n",
    "set.seed(55)"
   ]
  },
  {
   "cell_type": "code",
   "execution_count": 2,
   "metadata": {},
   "outputs": [],
   "source": [
    "path_proc =  \"..\\\\data\\\\processed\\\\\"\n",
    "path_results = \"..\\\\data\\\\results\\\\\""
   ]
  },
  {
   "cell_type": "markdown",
   "metadata": {},
   "source": [
    "## Datasets"
   ]
  },
  {
   "cell_type": "code",
   "execution_count": null,
   "metadata": {},
   "outputs": [],
   "source": [
    "# Datos\n",
    "dev = read_csv(paste0(path_proc,\"data_bal_dummy_dev.csv\"))\n",
    "test = read_csv(paste0(path_proc,\"data_bal_dummy_test.csv\"))\n",
    "\n",
    "train1 = read_csv(paste0(path_proc,\"data_bal_dummy_train1.csv\"))\n",
    "train2 = read_csv(paste0(path_proc,\"data_bal_dummy_train2.csv\"))\n",
    "train3 = read_csv(paste0(path_proc,\"data_bal_dummy_train3.csv\"))\n",
    "train4 = read_csv(paste0(path_proc,\"data_bal_dummy_train4.csv\"))\n",
    "train5 = read_csv(paste0(path_proc,\"data_bal_dummy_train5.csv\"))\n",
    "\n",
    "val1 = read_csv(paste0(path_proc,\"data_bal_dummy_val1.csv\"))\n",
    "val2 = read_csv(paste0(path_proc,\"data_bal_dummy_val2.csv\"))\n",
    "val3 = read_csv(paste0(path_proc,\"data_bal_dummy_val3.csv\"))\n",
    "val4 = read_csv(paste0(path_proc,\"data_bal_dummy_val4.csv\"))\n",
    "val5 = read_csv(paste0(path_proc,\"data_bal_dummy_val5.csv\"))\n",
    "\n",
    "\n",
    "# Se quita BMI y id\n",
    "dev$BMI = NULL\n",
    "test$BMI = NULL\n",
    "train1$BMI = NULL\n",
    "train2$BMI = NULL\n",
    "train3$BMI = NULL\n",
    "train4$BMI = NULL\n",
    "train5$BMI = NULL\n",
    "val1$BMI = NULL\n",
    "val2$BMI = NULL\n",
    "val3$BMI = NULL\n",
    "val4$BMI = NULL\n",
    "val5$BMI = NULL"
   ]
  },
  {
   "cell_type": "code",
   "execution_count": 35,
   "metadata": {},
   "outputs": [],
   "source": [
    "# Vector con el target\n",
    "dev_target = dev$target\n",
    "# Matriz con los regresores\n",
    "dev_mtx = model.matrix(target~., data = dev[,c(2:57)])"
   ]
  },
  {
   "cell_type": "markdown",
   "metadata": {},
   "source": [
    "## Búsqueda de lambda para regularización Lasso"
   ]
  },
  {
   "cell_type": "code",
   "execution_count": 36,
   "metadata": {},
   "outputs": [
    {
     "data": {
      "image/png": "[encoded data removed]",
      "text/plain": [
       "plot without title"
      ]
     },
     "metadata": {},
     "output_type": "display_data"
    }
   ],
   "source": [
    "# Búsquda de lambda con CV\n",
    "lasso_cv=cv.glmnet(x=dev_mtx, y=dev_target, alpha=1, standardize = T,  family = \"binomial\", type.measure=\"auc\")\n",
    "# Plot\n",
    "plot(lasso_cv)"
   ]
  },
  {
   "cell_type": "code",
   "execution_count": 37,
   "metadata": {},
   "outputs": [
    {
     "data": {
      "text/plain": [
       "\n",
       "Call:  glmnet(x = dev_mtx, y = dev_target, family = \"binomial\", alpha = 1,      lambda = lasso_lambda_opt, standardize = TRUE) \n",
       "\n",
       "  Df  %Dev   Lambda\n",
       "1 21 14.48 0.009176"
      ]
     },
     "metadata": {},
     "output_type": "display_data"
    }
   ],
   "source": [
    "# Selección lambda óptimo\n",
    "lasso_lambda_opt = lasso_cv$lambda.min\n",
    "\n",
    "# Entrenamiento modelo óptimo\n",
    "lasso_opt = glmnet(x=dev_mtx, # Matriz de regresores\n",
    "                 y=dev_target, #Vector de la variable a predecir\n",
    "                 family = \"binomial\",\n",
    "                 alpha=1, # Indicador del tipo de regularizacion\n",
    "                 standardize = TRUE,  # Estandarizamos\n",
    "                 lambda = lasso_lambda_opt)\n",
    "\n",
    "# Salida estandar\n",
    "lasso_opt"
   ]
  },
  {
   "cell_type": "code",
   "execution_count": 38,
   "metadata": {},
   "outputs": [
    {
     "data": {
      "text/html": [
       "<table>\n",
       "<thead><tr><th scope=col>name</th><th scope=col>coefficient</th></tr></thead>\n",
       "<tbody>\n",
       "\t<tr><td>(Intercept)  </td><td> 7.243316e-01</td></tr>\n",
       "\t<tr><td>AGE_P        </td><td>-2.222168e-02</td></tr>\n",
       "\t<tr><td>CIGSDAY      </td><td> 1.163006e-02</td></tr>\n",
       "\t<tr><td>MOD          </td><td>-2.520915e-05</td></tr>\n",
       "\t<tr><td>ALC          </td><td>-1.515147e-02</td></tr>\n",
       "\t<tr><td>ASISLEEP     </td><td>-8.688617e-02</td></tr>\n",
       "\t<tr><td>HYPMED2      </td><td>-2.046015e-01</td></tr>\n",
       "\t<tr><td>HRTEV        </td><td> 2.054474e-01</td></tr>\n",
       "\t<tr><td>STREV        </td><td> 2.873366e-01</td></tr>\n",
       "\t<tr><td>AASSTILL     </td><td> 5.748473e-02</td></tr>\n",
       "\t<tr><td>ULCYR        </td><td> 3.141183e-01</td></tr>\n",
       "\t<tr><td>AHAYFYR      </td><td> 8.420381e-02</td></tr>\n",
       "\t<tr><td>SINYR        </td><td> 5.733534e-01</td></tr>\n",
       "\t<tr><td>PAINECK      </td><td> 1.045298e+00</td></tr>\n",
       "\t<tr><td>PAINLB       </td><td> 6.326196e-01</td></tr>\n",
       "\t<tr><td>PAINFACE     </td><td> 6.298857e-01</td></tr>\n",
       "\t<tr><td>FLA1AR       </td><td> 1.146925e-01</td></tr>\n",
       "\t<tr><td>APOX         </td><td> 1.028938e-01</td></tr>\n",
       "\t<tr><td>SEX_2        </td><td> 7.211071e-01</td></tr>\n",
       "\t<tr><td>RACERPI2_4   </td><td>-6.833930e-01</td></tr>\n",
       "\t<tr><td>RACERPI2_6   </td><td> 1.363185e-01</td></tr>\n",
       "\t<tr><td>R_MARITL_2   </td><td>-2.448288e-01</td></tr>\n",
       "</tbody>\n",
       "</table>\n"
      ],
      "text/latex": [
       "\\begin{tabular}{r|ll}\n",
       " name & coefficient\\\\\n",
       "\\hline\n",
       "\t (Intercept)   &  7.243316e-01\\\\\n",
       "\t AGE\\_P       & -2.222168e-02\\\\\n",
       "\t CIGSDAY       &  1.163006e-02\\\\\n",
       "\t MOD           & -2.520915e-05\\\\\n",
       "\t ALC           & -1.515147e-02\\\\\n",
       "\t ASISLEEP      & -8.688617e-02\\\\\n",
       "\t HYPMED2       & -2.046015e-01\\\\\n",
       "\t HRTEV         &  2.054474e-01\\\\\n",
       "\t STREV         &  2.873366e-01\\\\\n",
       "\t AASSTILL      &  5.748473e-02\\\\\n",
       "\t ULCYR         &  3.141183e-01\\\\\n",
       "\t AHAYFYR       &  8.420381e-02\\\\\n",
       "\t SINYR         &  5.733534e-01\\\\\n",
       "\t PAINECK       &  1.045298e+00\\\\\n",
       "\t PAINLB        &  6.326196e-01\\\\\n",
       "\t PAINFACE      &  6.298857e-01\\\\\n",
       "\t FLA1AR        &  1.146925e-01\\\\\n",
       "\t APOX          &  1.028938e-01\\\\\n",
       "\t SEX\\_2       &  7.211071e-01\\\\\n",
       "\t RACERPI2\\_4  & -6.833930e-01\\\\\n",
       "\t RACERPI2\\_6  &  1.363185e-01\\\\\n",
       "\t R\\_MARITL\\_2  & -2.448288e-01  \\\\\n",
       "\\end{tabular}\n"
      ],
      "text/markdown": [
       "\n",
       "| name | coefficient |\n",
       "|---|---|\n",
       "| (Intercept)   |  7.243316e-01 |\n",
       "| AGE_P         | -2.222168e-02 |\n",
       "| CIGSDAY       |  1.163006e-02 |\n",
       "| MOD           | -2.520915e-05 |\n",
       "| ALC           | -1.515147e-02 |\n",
       "| ASISLEEP      | -8.688617e-02 |\n",
       "| HYPMED2       | -2.046015e-01 |\n",
       "| HRTEV         |  2.054474e-01 |\n",
       "| STREV         |  2.873366e-01 |\n",
       "| AASSTILL      |  5.748473e-02 |\n",
       "| ULCYR         |  3.141183e-01 |\n",
       "| AHAYFYR       |  8.420381e-02 |\n",
       "| SINYR         |  5.733534e-01 |\n",
       "| PAINECK       |  1.045298e+00 |\n",
       "| PAINLB        |  6.326196e-01 |\n",
       "| PAINFACE      |  6.298857e-01 |\n",
       "| FLA1AR        |  1.146925e-01 |\n",
       "| APOX          |  1.028938e-01 |\n",
       "| SEX_2         |  7.211071e-01 |\n",
       "| RACERPI2_4    | -6.833930e-01 |\n",
       "| RACERPI2_6    |  1.363185e-01 |\n",
       "| R_MARITL_2    | -2.448288e-01 |\n",
       "\n"
      ],
      "text/plain": [
       "   name        coefficient  \n",
       "1  (Intercept)  7.243316e-01\n",
       "2  AGE_P       -2.222168e-02\n",
       "3  CIGSDAY      1.163006e-02\n",
       "4  MOD         -2.520915e-05\n",
       "5  ALC         -1.515147e-02\n",
       "6  ASISLEEP    -8.688617e-02\n",
       "7  HYPMED2     -2.046015e-01\n",
       "8  HRTEV        2.054474e-01\n",
       "9  STREV        2.873366e-01\n",
       "10 AASSTILL     5.748473e-02\n",
       "11 ULCYR        3.141183e-01\n",
       "12 AHAYFYR      8.420381e-02\n",
       "13 SINYR        5.733534e-01\n",
       "14 PAINECK      1.045298e+00\n",
       "15 PAINLB       6.326196e-01\n",
       "16 PAINFACE     6.298857e-01\n",
       "17 FLA1AR       1.146925e-01\n",
       "18 APOX         1.028938e-01\n",
       "19 SEX_2        7.211071e-01\n",
       "20 RACERPI2_4  -6.833930e-01\n",
       "21 RACERPI2_6   1.363185e-01\n",
       "22 R_MARITL_2  -2.448288e-01"
      ]
     },
     "metadata": {},
     "output_type": "display_data"
    }
   ],
   "source": [
    "# Variables que permanencen\n",
    "tmp_coeffs = coef(lasso_opt)\n",
    "data.frame(name = tmp_coeffs@Dimnames[[1]][tmp_coeffs@i + 1], coefficient = tmp_coeffs@x)"
   ]
  },
  {
   "cell_type": "code",
   "execution_count": 52,
   "metadata": {},
   "outputs": [],
   "source": [
    "# Selección de variables\n",
    "dev = dev %>% select(AGE_P,CIGSDAY,MOD,ALC,ASISLEEP,HYPMED2,HRTEV,STREV,AASSTILL,ULCYR,AHAYFYR,SINYR,PAINECK,PAINLB,PAINFACE,FLA1AR,APOX,SEX_2,RACERPI2_4,RACERPI2_6,R_MARITL_2,target)\n",
    "test = test %>% select(AGE_P,CIGSDAY,MOD,ALC,ASISLEEP,HYPMED2,HRTEV,STREV,AASSTILL,ULCYR,AHAYFYR,SINYR,PAINECK,PAINLB,PAINFACE,FLA1AR,APOX,SEX_2,RACERPI2_4,RACERPI2_6,R_MARITL_2,target)\n",
    "\n",
    "train1 = train1 %>% select(AGE_P,CIGSDAY,ALC,ASISLEEP,HYPMED2,HRTEV,STREV,AASSTILL,ULCYR,AHAYFYR,SINYR,PAINECK,PAINLB,PAINFACE,FLA1AR,APOX,SEX_2,RACERPI2_4,RACERPI2_6,R_MARITL_2,target)\n",
    "train2 = train2 %>% select(AGE_P,CIGSDAY,ALC,ASISLEEP,HYPMED2,HRTEV,STREV,AASSTILL,ULCYR,AHAYFYR,SINYR,PAINECK,PAINLB,PAINFACE,FLA1AR,APOX,SEX_2,RACERPI2_4,RACERPI2_6,R_MARITL_2,target)\n",
    "train3 = train3 %>% select(AGE_P,CIGSDAY,ALC,ASISLEEP,HYPMED2,HRTEV,STREV,AASSTILL,ULCYR,AHAYFYR,SINYR,PAINECK,PAINLB,PAINFACE,FLA1AR,APOX,SEX_2,RACERPI2_4,RACERPI2_6,R_MARITL_2,target)\n",
    "train4 = train4 %>% select(AGE_P,CIGSDAY,ALC,ASISLEEP,HYPMED2,HRTEV,STREV,AASSTILL,ULCYR,AHAYFYR,SINYR,PAINECK,PAINLB,PAINFACE,FLA1AR,APOX,SEX_2,RACERPI2_4,RACERPI2_6,R_MARITL_2,target)\n",
    "train5 = train5 %>% select(AGE_P,CIGSDAY,ALC,ASISLEEP,HYPMED2,HRTEV,STREV,AASSTILL,ULCYR,AHAYFYR,SINYR,PAINECK,PAINLB,PAINFACE,FLA1AR,APOX,SEX_2,RACERPI2_4,RACERPI2_6,R_MARITL_2,target)\n",
    "\n",
    "val1 = val1 %>% select(AGE_P,CIGSDAY,ALC,ASISLEEP,HYPMED2,HRTEV,STREV,AASSTILL,ULCYR,AHAYFYR,SINYR,PAINECK,PAINLB,PAINFACE,FLA1AR,APOX,SEX_2,RACERPI2_4,RACERPI2_6,R_MARITL_2,target)\n",
    "val2 = val2 %>% select(AGE_P,CIGSDAY,ALC,ASISLEEP,HYPMED2,HRTEV,STREV,AASSTILL,ULCYR,AHAYFYR,SINYR,PAINECK,PAINLB,PAINFACE,FLA1AR,APOX,SEX_2,RACERPI2_4,RACERPI2_6,R_MARITL_2,target)\n",
    "val3 = val3 %>% select(AGE_P,CIGSDAY,ALC,ASISLEEP,HYPMED2,HRTEV,STREV,AASSTILL,ULCYR,AHAYFYR,SINYR,PAINECK,PAINLB,PAINFACE,FLA1AR,APOX,SEX_2,RACERPI2_4,RACERPI2_6,R_MARITL_2,target)\n",
    "val4 = val4 %>% select(AGE_P,CIGSDAY,ALC,ASISLEEP,HYPMED2,HRTEV,STREV,AASSTILL,ULCYR,AHAYFYR,SINYR,PAINECK,PAINLB,PAINFACE,FLA1AR,APOX,SEX_2,RACERPI2_4,RACERPI2_6,R_MARITL_2,target)\n",
    "val5 = val5 %>% select(AGE_P,CIGSDAY,ALC,ASISLEEP,HYPMED2,HRTEV,STREV,AASSTILL,ULCYR,AHAYFYR,SINYR,PAINECK,PAINLB,PAINFACE,FLA1AR,APOX,SEX_2,RACERPI2_4,RACERPI2_6,R_MARITL_2,target)\n",
    "\n",
    "# Vector con el target\n",
    "train1_target = train1$target\n",
    "train2_target = train2$target\n",
    "train3_target = train3$target\n",
    "train4_target = train4$target\n",
    "train5_target = train5$target\n",
    "\n",
    "val1_target = val1$target\n",
    "val2_target = val2$target\n",
    "val3_target = val3$target\n",
    "val4_target = val4$target\n",
    "val5_target = val5$target\n",
    "\n",
    "test_target = test$target"
   ]
  },
  {
   "cell_type": "code",
   "execution_count": 5,
   "metadata": {},
   "outputs": [],
   "source": [
    "# Fórmula de los modelos\n",
    "logit_formula = formulas(.response = ~target,\n",
    "                         model_todos = ~ .,\n",
    "                         model_sujeto = ~ AGE_P + SEX_2 + RACERPI2_4 + RACERPI2_6 + R_MARITL_2,\n",
    "                         model_habitos = ~ CIGSDAY + ALC + ASISLEEP,\n",
    "                         model_dolor = ~ PAINECK + PAINLB + PAINFACE + FLA1AR,\n",
    "                         model_med = ~ HYPMED2,\n",
    "                         model_enf_ant = ~ HRTEV + STREV + AASSTILL + ULCYR + AHAYFYR + SINYR + APOX,\n",
    "                         model_sujeto_habitos = ~ AGE_P + SEX_2 + RACERPI2_4 + RACERPI2_6 + R_MARITL_2 + CIGSDAY + ALC + ASISLEEP,\n",
    "                         model_sujeto_dolor = ~ AGE_P + SEX_2 + RACERPI2_4 + RACERPI2_6 + R_MARITL_2 + PAINECK + PAINLB + PAINFACE + FLA1AR,\n",
    "                         model_sujeto_med = ~ AGE_P + SEX_2 + RACERPI2_4 + RACERPI2_6 + R_MARITL_2 + HYPMED2,\n",
    "                         model_sujeto_enf_ant = ~ AGE_P + SEX_2 + RACERPI2_4 + RACERPI2_6 + R_MARITL_2 + HRTEV + STREV + AASSTILL + ULCYR + AHAYFYR + SINYR + APOX   \n",
    "                          )"
   ]
  },
  {
   "cell_type": "code",
   "execution_count": 6,
   "metadata": {},
   "outputs": [],
   "source": [
    "# Generación de modelos\n",
    "modelos_train = tibble(logit_formula) %>%\n",
    "          mutate(model = names(logit_formula),\n",
    "          expression = paste(logit_formula),\n",
    "          mod = map(logit_formula, ~glm(.,family = 'binomial', data = dev))) "
   ]
  },
  {
   "cell_type": "code",
   "execution_count": 42,
   "metadata": {},
   "outputs": [
    {
     "name": "stderr",
     "output_type": "stream",
     "text": [
      "Warning message:\n",
      "\"The `.drop` argument of `unnest()` is deprecated as of tidyr 1.0.0.\n",
      "All list-columns are now preserved.\n",
      "This warning is displayed once every 8 hours.\n",
      "Call `lifecycle::last_warnings()` to see where this warning was generated.\""
     ]
    },
    {
     "data": {
      "text/html": [
       "<table>\n",
       "<thead><tr><th scope=col>expression</th><th scope=col>null.deviance</th><th scope=col>deviance</th><th scope=col>perc_explained_dev</th></tr></thead>\n",
       "<tbody>\n",
       "\t<tr><td>target ~ .                                                                                                               </td><td>3387.783                                                                                                                 </td><td>2876.418                                                                                                                 </td><td>0.150943681                                                                                                              </td></tr>\n",
       "\t<tr><td>target ~ AGE_P + SEX_2 + RACERPI2_4 + RACERPI2_6 + R_MARITL_2 + PAINECK + PAINLB + PAINFACE + FLA1AR                     </td><td>3387.783                                                                                                                 </td><td>2949.928                                                                                                                 </td><td>0.129245139                                                                                                              </td></tr>\n",
       "\t<tr><td>target ~ AGE_P + SEX_2 + RACERPI2_4 + RACERPI2_6 + R_MARITL_2 + HRTEV + STREV + AASSTILL + ULCYR + AHAYFYR + SINYR + APOX</td><td>3387.783                                                                                                                 </td><td>3110.116                                                                                                                 </td><td>0.081961130                                                                                                              </td></tr>\n",
       "\t<tr><td>target ~ AGE_P + SEX_2 + RACERPI2_4 + RACERPI2_6 + R_MARITL_2 + CIGSDAY + ALC + ASISLEEP                                 </td><td>3387.783                                                                                                                 </td><td>3145.974                                                                                                                 </td><td>0.071376659                                                                                                              </td></tr>\n",
       "\t<tr><td>target ~ PAINECK + PAINLB + PAINFACE + FLA1AR                                                                            </td><td>3387.783                                                                                                                 </td><td>3149.505                                                                                                                 </td><td>0.070334330                                                                                                              </td></tr>\n",
       "\t<tr><td>target ~ AGE_P + SEX_2 + RACERPI2_4 + RACERPI2_6 + R_MARITL_2 + HYPMED2                                                  </td><td>3387.783                                                                                                                 </td><td>3179.832                                                                                                                 </td><td>0.061382646                                                                                                              </td></tr>\n",
       "\t<tr><td>target ~ AGE_P + SEX_2 + RACERPI2_4 + RACERPI2_6 + R_MARITL_2                                                            </td><td>3387.783                                                                                                                 </td><td>3181.571                                                                                                                 </td><td>0.060869227                                                                                                              </td></tr>\n",
       "\t<tr><td>target ~ HRTEV + STREV + AASSTILL + ULCYR + AHAYFYR + SINYR + APOX                                                       </td><td>3387.783                                                                                                                 </td><td>3323.383                                                                                                                 </td><td>0.019009293                                                                                                              </td></tr>\n",
       "\t<tr><td>target ~ CIGSDAY + ALC + ASISLEEP                                                                                        </td><td>3387.783                                                                                                                 </td><td>3345.221                                                                                                                 </td><td>0.012563260                                                                                                              </td></tr>\n",
       "\t<tr><td>target ~ HYPMED2                                                                                                         </td><td>3387.783                                                                                                                 </td><td>3364.063                                                                                                                 </td><td>0.007001374                                                                                                              </td></tr>\n",
       "</tbody>\n",
       "</table>\n"
      ],
      "text/latex": [
       "\\begin{tabular}{r|llll}\n",
       " expression & null.deviance & deviance & perc\\_explained\\_dev\\\\\n",
       "\\hline\n",
       "\t target \\textasciitilde{} .                                                                                                                & 3387.783                                                                                                                                   & 2876.418                                                                                                                                   & 0.150943681                                                                                                                               \\\\\n",
       "\t target \\textasciitilde{} AGE\\_P + SEX\\_2 + RACERPI2\\_4 + RACERPI2\\_6 + R\\_MARITL\\_2 + PAINECK + PAINLB + PAINFACE + FLA1AR                      & 3387.783                                                                                                                                               & 2949.928                                                                                                                                               & 0.129245139                                                                                                                                           \\\\\n",
       "\t target \\textasciitilde{} AGE\\_P + SEX\\_2 + RACERPI2\\_4 + RACERPI2\\_6 + R\\_MARITL\\_2 + HRTEV + STREV + AASSTILL + ULCYR + AHAYFYR + SINYR + APOX & 3387.783                                                                                                                                               & 3110.116                                                                                                                                               & 0.081961130                                                                                                                                           \\\\\n",
       "\t target \\textasciitilde{} AGE\\_P + SEX\\_2 + RACERPI2\\_4 + RACERPI2\\_6 + R\\_MARITL\\_2 + CIGSDAY + ALC + ASISLEEP                                  & 3387.783                                                                                                                                               & 3145.974                                                                                                                                               & 0.071376659                                                                                                                                           \\\\\n",
       "\t target \\textasciitilde{} PAINECK + PAINLB + PAINFACE + FLA1AR                                                                             & 3387.783                                                                                                                                   & 3149.505                                                                                                                                   & 0.070334330                                                                                                                               \\\\\n",
       "\t target \\textasciitilde{} AGE\\_P + SEX\\_2 + RACERPI2\\_4 + RACERPI2\\_6 + R\\_MARITL\\_2 + HYPMED2                                                   & 3387.783                                                                                                                                               & 3179.832                                                                                                                                               & 0.061382646                                                                                                                                           \\\\\n",
       "\t target \\textasciitilde{} AGE\\_P + SEX\\_2 + RACERPI2\\_4 + RACERPI2\\_6 + R\\_MARITL\\_2                                                             & 3387.783                                                                                                                                               & 3181.571                                                                                                                                               & 0.060869227                                                                                                                                           \\\\\n",
       "\t target \\textasciitilde{} HRTEV + STREV + AASSTILL + ULCYR + AHAYFYR + SINYR + APOX                                                        & 3387.783                                                                                                                                   & 3323.383                                                                                                                                   & 0.019009293                                                                                                                               \\\\\n",
       "\t target \\textasciitilde{} CIGSDAY + ALC + ASISLEEP                                                                                         & 3387.783                                                                                                                                   & 3345.221                                                                                                                                   & 0.012563260                                                                                                                               \\\\\n",
       "\t target \\textasciitilde{} HYPMED2                                                                                                          & 3387.783                                                                                                                                   & 3364.063                                                                                                                                   & 0.007001374                                                                                                                               \\\\\n",
       "\\end{tabular}\n"
      ],
      "text/markdown": [
       "\n",
       "| expression | null.deviance | deviance | perc_explained_dev |\n",
       "|---|---|---|---|\n",
       "| target ~ .                                                                                                                | 3387.783                                                                                                                  | 2876.418                                                                                                                  | 0.150943681                                                                                                               |\n",
       "| target ~ AGE_P + SEX_2 + RACERPI2_4 + RACERPI2_6 + R_MARITL_2 + PAINECK + PAINLB + PAINFACE + FLA1AR                      | 3387.783                                                                                                                  | 2949.928                                                                                                                  | 0.129245139                                                                                                               |\n",
       "| target ~ AGE_P + SEX_2 + RACERPI2_4 + RACERPI2_6 + R_MARITL_2 + HRTEV + STREV + AASSTILL + ULCYR + AHAYFYR + SINYR + APOX | 3387.783                                                                                                                  | 3110.116                                                                                                                  | 0.081961130                                                                                                               |\n",
       "| target ~ AGE_P + SEX_2 + RACERPI2_4 + RACERPI2_6 + R_MARITL_2 + CIGSDAY + ALC + ASISLEEP                                  | 3387.783                                                                                                                  | 3145.974                                                                                                                  | 0.071376659                                                                                                               |\n",
       "| target ~ PAINECK + PAINLB + PAINFACE + FLA1AR                                                                             | 3387.783                                                                                                                  | 3149.505                                                                                                                  | 0.070334330                                                                                                               |\n",
       "| target ~ AGE_P + SEX_2 + RACERPI2_4 + RACERPI2_6 + R_MARITL_2 + HYPMED2                                                   | 3387.783                                                                                                                  | 3179.832                                                                                                                  | 0.061382646                                                                                                               |\n",
       "| target ~ AGE_P + SEX_2 + RACERPI2_4 + RACERPI2_6 + R_MARITL_2                                                             | 3387.783                                                                                                                  | 3181.571                                                                                                                  | 0.060869227                                                                                                               |\n",
       "| target ~ HRTEV + STREV + AASSTILL + ULCYR + AHAYFYR + SINYR + APOX                                                        | 3387.783                                                                                                                  | 3323.383                                                                                                                  | 0.019009293                                                                                                               |\n",
       "| target ~ CIGSDAY + ALC + ASISLEEP                                                                                         | 3387.783                                                                                                                  | 3345.221                                                                                                                  | 0.012563260                                                                                                               |\n",
       "| target ~ HYPMED2                                                                                                          | 3387.783                                                                                                                  | 3364.063                                                                                                                  | 0.007001374                                                                                                               |\n",
       "\n"
      ],
      "text/plain": [
       "   expression                                                                                                               \n",
       "1  target ~ .                                                                                                               \n",
       "2  target ~ AGE_P + SEX_2 + RACERPI2_4 + RACERPI2_6 + R_MARITL_2 + PAINECK + PAINLB + PAINFACE + FLA1AR                     \n",
       "3  target ~ AGE_P + SEX_2 + RACERPI2_4 + RACERPI2_6 + R_MARITL_2 + HRTEV + STREV + AASSTILL + ULCYR + AHAYFYR + SINYR + APOX\n",
       "4  target ~ AGE_P + SEX_2 + RACERPI2_4 + RACERPI2_6 + R_MARITL_2 + CIGSDAY + ALC + ASISLEEP                                 \n",
       "5  target ~ PAINECK + PAINLB + PAINFACE + FLA1AR                                                                            \n",
       "6  target ~ AGE_P + SEX_2 + RACERPI2_4 + RACERPI2_6 + R_MARITL_2 + HYPMED2                                                  \n",
       "7  target ~ AGE_P + SEX_2 + RACERPI2_4 + RACERPI2_6 + R_MARITL_2                                                            \n",
       "8  target ~ HRTEV + STREV + AASSTILL + ULCYR + AHAYFYR + SINYR + APOX                                                       \n",
       "9  target ~ CIGSDAY + ALC + ASISLEEP                                                                                        \n",
       "10 target ~ HYPMED2                                                                                                         \n",
       "   null.deviance deviance perc_explained_dev\n",
       "1  3387.783      2876.418 0.150943681       \n",
       "2  3387.783      2949.928 0.129245139       \n",
       "3  3387.783      3110.116 0.081961130       \n",
       "4  3387.783      3145.974 0.071376659       \n",
       "5  3387.783      3149.505 0.070334330       \n",
       "6  3387.783      3179.832 0.061382646       \n",
       "7  3387.783      3181.571 0.060869227       \n",
       "8  3387.783      3323.383 0.019009293       \n",
       "9  3387.783      3345.221 0.012563260       \n",
       "10 3387.783      3364.063 0.007001374       "
      ]
     },
     "metadata": {},
     "output_type": "display_data"
    }
   ],
   "source": [
    "# Las medidas de evaluación para cada modelo\n",
    "modelos_train = modelos_train %>% mutate(glance = map(mod, broom::glance))\n",
    "# Se filtran medidas de evaluacion de interes\n",
    "modelos_train %>% unnest(glance, .drop = TRUE) %>%\n",
    "            mutate(perc_explained_dev = 1-deviance/null.deviance) %>% \n",
    "            select(expression, null.deviance, deviance, perc_explained_dev) %>% \n",
    "            arrange(deviance)"
   ]
  },
  {
   "cell_type": "code",
   "execution_count": 8,
   "metadata": {},
   "outputs": [],
   "source": [
    "# Regresión logística del mejor modelo para cada train\n",
    "model_train1 = glm(target ~ ., family = 'binomial', data = train1)\n",
    "model_train2 = glm(target ~ ., family = 'binomial', data = train2)\n",
    "model_train3 = glm(target ~ ., family = 'binomial', data = train3)\n",
    "model_train4 = glm(target ~ ., family = 'binomial', data = train4)\n",
    "model_train5 = glm(target ~ ., family = 'binomial', data = train5)"
   ]
  },
  {
   "cell_type": "code",
   "execution_count": 9,
   "metadata": {},
   "outputs": [],
   "source": [
    "# Predicciones sobre el dataset de validacion\n",
    "y_pred1 = predict.glm(model_train1, newdata = val1, type=\"response\")\n",
    "# Dataframe que aloja las predicciones\n",
    "val_values1 = data.frame(y_pred1, as.factor(val1_target))\n",
    "colnames(val_values1) = c(\"y_pred\",\"y_real\")\n",
    "# Vector de puntos de corte desde el mínimo al máximo de nuestras probabilidades con intervalo de 0.001\n",
    "cutoffs1 = seq(\n",
    "  min(y_pred1),\n",
    "  max(y_pred1),\n",
    "  0.001\n",
    ")\n",
    "\n",
    "# Predicciones sobre el dataset de validacion\n",
    "y_pred2 = predict.glm(model_train2, newdata = val2, type=\"response\")\n",
    "# Dataframe que aloja las predicciones\n",
    "val_values2 = data.frame(y_pred2, as.factor(val2_target))\n",
    "colnames(val_values2) = c(\"y_pred\",\"y_real\")\n",
    "# Vector de puntos de corte desde el mínimo al máximo de nuestras probabilidades con intervalo de 0.001\n",
    "cutoffs2 = seq(\n",
    "  min(y_pred2),\n",
    "  max(y_pred2),\n",
    "  0.001\n",
    ")\n",
    "\n",
    "# Predicciones sobre el dataset de validacion\n",
    "y_pred3 = predict.glm(model_train3, newdata = val3, type=\"response\")\n",
    "# Dataframe que aloja las predicciones\n",
    "val_values3 = data.frame(y_pred1, as.factor(val3_target))\n",
    "colnames(val_values3) = c(\"y_pred\",\"y_real\")\n",
    "# Vector de puntos de corte desde el mínimo al máximo de nuestras probabilidades con intervalo de 0.001\n",
    "cutoffs3 = seq(\n",
    "  min(y_pred3),\n",
    "  max(y_pred3),\n",
    "  0.001\n",
    ")\n",
    "\n",
    "# Predicciones sobre el dataset de validacion\n",
    "y_pred4 = predict.glm(model_train4, newdata = val4, type=\"response\")\n",
    "# Dataframe que aloja las predicciones\n",
    "val_values4 = data.frame(y_pred4, as.factor(val4_target))\n",
    "colnames(val_values4) = c(\"y_pred\",\"y_real\")\n",
    "# Vector de puntos de corte desde el mínimo al máximo de nuestras probabilidades con intervalo de 0.001\n",
    "cutoffs4 = seq(\n",
    "  min(y_pred4),\n",
    "  max(y_pred4),\n",
    "  0.001\n",
    ")\n",
    "\n",
    "# Predicciones sobre el dataset de validacion\n",
    "y_pred5 = predict.glm(model_train5, newdata = val5, type=\"response\")\n",
    "# Dataframe que aloja las predicciones\n",
    "val_values5 = data.frame(y_pred5, as.factor(val5_target))\n",
    "colnames(val_values5) = c(\"y_pred\",\"y_real\")\n",
    "# Vector de puntos de corte desde el mínimo al máximo de nuestras probabilidades con intervalo de 0.001\n",
    "cutoffs5 = seq(\n",
    "  min(y_pred5),\n",
    "  max(y_pred5),\n",
    "  0.001\n",
    ")"
   ]
  },
  {
   "cell_type": "code",
   "execution_count": 19,
   "metadata": {},
   "outputs": [],
   "source": [
    "# Función que clasifica las observaciones para diferentes puntos de corte y devuelve métricas de performance asociadas\n",
    "prediction_metrics = function(cutoff, predictions = val_values1) {\n",
    "      table_res = predictions %>%\n",
    "      mutate(predicted_class = if_else(y_pred > cutoff, 1, 0) %>% as.factor(),\n",
    "              real_class = factor(y_real)\n",
    "              )\n",
    "    \n",
    "    confusionMatrix(table_res$predicted_class, table_res$real_class, positive = \"1\") %>%\n",
    "      tidy() %>%\n",
    "      select(term, estimate) %>%\n",
    "      filter(term %in% c('accuracy', 'f1', 'specificity', 'precision','sensitivity')) %>%\n",
    "      mutate(cutoff = cutoff)\n",
    "  }\n",
    "\n",
    "# Se aplica la función al vector\n",
    "logit_pred1 = map_dfr(cutoffs1, prediction_metrics) %>% mutate(term = as.factor(term))"
   ]
  },
  {
   "cell_type": "code",
   "execution_count": 20,
   "metadata": {},
   "outputs": [],
   "source": [
    "# Función que clasifica las observaciones para diferentes puntos de corte y devuelve métricas de performance asociadas\n",
    "prediction_metrics = function(cutoff, predictions = val_values2) {\n",
    "      table_res = predictions %>%\n",
    "      mutate(predicted_class = if_else(y_pred > cutoff, 1, 0) %>% as.factor(),\n",
    "              real_class = factor(y_real)\n",
    "              )\n",
    "    \n",
    "    confusionMatrix(table_res$predicted_class, table_res$real_class, positive = \"1\") %>%\n",
    "      tidy() %>%\n",
    "      select(term, estimate) %>%\n",
    "      filter(term %in% c('accuracy', 'f1', 'specificity', 'precision','sensitivity')) %>%\n",
    "      mutate(cutoff = cutoff)\n",
    "  }\n",
    "\n",
    "# Se aplica la función al vector\n",
    "logit_pred2 = map_dfr(cutoffs2, prediction_metrics) %>% mutate(term = as.factor(term))"
   ]
  },
  {
   "cell_type": "code",
   "execution_count": 21,
   "metadata": {},
   "outputs": [],
   "source": [
    "# Función que clasifica las observaciones para diferentes puntos de corte y devuelve métricas de performance asociadas\n",
    "prediction_metrics = function(cutoff, predictions = val_values3) {\n",
    "      table_res = predictions %>%\n",
    "      mutate(predicted_class = if_else(y_pred > cutoff, 1, 0) %>% as.factor(),\n",
    "              real_class = factor(y_real)\n",
    "              )\n",
    "    \n",
    "    confusionMatrix(table_res$predicted_class, table_res$real_class, positive = \"1\") %>%\n",
    "      tidy() %>%\n",
    "      select(term, estimate) %>%\n",
    "      filter(term %in% c('accuracy', 'f1', 'specificity', 'precision','sensitivity')) %>%\n",
    "      mutate(cutoff = cutoff)\n",
    "  }\n",
    "\n",
    "# Se aplica la función al vector\n",
    "logit_pred3 = map_dfr(cutoffs3, prediction_metrics) %>% mutate(term = as.factor(term))"
   ]
  },
  {
   "cell_type": "code",
   "execution_count": 22,
   "metadata": {},
   "outputs": [],
   "source": [
    "# Función que clasifica las observaciones para diferentes puntos de corte y devuelve métricas de performance asociadas\n",
    "prediction_metrics = function(cutoff, predictions = val_values4) {\n",
    "      table_res = predictions %>%\n",
    "      mutate(predicted_class = if_else(y_pred > cutoff, 1, 0) %>% as.factor(),\n",
    "              real_class = factor(y_real)\n",
    "              )\n",
    "    \n",
    "    confusionMatrix(table_res$predicted_class, table_res$real_class, positive = \"1\") %>%\n",
    "      tidy() %>%\n",
    "      select(term, estimate) %>%\n",
    "      filter(term %in% c('accuracy', 'f1', 'specificity', 'precision','sensitivity')) %>%\n",
    "      mutate(cutoff = cutoff)\n",
    "  }\n",
    "\n",
    "# Se aplica la función al vector\n",
    "logit_pred4 = map_dfr(cutoffs4, prediction_metrics) %>% mutate(term = as.factor(term))"
   ]
  },
  {
   "cell_type": "code",
   "execution_count": 23,
   "metadata": {},
   "outputs": [],
   "source": [
    "# Función que clasifica las observaciones para diferentes puntos de corte y devuelve métricas de performance asociadas\n",
    "prediction_metrics = function(cutoff, predictions = val_values5) {\n",
    "      table_res = predictions %>%\n",
    "      mutate(predicted_class = if_else(y_pred > cutoff, 1, 0) %>% as.factor(),\n",
    "              real_class = factor(y_real)\n",
    "              )\n",
    "    \n",
    "    confusionMatrix(table_res$predicted_class, table_res$real_class, positive = \"1\") %>%\n",
    "      tidy() %>%\n",
    "      select(term, estimate) %>%\n",
    "      filter(term %in% c('accuracy', 'f1', 'specificity', 'precision','sensitivity')) %>%\n",
    "      mutate(cutoff = cutoff)\n",
    "  }\n",
    "\n",
    "# Se aplica la función al vector\n",
    "logit_pred5 = map_dfr(cutoffs5, prediction_metrics) %>% mutate(term = as.factor(term))"
   ]
  },
  {
   "cell_type": "code",
   "execution_count": 24,
   "metadata": {},
   "outputs": [
    {
     "data": {
      "text/html": [
       "<table>\n",
       "<thead><tr><th scope=col>cutoff</th><th scope=col>accuracy</th><th scope=col>sensitivity</th><th scope=col>specificity</th></tr></thead>\n",
       "<tbody>\n",
       "\t<tr><td>0.4745447</td><td>0.6707566</td><td>0.6708861</td><td>0.6706349</td></tr>\n",
       "\t<tr><td>0.4755447</td><td>0.6707566</td><td>0.6708861</td><td>0.6706349</td></tr>\n",
       "\t<tr><td>0.4765447</td><td>0.6707566</td><td>0.6708861</td><td>0.6706349</td></tr>\n",
       "\t<tr><td>0.4775447</td><td>0.6707566</td><td>0.6708861</td><td>0.6706349</td></tr>\n",
       "\t<tr><td>0.4785447</td><td>0.6707566</td><td>0.6708861</td><td>0.6706349</td></tr>\n",
       "</tbody>\n",
       "</table>\n"
      ],
      "text/latex": [
       "\\begin{tabular}{r|llll}\n",
       " cutoff & accuracy & sensitivity & specificity\\\\\n",
       "\\hline\n",
       "\t 0.4745447 & 0.6707566 & 0.6708861 & 0.6706349\\\\\n",
       "\t 0.4755447 & 0.6707566 & 0.6708861 & 0.6706349\\\\\n",
       "\t 0.4765447 & 0.6707566 & 0.6708861 & 0.6706349\\\\\n",
       "\t 0.4775447 & 0.6707566 & 0.6708861 & 0.6706349\\\\\n",
       "\t 0.4785447 & 0.6707566 & 0.6708861 & 0.6706349\\\\\n",
       "\\end{tabular}\n"
      ],
      "text/markdown": [
       "\n",
       "| cutoff | accuracy | sensitivity | specificity |\n",
       "|---|---|---|---|\n",
       "| 0.4745447 | 0.6707566 | 0.6708861 | 0.6706349 |\n",
       "| 0.4755447 | 0.6707566 | 0.6708861 | 0.6706349 |\n",
       "| 0.4765447 | 0.6707566 | 0.6708861 | 0.6706349 |\n",
       "| 0.4775447 | 0.6707566 | 0.6708861 | 0.6706349 |\n",
       "| 0.4785447 | 0.6707566 | 0.6708861 | 0.6706349 |\n",
       "\n"
      ],
      "text/plain": [
       "  cutoff    accuracy  sensitivity specificity\n",
       "1 0.4745447 0.6707566 0.6708861   0.6706349  \n",
       "2 0.4755447 0.6707566 0.6708861   0.6706349  \n",
       "3 0.4765447 0.6707566 0.6708861   0.6706349  \n",
       "4 0.4775447 0.6707566 0.6708861   0.6706349  \n",
       "5 0.4785447 0.6707566 0.6708861   0.6706349  "
      ]
     },
     "metadata": {},
     "output_type": "display_data"
    }
   ],
   "source": [
    "logit_pred1 %>% \n",
    "  tidyr::spread(., term, estimate) %>% # se pasan las métricas a columnas\n",
    "  arrange(-accuracy) %>% # se ordena por accuracy máximo a mínimo\n",
    "  filter(abs(sensitivity - specificity)==min(abs(sensitivity - specificity)) ) %>% # se busca la mínima diferencia entre sensibilidad y especificidad\n",
    "  select(-c(\"precision\",\"f1\"))"
   ]
  },
  {
   "cell_type": "code",
   "execution_count": 25,
   "metadata": {},
   "outputs": [
    {
     "data": {
      "text/html": [
       "<table>\n",
       "<thead><tr><th scope=col>cutoff</th><th scope=col>accuracy</th><th scope=col>sensitivity</th><th scope=col>specificity</th></tr></thead>\n",
       "<tbody>\n",
       "\t<tr><td>0.5229288</td><td>0.6728016</td><td>0.6721311</td><td>0.6734694</td></tr>\n",
       "\t<tr><td>0.5239288</td><td>0.6728016</td><td>0.6721311</td><td>0.6734694</td></tr>\n",
       "\t<tr><td>0.5249288</td><td>0.6728016</td><td>0.6721311</td><td>0.6734694</td></tr>\n",
       "\t<tr><td>0.5259288</td><td>0.6728016</td><td>0.6721311</td><td>0.6734694</td></tr>\n",
       "</tbody>\n",
       "</table>\n"
      ],
      "text/latex": [
       "\\begin{tabular}{r|llll}\n",
       " cutoff & accuracy & sensitivity & specificity\\\\\n",
       "\\hline\n",
       "\t 0.5229288 & 0.6728016 & 0.6721311 & 0.6734694\\\\\n",
       "\t 0.5239288 & 0.6728016 & 0.6721311 & 0.6734694\\\\\n",
       "\t 0.5249288 & 0.6728016 & 0.6721311 & 0.6734694\\\\\n",
       "\t 0.5259288 & 0.6728016 & 0.6721311 & 0.6734694\\\\\n",
       "\\end{tabular}\n"
      ],
      "text/markdown": [
       "\n",
       "| cutoff | accuracy | sensitivity | specificity |\n",
       "|---|---|---|---|\n",
       "| 0.5229288 | 0.6728016 | 0.6721311 | 0.6734694 |\n",
       "| 0.5239288 | 0.6728016 | 0.6721311 | 0.6734694 |\n",
       "| 0.5249288 | 0.6728016 | 0.6721311 | 0.6734694 |\n",
       "| 0.5259288 | 0.6728016 | 0.6721311 | 0.6734694 |\n",
       "\n"
      ],
      "text/plain": [
       "  cutoff    accuracy  sensitivity specificity\n",
       "1 0.5229288 0.6728016 0.6721311   0.6734694  \n",
       "2 0.5239288 0.6728016 0.6721311   0.6734694  \n",
       "3 0.5249288 0.6728016 0.6721311   0.6734694  \n",
       "4 0.5259288 0.6728016 0.6721311   0.6734694  "
      ]
     },
     "metadata": {},
     "output_type": "display_data"
    }
   ],
   "source": [
    "logit_pred2 %>% \n",
    "  tidyr::spread(., term, estimate) %>% # se pasan las métricas a columnas\n",
    "  arrange(-accuracy) %>% # se ordena por accuracy máximo a mínimo\n",
    "  filter(abs(sensitivity - specificity)==min(abs(sensitivity - specificity)) ) %>% # se busca la mínima diferencia entre sensibilidad y especificidad\n",
    "  select(-c(\"precision\",\"f1\"))"
   ]
  },
  {
   "cell_type": "code",
   "execution_count": 26,
   "metadata": {},
   "outputs": [
    {
     "data": {
      "text/html": [
       "<table>\n",
       "<thead><tr><th scope=col>cutoff</th><th scope=col>accuracy</th><th scope=col>sensitivity</th><th scope=col>specificity</th></tr></thead>\n",
       "<tbody>\n",
       "\t<tr><td>0.4701566</td><td>0.5132924</td><td>0.5142857</td><td>0.5122951</td></tr>\n",
       "</tbody>\n",
       "</table>\n"
      ],
      "text/latex": [
       "\\begin{tabular}{r|llll}\n",
       " cutoff & accuracy & sensitivity & specificity\\\\\n",
       "\\hline\n",
       "\t 0.4701566 & 0.5132924 & 0.5142857 & 0.5122951\\\\\n",
       "\\end{tabular}\n"
      ],
      "text/markdown": [
       "\n",
       "| cutoff | accuracy | sensitivity | specificity |\n",
       "|---|---|---|---|\n",
       "| 0.4701566 | 0.5132924 | 0.5142857 | 0.5122951 |\n",
       "\n"
      ],
      "text/plain": [
       "  cutoff    accuracy  sensitivity specificity\n",
       "1 0.4701566 0.5132924 0.5142857   0.5122951  "
      ]
     },
     "metadata": {},
     "output_type": "display_data"
    }
   ],
   "source": [
    "logit_pred3 %>% \n",
    "  tidyr::spread(., term, estimate) %>% # se pasan las métricas a columnas\n",
    "  arrange(-accuracy) %>% # se ordena por accuracy máximo a mínimo\n",
    "  filter(abs(sensitivity - specificity)==min(abs(sensitivity - specificity)) ) %>% # se busca la mínima diferencia entre sensibilidad y especificidad\n",
    "  select(-c(\"precision\",\"f1\"))"
   ]
  },
  {
   "cell_type": "code",
   "execution_count": 27,
   "metadata": {},
   "outputs": [
    {
     "data": {
      "text/html": [
       "<table>\n",
       "<thead><tr><th scope=col>cutoff</th><th scope=col>accuracy</th><th scope=col>sensitivity</th><th scope=col>specificity</th></tr></thead>\n",
       "<tbody>\n",
       "\t<tr><td>0.5030193</td><td>0.7198364</td><td>0.7198444</td><td>0.7198276</td></tr>\n",
       "</tbody>\n",
       "</table>\n"
      ],
      "text/latex": [
       "\\begin{tabular}{r|llll}\n",
       " cutoff & accuracy & sensitivity & specificity\\\\\n",
       "\\hline\n",
       "\t 0.5030193 & 0.7198364 & 0.7198444 & 0.7198276\\\\\n",
       "\\end{tabular}\n"
      ],
      "text/markdown": [
       "\n",
       "| cutoff | accuracy | sensitivity | specificity |\n",
       "|---|---|---|---|\n",
       "| 0.5030193 | 0.7198364 | 0.7198444 | 0.7198276 |\n",
       "\n"
      ],
      "text/plain": [
       "  cutoff    accuracy  sensitivity specificity\n",
       "1 0.5030193 0.7198364 0.7198444   0.7198276  "
      ]
     },
     "metadata": {},
     "output_type": "display_data"
    }
   ],
   "source": [
    "logit_pred4 %>% \n",
    "  tidyr::spread(., term, estimate) %>% # se pasan las métricas a columnas\n",
    "  arrange(-accuracy) %>% # se ordena por accuracy máximo a mínimo\n",
    "  filter(abs(sensitivity - specificity)==min(abs(sensitivity - specificity)) ) %>% # se busca la mínima diferencia entre sensibilidad y especificidad\n",
    "  select(-c(\"precision\",\"f1\"))"
   ]
  },
  {
   "cell_type": "code",
   "execution_count": 28,
   "metadata": {},
   "outputs": [
    {
     "data": {
      "text/html": [
       "<table>\n",
       "<thead><tr><th scope=col>cutoff</th><th scope=col>accuracy</th><th scope=col>sensitivity</th><th scope=col>specificity</th></tr></thead>\n",
       "<tbody>\n",
       "\t<tr><td>0.4858599</td><td>0.6462168</td><td>0.6468254</td><td>0.6455696</td></tr>\n",
       "</tbody>\n",
       "</table>\n"
      ],
      "text/latex": [
       "\\begin{tabular}{r|llll}\n",
       " cutoff & accuracy & sensitivity & specificity\\\\\n",
       "\\hline\n",
       "\t 0.4858599 & 0.6462168 & 0.6468254 & 0.6455696\\\\\n",
       "\\end{tabular}\n"
      ],
      "text/markdown": [
       "\n",
       "| cutoff | accuracy | sensitivity | specificity |\n",
       "|---|---|---|---|\n",
       "| 0.4858599 | 0.6462168 | 0.6468254 | 0.6455696 |\n",
       "\n"
      ],
      "text/plain": [
       "  cutoff    accuracy  sensitivity specificity\n",
       "1 0.4858599 0.6462168 0.6468254   0.6455696  "
      ]
     },
     "metadata": {},
     "output_type": "display_data"
    }
   ],
   "source": [
    "logit_pred5 %>% \n",
    "  tidyr::spread(., term, estimate) %>% # se pasan las métricas a columnas\n",
    "  arrange(-accuracy) %>% # se ordena por accuracy máximo a mínimo\n",
    "  filter(abs(sensitivity - specificity)==min(abs(sensitivity - specificity)) ) %>% # se busca la mínima diferencia entre sensibilidad y especificidad\n",
    "  select(-c(\"precision\",\"f1\"))"
   ]
  },
  {
   "cell_type": "code",
   "execution_count": 37,
   "metadata": {},
   "outputs": [
    {
     "data": {
      "text/plain": [
       "Confusion Matrix and Statistics\n",
       "\n",
       "          Reference\n",
       "Prediction   0   1\n",
       "         0 169  78\n",
       "         1  83 159\n",
       "                                          \n",
       "               Accuracy : 0.6708          \n",
       "                 95% CI : (0.6271, 0.7123)\n",
       "    No Information Rate : 0.5153          \n",
       "    P-Value [Acc > NIR] : 2.437e-12       \n",
       "                                          \n",
       "                  Kappa : 0.3413          \n",
       "                                          \n",
       " Mcnemar's Test P-Value : 0.7526          \n",
       "                                          \n",
       "            Sensitivity : 0.6709          \n",
       "            Specificity : 0.6706          \n",
       "         Pos Pred Value : 0.6570          \n",
       "         Neg Pred Value : 0.6842          \n",
       "             Prevalence : 0.4847          \n",
       "         Detection Rate : 0.3252          \n",
       "   Detection Prevalence : 0.4949          \n",
       "      Balanced Accuracy : 0.6708          \n",
       "                                          \n",
       "       'Positive' Class : 1               \n",
       "                                          "
      ]
     },
     "metadata": {},
     "output_type": "display_data"
    },
    {
     "name": "stderr",
     "output_type": "stream",
     "text": [
      "Setting levels: control = 1, case = 2\n",
      "Setting direction: controls < cases\n"
     ]
    },
    {
     "data": {
      "text/html": [
       "0.670760498292144"
      ],
      "text/latex": [
       "0.670760498292144"
      ],
      "text/markdown": [
       "0.670760498292144"
      ],
      "text/plain": [
       "Area under the curve: 0.6708"
      ]
     },
     "metadata": {},
     "output_type": "display_data"
    }
   ],
   "source": [
    "# Cutoff\n",
    "sel_cutoff1 = 0.4785447\n",
    "# Clasifico utilizando el punto de corte\n",
    "val_values1$predicted_class = if_else(val_values1$y_pred >= sel_cutoff1, 1, 0) %>% as.factor()\n",
    "# Creo la matriz de confusión\n",
    "confusionMatrix(val_values1$predicted_class, val_values1$y_real, positive = \"1\")\n",
    "# ROC-AUC\n",
    "roc_obj = roc(as.numeric(val_values1$y_real), as.numeric(val_values1$predicted_class))\n",
    "auc(roc_obj)"
   ]
  },
  {
   "cell_type": "code",
   "execution_count": 38,
   "metadata": {},
   "outputs": [
    {
     "data": {
      "text/plain": [
       "Confusion Matrix and Statistics\n",
       "\n",
       "          Reference\n",
       "Prediction   0   1\n",
       "         0 165  80\n",
       "         1  80 164\n",
       "                                          \n",
       "               Accuracy : 0.6728          \n",
       "                 95% CI : (0.6292, 0.7143)\n",
       "    No Information Rate : 0.501           \n",
       "    P-Value [Acc > NIR] : 1.181e-14       \n",
       "                                          \n",
       "                  Kappa : 0.3456          \n",
       "                                          \n",
       " Mcnemar's Test P-Value : 1               \n",
       "                                          \n",
       "            Sensitivity : 0.6721          \n",
       "            Specificity : 0.6735          \n",
       "         Pos Pred Value : 0.6721          \n",
       "         Neg Pred Value : 0.6735          \n",
       "             Prevalence : 0.4990          \n",
       "         Detection Rate : 0.3354          \n",
       "   Detection Prevalence : 0.4990          \n",
       "      Balanced Accuracy : 0.6728          \n",
       "                                          \n",
       "       'Positive' Class : 1               \n",
       "                                          "
      ]
     },
     "metadata": {},
     "output_type": "display_data"
    },
    {
     "name": "stderr",
     "output_type": "stream",
     "text": [
      "Setting levels: control = 1, case = 2\n",
      "Setting direction: controls < cases\n"
     ]
    },
    {
     "data": {
      "text/html": [
       "0.672800267648043"
      ],
      "text/latex": [
       "0.672800267648043"
      ],
      "text/markdown": [
       "0.672800267648043"
      ],
      "text/plain": [
       "Area under the curve: 0.6728"
      ]
     },
     "metadata": {},
     "output_type": "display_data"
    }
   ],
   "source": [
    "# Cutoff\n",
    "sel_cutoff2 = 0.5229288\n",
    "# Clasifico utilizando el punto de corte\n",
    "val_values2$predicted_class = if_else(val_values2$y_pred >= sel_cutoff2, 1, 0) %>% as.factor()\n",
    "# Creo la matriz de confusión\n",
    "confusionMatrix(val_values2$predicted_class, val_values2$y_real, positive = \"1\")\n",
    "# ROC-AUC\n",
    "roc_obj = roc(as.numeric(val_values2$y_real), as.numeric(val_values2$predicted_class))\n",
    "auc(roc_obj)"
   ]
  },
  {
   "cell_type": "code",
   "execution_count": 39,
   "metadata": {},
   "outputs": [
    {
     "data": {
      "text/plain": [
       "Confusion Matrix and Statistics\n",
       "\n",
       "          Reference\n",
       "Prediction   0   1\n",
       "         0 125 119\n",
       "         1 119 126\n",
       "                                         \n",
       "               Accuracy : 0.5133         \n",
       "                 95% CI : (0.468, 0.5584)\n",
       "    No Information Rate : 0.501          \n",
       "    P-Value [Acc > NIR] : 0.3095         \n",
       "                                         \n",
       "                  Kappa : 0.0266         \n",
       "                                         \n",
       " Mcnemar's Test P-Value : 1.0000         \n",
       "                                         \n",
       "            Sensitivity : 0.5143         \n",
       "            Specificity : 0.5123         \n",
       "         Pos Pred Value : 0.5143         \n",
       "         Neg Pred Value : 0.5123         \n",
       "             Prevalence : 0.5010         \n",
       "         Detection Rate : 0.2577         \n",
       "   Detection Prevalence : 0.5010         \n",
       "      Balanced Accuracy : 0.5133         \n",
       "                                         \n",
       "       'Positive' Class : 1              \n",
       "                                         "
      ]
     },
     "metadata": {},
     "output_type": "display_data"
    },
    {
     "name": "stderr",
     "output_type": "stream",
     "text": [
      "Setting levels: control = 1, case = 2\n",
      "Setting direction: controls < cases\n"
     ]
    },
    {
     "data": {
      "text/html": [
       "0.513290398126464"
      ],
      "text/latex": [
       "0.513290398126464"
      ],
      "text/markdown": [
       "0.513290398126464"
      ],
      "text/plain": [
       "Area under the curve: 0.5133"
      ]
     },
     "metadata": {},
     "output_type": "display_data"
    }
   ],
   "source": [
    "# Cutoff\n",
    "sel_cutoff3 = 0.4701566 \n",
    "# Clasifico utilizando el punto de corte\n",
    "val_values3$predicted_class = if_else(val_values3$y_pred >= sel_cutoff3, 1, 0) %>% as.factor()\n",
    "# Creo la matriz de confusión\n",
    "confusionMatrix(val_values3$predicted_class, val_values3$y_real, positive = \"1\")\n",
    "# ROC-AUC\n",
    "roc_obj = roc(as.numeric(val_values3$y_real), as.numeric(val_values3$predicted_class))\n",
    "auc(roc_obj)"
   ]
  },
  {
   "cell_type": "code",
   "execution_count": 40,
   "metadata": {},
   "outputs": [
    {
     "data": {
      "text/plain": [
       "Confusion Matrix and Statistics\n",
       "\n",
       "          Reference\n",
       "Prediction   0   1\n",
       "         0 167  72\n",
       "         1  65 185\n",
       "                                          \n",
       "               Accuracy : 0.7198          \n",
       "                 95% CI : (0.6778, 0.7592)\n",
       "    No Information Rate : 0.5256          \n",
       "    P-Value [Acc > NIR] : <2e-16          \n",
       "                                          \n",
       "                  Kappa : 0.439           \n",
       "                                          \n",
       " Mcnemar's Test P-Value : 0.6082          \n",
       "                                          \n",
       "            Sensitivity : 0.7198          \n",
       "            Specificity : 0.7198          \n",
       "         Pos Pred Value : 0.7400          \n",
       "         Neg Pred Value : 0.6987          \n",
       "             Prevalence : 0.5256          \n",
       "         Detection Rate : 0.3783          \n",
       "   Detection Prevalence : 0.5112          \n",
       "      Balanced Accuracy : 0.7198          \n",
       "                                          \n",
       "       'Positive' Class : 1               \n",
       "                                          "
      ]
     },
     "metadata": {},
     "output_type": "display_data"
    },
    {
     "name": "stderr",
     "output_type": "stream",
     "text": [
      "Setting levels: control = 1, case = 2\n",
      "Setting direction: controls < cases\n"
     ]
    },
    {
     "data": {
      "text/html": [
       "0.719835972091775"
      ],
      "text/latex": [
       "0.719835972091775"
      ],
      "text/markdown": [
       "0.719835972091775"
      ],
      "text/plain": [
       "Area under the curve: 0.7198"
      ]
     },
     "metadata": {},
     "output_type": "display_data"
    }
   ],
   "source": [
    "# Cutoff\n",
    "sel_cutoff4 = 0.5030193 \n",
    "# Clasifico utilizando el punto de corte\n",
    "val_values4$predicted_class = if_else(val_values4$y_pred >= sel_cutoff4, 1, 0) %>% as.factor()\n",
    "# Creo la matriz de confusión\n",
    "confusionMatrix(val_values4$predicted_class, val_values4$y_real, positive = \"1\")\n",
    "# ROC-AUC\n",
    "roc_obj = roc(as.numeric(val_values4$y_real), as.numeric(val_values4$predicted_class))\n",
    "auc(roc_obj)"
   ]
  },
  {
   "cell_type": "code",
   "execution_count": 41,
   "metadata": {},
   "outputs": [
    {
     "data": {
      "text/plain": [
       "Confusion Matrix and Statistics\n",
       "\n",
       "          Reference\n",
       "Prediction   0   1\n",
       "         0 153  89\n",
       "         1  84 163\n",
       "                                         \n",
       "               Accuracy : 0.6462         \n",
       "                 95% CI : (0.602, 0.6886)\n",
       "    No Information Rate : 0.5153         \n",
       "    P-Value [Acc > NIR] : 3.448e-09      \n",
       "                                         \n",
       "                  Kappa : 0.2922         \n",
       "                                         \n",
       " Mcnemar's Test P-Value : 0.761          \n",
       "                                         \n",
       "            Sensitivity : 0.6468         \n",
       "            Specificity : 0.6456         \n",
       "         Pos Pred Value : 0.6599         \n",
       "         Neg Pred Value : 0.6322         \n",
       "             Prevalence : 0.5153         \n",
       "         Detection Rate : 0.3333         \n",
       "   Detection Prevalence : 0.5051         \n",
       "      Balanced Accuracy : 0.6462         \n",
       "                                         \n",
       "       'Positive' Class : 1              \n",
       "                                         "
      ]
     },
     "metadata": {},
     "output_type": "display_data"
    },
    {
     "name": "stderr",
     "output_type": "stream",
     "text": [
      "Setting levels: control = 1, case = 2\n",
      "Setting direction: controls < cases\n"
     ]
    },
    {
     "data": {
      "text/html": [
       "0.646197508539281"
      ],
      "text/latex": [
       "0.646197508539281"
      ],
      "text/markdown": [
       "0.646197508539281"
      ],
      "text/plain": [
       "Area under the curve: 0.6462"
      ]
     },
     "metadata": {},
     "output_type": "display_data"
    }
   ],
   "source": [
    "# Cutoff\n",
    "sel_cutoff5 = 0.4858599 \n",
    "# Clasifico utilizando el punto de corte\n",
    "val_values5$predicted_class = if_else(val_values5$y_pred >= sel_cutoff5, 1, 0) %>% as.factor()\n",
    "# Creo la matriz de confusión\n",
    "confusionMatrix(val_values5$predicted_class, val_values5$y_real, positive = \"1\")\n",
    "# ROC-AUC\n",
    "roc_obj = roc(as.numeric(val_values5$y_real), as.numeric(val_values5$predicted_class))\n",
    "auc(roc_obj)"
   ]
  },
  {
   "cell_type": "code",
   "execution_count": 42,
   "metadata": {},
   "outputs": [
    {
     "data": {
      "text/html": [
       "<table>\n",
       "<thead><tr><th scope=col>term</th><th scope=col>estimate</th><th scope=col>std.error</th><th scope=col>statistic</th><th scope=col>p.value</th></tr></thead>\n",
       "<tbody>\n",
       "\t<tr><td>(Intercept)  </td><td> 0.9400761677</td><td>0.315247944  </td><td> 2.9820216   </td><td>2.863518e-03 </td></tr>\n",
       "\t<tr><td>AGE_P        </td><td>-0.0263481690</td><td>0.003500950  </td><td>-7.5260057   </td><td>5.231607e-14 </td></tr>\n",
       "\t<tr><td>CIGSDAY      </td><td> 0.0219697306</td><td>0.008933485  </td><td> 2.4592565   </td><td>1.392251e-02 </td></tr>\n",
       "\t<tr><td>MOD          </td><td>-0.0001910984</td><td>0.000145589  </td><td>-1.3125877   </td><td>1.893219e-01 </td></tr>\n",
       "\t<tr><td>ALC          </td><td>-0.0255381996</td><td>0.009050974  </td><td>-2.8215968   </td><td>4.778521e-03 </td></tr>\n",
       "\t<tr><td>ASISLEEP     </td><td>-0.1188006451</td><td>0.038590881  </td><td>-3.0784642   </td><td>2.080705e-03 </td></tr>\n",
       "\t<tr><td>HYPMED2      </td><td>-0.3339448658</td><td>0.147694255  </td><td>-2.2610552   </td><td>2.375584e-02 </td></tr>\n",
       "\t<tr><td>HRTEV        </td><td> 0.4029172001</td><td>0.229771215  </td><td> 1.7535582   </td><td>7.950624e-02 </td></tr>\n",
       "\t<tr><td>STREV        </td><td> 0.8997483710</td><td>0.489586737  </td><td> 1.8377711   </td><td>6.609614e-02 </td></tr>\n",
       "\t<tr><td>AASSTILL     </td><td> 0.1762193600</td><td>0.184426768  </td><td> 0.9554977   </td><td>3.393260e-01 </td></tr>\n",
       "\t<tr><td>ULCYR        </td><td> 0.8422013365</td><td>0.495684461  </td><td> 1.6990675   </td><td>8.930647e-02 </td></tr>\n",
       "\t<tr><td>AHAYFYR      </td><td> 0.2160337396</td><td>0.175864101  </td><td> 1.2284130   </td><td>2.192920e-01 </td></tr>\n",
       "\t<tr><td>SINYR        </td><td> 0.6877968853</td><td>0.157420885  </td><td> 4.3691591   </td><td>1.247259e-05 </td></tr>\n",
       "\t<tr><td>PAINECK      </td><td> 1.1837270877</td><td>0.151799743  </td><td> 7.7979518   </td><td>6.292001e-15 </td></tr>\n",
       "\t<tr><td>PAINLB       </td><td> 0.7075395795</td><td>0.112784954  </td><td> 6.2733508   </td><td>3.533595e-10 </td></tr>\n",
       "\t<tr><td>PAINFACE     </td><td> 0.7665865590</td><td>0.232112998  </td><td> 3.3026438   </td><td>9.577796e-04 </td></tr>\n",
       "\t<tr><td>FLA1AR       </td><td> 0.6897263258</td><td>0.519957934  </td><td> 1.3265041   </td><td>1.846728e-01 </td></tr>\n",
       "\t<tr><td>APOX         </td><td> 0.2148214976</td><td>0.111302278  </td><td> 1.9300728   </td><td>5.359782e-02 </td></tr>\n",
       "\t<tr><td>SEX_2        </td><td> 0.8271825948</td><td>0.094052610  </td><td> 8.7948925   </td><td>1.431850e-18 </td></tr>\n",
       "\t<tr><td>RACERPI2_4   </td><td>-0.8642972369</td><td>0.208548691  </td><td>-4.1443427   </td><td>3.407899e-05 </td></tr>\n",
       "\t<tr><td>RACERPI2_6   </td><td> 0.4076217941</td><td>0.286027276  </td><td> 1.4251151   </td><td>1.541239e-01 </td></tr>\n",
       "\t<tr><td>R_MARITL_2   </td><td>-0.5002149932</td><td>0.290502664  </td><td>-1.7218947   </td><td>8.508860e-02 </td></tr>\n",
       "</tbody>\n",
       "</table>\n"
      ],
      "text/latex": [
       "\\begin{tabular}{r|lllll}\n",
       " term & estimate & std.error & statistic & p.value\\\\\n",
       "\\hline\n",
       "\t (Intercept)   &  0.9400761677 & 0.315247944   &  2.9820216    & 2.863518e-03 \\\\\n",
       "\t AGE\\_P       & -0.0263481690 & 0.003500950   & -7.5260057    & 5.231607e-14 \\\\\n",
       "\t CIGSDAY       &  0.0219697306 & 0.008933485   &  2.4592565    & 1.392251e-02 \\\\\n",
       "\t MOD           & -0.0001910984 & 0.000145589   & -1.3125877    & 1.893219e-01 \\\\\n",
       "\t ALC           & -0.0255381996 & 0.009050974   & -2.8215968    & 4.778521e-03 \\\\\n",
       "\t ASISLEEP      & -0.1188006451 & 0.038590881   & -3.0784642    & 2.080705e-03 \\\\\n",
       "\t HYPMED2       & -0.3339448658 & 0.147694255   & -2.2610552    & 2.375584e-02 \\\\\n",
       "\t HRTEV         &  0.4029172001 & 0.229771215   &  1.7535582    & 7.950624e-02 \\\\\n",
       "\t STREV         &  0.8997483710 & 0.489586737   &  1.8377711    & 6.609614e-02 \\\\\n",
       "\t AASSTILL      &  0.1762193600 & 0.184426768   &  0.9554977    & 3.393260e-01 \\\\\n",
       "\t ULCYR         &  0.8422013365 & 0.495684461   &  1.6990675    & 8.930647e-02 \\\\\n",
       "\t AHAYFYR       &  0.2160337396 & 0.175864101   &  1.2284130    & 2.192920e-01 \\\\\n",
       "\t SINYR         &  0.6877968853 & 0.157420885   &  4.3691591    & 1.247259e-05 \\\\\n",
       "\t PAINECK       &  1.1837270877 & 0.151799743   &  7.7979518    & 6.292001e-15 \\\\\n",
       "\t PAINLB        &  0.7075395795 & 0.112784954   &  6.2733508    & 3.533595e-10 \\\\\n",
       "\t PAINFACE      &  0.7665865590 & 0.232112998   &  3.3026438    & 9.577796e-04 \\\\\n",
       "\t FLA1AR        &  0.6897263258 & 0.519957934   &  1.3265041    & 1.846728e-01 \\\\\n",
       "\t APOX          &  0.2148214976 & 0.111302278   &  1.9300728    & 5.359782e-02 \\\\\n",
       "\t SEX\\_2       &  0.8271825948 & 0.094052610   &  8.7948925    & 1.431850e-18 \\\\\n",
       "\t RACERPI2\\_4  & -0.8642972369 & 0.208548691   & -4.1443427    & 3.407899e-05 \\\\\n",
       "\t RACERPI2\\_6  &  0.4076217941 & 0.286027276   &  1.4251151    & 1.541239e-01 \\\\\n",
       "\t R\\_MARITL\\_2  & -0.5002149932   & 0.290502664     & -1.7218947      & 8.508860e-02   \\\\\n",
       "\\end{tabular}\n"
      ],
      "text/markdown": [
       "\n",
       "| term | estimate | std.error | statistic | p.value |\n",
       "|---|---|---|---|---|\n",
       "| (Intercept)   |  0.9400761677 | 0.315247944   |  2.9820216    | 2.863518e-03  |\n",
       "| AGE_P         | -0.0263481690 | 0.003500950   | -7.5260057    | 5.231607e-14  |\n",
       "| CIGSDAY       |  0.0219697306 | 0.008933485   |  2.4592565    | 1.392251e-02  |\n",
       "| MOD           | -0.0001910984 | 0.000145589   | -1.3125877    | 1.893219e-01  |\n",
       "| ALC           | -0.0255381996 | 0.009050974   | -2.8215968    | 4.778521e-03  |\n",
       "| ASISLEEP      | -0.1188006451 | 0.038590881   | -3.0784642    | 2.080705e-03  |\n",
       "| HYPMED2       | -0.3339448658 | 0.147694255   | -2.2610552    | 2.375584e-02  |\n",
       "| HRTEV         |  0.4029172001 | 0.229771215   |  1.7535582    | 7.950624e-02  |\n",
       "| STREV         |  0.8997483710 | 0.489586737   |  1.8377711    | 6.609614e-02  |\n",
       "| AASSTILL      |  0.1762193600 | 0.184426768   |  0.9554977    | 3.393260e-01  |\n",
       "| ULCYR         |  0.8422013365 | 0.495684461   |  1.6990675    | 8.930647e-02  |\n",
       "| AHAYFYR       |  0.2160337396 | 0.175864101   |  1.2284130    | 2.192920e-01  |\n",
       "| SINYR         |  0.6877968853 | 0.157420885   |  4.3691591    | 1.247259e-05  |\n",
       "| PAINECK       |  1.1837270877 | 0.151799743   |  7.7979518    | 6.292001e-15  |\n",
       "| PAINLB        |  0.7075395795 | 0.112784954   |  6.2733508    | 3.533595e-10  |\n",
       "| PAINFACE      |  0.7665865590 | 0.232112998   |  3.3026438    | 9.577796e-04  |\n",
       "| FLA1AR        |  0.6897263258 | 0.519957934   |  1.3265041    | 1.846728e-01  |\n",
       "| APOX          |  0.2148214976 | 0.111302278   |  1.9300728    | 5.359782e-02  |\n",
       "| SEX_2         |  0.8271825948 | 0.094052610   |  8.7948925    | 1.431850e-18  |\n",
       "| RACERPI2_4    | -0.8642972369 | 0.208548691   | -4.1443427    | 3.407899e-05  |\n",
       "| RACERPI2_6    |  0.4076217941 | 0.286027276   |  1.4251151    | 1.541239e-01  |\n",
       "| R_MARITL_2    | -0.5002149932 | 0.290502664   | -1.7218947    | 8.508860e-02  |\n",
       "\n"
      ],
      "text/plain": [
       "   term        estimate      std.error   statistic  p.value     \n",
       "1  (Intercept)  0.9400761677 0.315247944  2.9820216 2.863518e-03\n",
       "2  AGE_P       -0.0263481690 0.003500950 -7.5260057 5.231607e-14\n",
       "3  CIGSDAY      0.0219697306 0.008933485  2.4592565 1.392251e-02\n",
       "4  MOD         -0.0001910984 0.000145589 -1.3125877 1.893219e-01\n",
       "5  ALC         -0.0255381996 0.009050974 -2.8215968 4.778521e-03\n",
       "6  ASISLEEP    -0.1188006451 0.038590881 -3.0784642 2.080705e-03\n",
       "7  HYPMED2     -0.3339448658 0.147694255 -2.2610552 2.375584e-02\n",
       "8  HRTEV        0.4029172001 0.229771215  1.7535582 7.950624e-02\n",
       "9  STREV        0.8997483710 0.489586737  1.8377711 6.609614e-02\n",
       "10 AASSTILL     0.1762193600 0.184426768  0.9554977 3.393260e-01\n",
       "11 ULCYR        0.8422013365 0.495684461  1.6990675 8.930647e-02\n",
       "12 AHAYFYR      0.2160337396 0.175864101  1.2284130 2.192920e-01\n",
       "13 SINYR        0.6877968853 0.157420885  4.3691591 1.247259e-05\n",
       "14 PAINECK      1.1837270877 0.151799743  7.7979518 6.292001e-15\n",
       "15 PAINLB       0.7075395795 0.112784954  6.2733508 3.533595e-10\n",
       "16 PAINFACE     0.7665865590 0.232112998  3.3026438 9.577796e-04\n",
       "17 FLA1AR       0.6897263258 0.519957934  1.3265041 1.846728e-01\n",
       "18 APOX         0.2148214976 0.111302278  1.9300728 5.359782e-02\n",
       "19 SEX_2        0.8271825948 0.094052610  8.7948925 1.431850e-18\n",
       "20 RACERPI2_4  -0.8642972369 0.208548691 -4.1443427 3.407899e-05\n",
       "21 RACERPI2_6   0.4076217941 0.286027276  1.4251151 1.541239e-01\n",
       "22 R_MARITL_2  -0.5002149932 0.290502664 -1.7218947 8.508860e-02"
      ]
     },
     "metadata": {},
     "output_type": "display_data"
    }
   ],
   "source": [
    "# Modelo entrenado con todo el dataset dev\n",
    "model_dev = glm(target ~ ., family = 'binomial', data = dev)\n",
    "# Se extraen los coeficientes\n",
    "tidy(model_dev)"
   ]
  },
  {
   "cell_type": "code",
   "execution_count": 53,
   "metadata": {},
   "outputs": [
    {
     "data": {
      "text/plain": [
       "Confusion Matrix and Statistics\n",
       "\n",
       "          Reference\n",
       "Prediction   0   1\n",
       "         0 233  96\n",
       "         1  87 196\n",
       "                                        \n",
       "               Accuracy : 0.701         \n",
       "                 95% CI : (0.663, 0.737)\n",
       "    No Information Rate : 0.5229        \n",
       "    P-Value [Acc > NIR] : <2e-16        \n",
       "                                        \n",
       "                  Kappa : 0.3999        \n",
       "                                        \n",
       " Mcnemar's Test P-Value : 0.5543        \n",
       "                                        \n",
       "            Sensitivity : 0.6712        \n",
       "            Specificity : 0.7281        \n",
       "         Pos Pred Value : 0.6926        \n",
       "         Neg Pred Value : 0.7082        \n",
       "             Prevalence : 0.4771        \n",
       "         Detection Rate : 0.3203        \n",
       "   Detection Prevalence : 0.4624        \n",
       "      Balanced Accuracy : 0.6997        \n",
       "                                        \n",
       "       'Positive' Class : 1             \n",
       "                                        "
      ]
     },
     "metadata": {},
     "output_type": "display_data"
    },
    {
     "name": "stderr",
     "output_type": "stream",
     "text": [
      "Setting levels: control = 1, case = 2\n",
      "Setting direction: controls < cases\n"
     ]
    },
    {
     "data": {
      "text/html": [
       "0.699678938356164"
      ],
      "text/latex": [
       "0.699678938356164"
      ],
      "text/markdown": [
       "0.699678938356164"
      ],
      "text/plain": [
       "Area under the curve: 0.6997"
      ]
     },
     "metadata": {},
     "output_type": "display_data"
    }
   ],
   "source": [
    "# Predicciones sobre el dataset de test\n",
    "y_pred = predict.glm(model_dev, newdata = test, type=\"response\")\n",
    "\n",
    "# Dataframe que aloja las predicciones\n",
    "test_values = data.frame(y_pred, as.factor(test_target))\n",
    "colnames(test_values) = c(\"y_pred\",\"y_real\")\n",
    "\n",
    "# Clasifico utilizando el punto de corte\n",
    "test_values$predicted_class = if_else(test_values$y_pred >= sel_cutoff4, 1, 0) %>% as.factor()\n",
    "\n",
    "# Creo la matriz de confusión\n",
    "confusionMatrix(test_values$predicted_class, test_values$y_real, positive = \"1\")\n",
    "\n",
    "# ROC-AUC\n",
    "roc_obj = roc(as.numeric(test_values$y_real), as.numeric(test_values$predicted_class))\n",
    "auc(roc_obj)"
   ]
  },
  {
   "cell_type": "code",
   "execution_count": 54,
   "metadata": {},
   "outputs": [
    {
     "data": {
      "image/png": "[encoded data removed]",
      "text/plain": [
       "plot without title"
      ]
     },
     "metadata": {},
     "output_type": "display_data"
    }
   ],
   "source": [
    "ggplot(test_values, aes(x = y_real, y = y_pred, group = y_real, fill = factor(y_real), color = factor(y_real))) + \n",
    "        theme_grey() + theme(legend.position = \"none\") +\n",
    "        geom_violin() + \n",
    "        labs(title = 'Violin plot para el modelo', y = 'Probabilidad predicha', x = \"Clase\")"
   ]
  },
  {
   "cell_type": "code",
   "execution_count": 55,
   "metadata": {},
   "outputs": [],
   "source": [
    "write_csv(test_values, paste0(path_results,\"test_bal_dummy_pred.csv\"))\n",
    "write_csv(val_values1, paste0(path_results,\"val_bal_dummy_pred1.csv\"))\n",
    "write_csv(val_values2, paste0(path_results,\"val_bal_dummy_pred2.csv\"))\n",
    "write_csv(val_values3, paste0(path_results,\"val_bal_dummy_pred3.csv\"))\n",
    "write_csv(val_values4, paste0(path_results,\"val_bal_dummy_pred4.csv\"))\n",
    "write_csv(val_values5, paste0(path_results,\"val_bal_dummy_pred5.csv\"))"
   ]
  },
  {
   "cell_type": "code",
   "execution_count": null,
   "metadata": {},
   "outputs": [],
   "source": []
  }
 ],
 "metadata": {
  "kernelspec": {
   "display_name": "R",
   "language": "R",
   "name": "ir"
  },
  "language_info": {
   "codemirror_mode": "r",
   "file_extension": ".r",
   "mimetype": "text/x-r-source",
   "name": "R",
   "pygments_lexer": "r",
   "version": "3.6.1"
  }
 },
 "nbformat": 4,
 "nbformat_minor": 4
}
