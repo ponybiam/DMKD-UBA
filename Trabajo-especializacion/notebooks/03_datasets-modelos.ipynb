{
 "cells": [
  {
   "cell_type": "markdown",
   "metadata": {},
   "source": [
    "# Datasets para modelos"
   ]
  },
  {
   "cell_type": "code",
   "execution_count": 1,
   "metadata": {},
   "outputs": [],
   "source": [
    "# Números\n",
    "import pandas as pd\n",
    "import numpy as np\n",
    "\n",
    "from sklearn.model_selection import train_test_split"
   ]
  },
  {
   "cell_type": "code",
   "execution_count": 2,
   "metadata": {},
   "outputs": [],
   "source": [
    "path_original = \"..\\\\data\\\\original\\\\\"\n",
    "path_proc =  \"..\\\\data\\\\processed\\\\\"\n",
    "path_ext = \"..\\\\data\\\\external\\\\\""
   ]
  },
  {
   "cell_type": "markdown",
   "metadata": {},
   "source": [
    "## Datasets"
   ]
  },
  {
   "cell_type": "code",
   "execution_count": 3,
   "metadata": {},
   "outputs": [
    {
     "name": "stdout",
     "output_type": "stream",
     "text": [
      "<class 'pandas.core.frame.DataFrame'>\n",
      "RangeIndex: 13470 entries, 0 to 13469\n",
      "Data columns (total 47 columns):\n",
      " #   Column    Non-Null Count  Dtype  \n",
      "---  ------    --------------  -----  \n",
      " 0   id        13470 non-null  int64  \n",
      " 1   REGION    13470 non-null  int64  \n",
      " 2   SEX       13470 non-null  int64  \n",
      " 3   AHEIGHT   13470 non-null  float64\n",
      " 4   AWEIGHTP  13470 non-null  float64\n",
      " 5   BMI       13470 non-null  float64\n",
      " 6   AGE_P     13470 non-null  int64  \n",
      " 7   RACERPI2  13470 non-null  int64  \n",
      " 8   R_MARITL  13470 non-null  float64\n",
      " 9   DOINGLWA  13470 non-null  float64\n",
      " 10  WRKLYR4   13470 non-null  float64\n",
      " 11  HYPYR1    13470 non-null  float64\n",
      " 12  HYPMED2   13470 non-null  float64\n",
      " 13  CHLYR     13470 non-null  float64\n",
      " 14  CHLMDNW2  13470 non-null  float64\n",
      " 15  ANGEV     13470 non-null  float64\n",
      " 16  MIEV      13470 non-null  float64\n",
      " 17  HRTEV     13470 non-null  float64\n",
      " 18  STREV     13470 non-null  float64\n",
      " 19  EPHEV     13470 non-null  float64\n",
      " 20  COPDEV    13470 non-null  float64\n",
      " 21  ASP       13470 non-null  float64\n",
      " 22  AASSTILL  13470 non-null  float64\n",
      " 23  ULCYR     13470 non-null  float64\n",
      " 24  DIBEV1    13470 non-null  float64\n",
      " 25  DIBPILL1  13470 non-null  float64\n",
      " 26  INSLN1    13470 non-null  float64\n",
      " 27  AHAYFYR   13470 non-null  float64\n",
      " 28  SINYR     13470 non-null  float64\n",
      " 29  CBRCHYR   13470 non-null  float64\n",
      " 30  KIDWKYR   13470 non-null  float64\n",
      " 31  LIVYR     13470 non-null  float64\n",
      " 32  ARTH1     13470 non-null  float64\n",
      " 33  PAINECK   13470 non-null  float64\n",
      " 34  PAINLB    13470 non-null  float64\n",
      " 35  PAINFACE  13470 non-null  float64\n",
      " 36  FLA1AR    13470 non-null  float64\n",
      " 37  CIGSDAY   13470 non-null  float64\n",
      " 38  VIG       13470 non-null  float64\n",
      " 39  MOD       13470 non-null  float64\n",
      " 40  ALC       13470 non-null  float64\n",
      " 41  APOX      13470 non-null  float64\n",
      " 42  AHEP      13470 non-null  float64\n",
      " 43  LIVEV     13470 non-null  float64\n",
      " 44  ASICPUSE  13470 non-null  float64\n",
      " 45  ASISLEEP  13470 non-null  float64\n",
      " 46  target    13470 non-null  int64  \n",
      "dtypes: float64(41), int64(6)\n",
      "memory usage: 4.8 MB\n"
     ]
    }
   ],
   "source": [
    "# Datos\n",
    "data = pd.read_csv(path_proc + \"data_clean.csv\")\n",
    "data.info()"
   ]
  },
  {
   "cell_type": "code",
   "execution_count": 4,
   "metadata": {},
   "outputs": [],
   "source": [
    "# Metadata\n",
    "meta = pd.read_csv(path_ext + \"feat_metadata.csv\", sep=\";\")"
   ]
  },
  {
   "cell_type": "markdown",
   "metadata": {},
   "source": [
    "## Variables dummy"
   ]
  },
  {
   "cell_type": "markdown",
   "metadata": {},
   "source": [
    "Se obtienen las variables *dummies* de las variables categóricas."
   ]
  },
  {
   "cell_type": "code",
   "execution_count": 5,
   "metadata": {},
   "outputs": [],
   "source": [
    "cat_features = list(meta.loc[meta.object == \"category\",\"code\"])\n",
    "cont_features = list(meta.loc[meta.object == \"float\",\"code\"])\n",
    "bool_features = list(meta.loc[meta.object == \"bool\",\"code\"])\n",
    "id_feature = [\"id\"]"
   ]
  },
  {
   "cell_type": "code",
   "execution_count": 6,
   "metadata": {},
   "outputs": [],
   "source": [
    "# Se convierten todas las variables categóricas a int\n",
    "data.loc[\n",
    "    :,\n",
    "    (data.columns.isin(cat_features) == True)\n",
    "    & (data.columns.isin(id_feature) == False),\n",
    "] = data.loc[\n",
    "    :,\n",
    "    (data.columns.isin(cat_features) == True)\n",
    "    & (data.columns.isin(id_feature) == False),\n",
    "].astype(\n",
    "    \"int32\"\n",
    ")\n",
    "# Se convierten todas las variables booleanas a int\n",
    "data.loc[\n",
    "    :,\n",
    "    (data.columns.isin(bool_features) == True)\n",
    "    & (data.columns.isin(id_feature) == False),\n",
    "] = data.loc[\n",
    "    :,\n",
    "    (data.columns.isin(bool_features) == True)\n",
    "    & (data.columns.isin(id_feature) == False),\n",
    "].astype(\n",
    "    \"int32\"\n",
    ")\n",
    "# Se convierten todas las variables contçinuas a float\n",
    "data.loc[\n",
    "    :,\n",
    "    (data.columns.isin(cont_features) == True)\n",
    "    & (data.columns.isin(id_feature) == False),\n",
    "] = data.loc[\n",
    "    :,\n",
    "    (data.columns.isin(cont_features) == True)\n",
    "    & (data.columns.isin(id_feature) == False),\n",
    "].astype(\n",
    "    \"float32\"\n",
    ")"
   ]
  },
  {
   "cell_type": "code",
   "execution_count": 7,
   "metadata": {},
   "outputs": [
    {
     "name": "stdout",
     "output_type": "stream",
     "text": [
      "<class 'pandas.core.frame.DataFrame'>\n",
      "RangeIndex: 13470 entries, 0 to 13469\n",
      "Data columns (total 47 columns):\n",
      " #   Column    Non-Null Count  Dtype  \n",
      "---  ------    --------------  -----  \n",
      " 0   id        13470 non-null  int64  \n",
      " 1   REGION    13470 non-null  int32  \n",
      " 2   SEX       13470 non-null  int32  \n",
      " 3   AHEIGHT   13470 non-null  float32\n",
      " 4   AWEIGHTP  13470 non-null  float32\n",
      " 5   BMI       13470 non-null  float32\n",
      " 6   AGE_P     13470 non-null  float32\n",
      " 7   RACERPI2  13470 non-null  int32  \n",
      " 8   R_MARITL  13470 non-null  int32  \n",
      " 9   DOINGLWA  13470 non-null  int32  \n",
      " 10  WRKLYR4   13470 non-null  int32  \n",
      " 11  HYPYR1    13470 non-null  int32  \n",
      " 12  HYPMED2   13470 non-null  int32  \n",
      " 13  CHLYR     13470 non-null  int32  \n",
      " 14  CHLMDNW2  13470 non-null  int32  \n",
      " 15  ANGEV     13470 non-null  int32  \n",
      " 16  MIEV      13470 non-null  int32  \n",
      " 17  HRTEV     13470 non-null  int32  \n",
      " 18  STREV     13470 non-null  int32  \n",
      " 19  EPHEV     13470 non-null  int32  \n",
      " 20  COPDEV    13470 non-null  int32  \n",
      " 21  ASP       13470 non-null  int32  \n",
      " 22  AASSTILL  13470 non-null  int32  \n",
      " 23  ULCYR     13470 non-null  int32  \n",
      " 24  DIBEV1    13470 non-null  int32  \n",
      " 25  DIBPILL1  13470 non-null  int32  \n",
      " 26  INSLN1    13470 non-null  int32  \n",
      " 27  AHAYFYR   13470 non-null  int32  \n",
      " 28  SINYR     13470 non-null  int32  \n",
      " 29  CBRCHYR   13470 non-null  int32  \n",
      " 30  KIDWKYR   13470 non-null  int32  \n",
      " 31  LIVYR     13470 non-null  int32  \n",
      " 32  ARTH1     13470 non-null  int32  \n",
      " 33  PAINECK   13470 non-null  int32  \n",
      " 34  PAINLB    13470 non-null  int32  \n",
      " 35  PAINFACE  13470 non-null  int32  \n",
      " 36  FLA1AR    13470 non-null  int32  \n",
      " 37  CIGSDAY   13470 non-null  float32\n",
      " 38  VIG       13470 non-null  float32\n",
      " 39  MOD       13470 non-null  float32\n",
      " 40  ALC       13470 non-null  float32\n",
      " 41  APOX      13470 non-null  int32  \n",
      " 42  AHEP      13470 non-null  int32  \n",
      " 43  LIVEV     13470 non-null  int32  \n",
      " 44  ASICPUSE  13470 non-null  int32  \n",
      " 45  ASISLEEP  13470 non-null  float32\n",
      " 46  target    13470 non-null  int32  \n",
      "dtypes: float32(9), int32(37), int64(1)\n",
      "memory usage: 2.5 MB\n"
     ]
    }
   ],
   "source": [
    "data.info()"
   ]
  },
  {
   "cell_type": "code",
   "execution_count": 8,
   "metadata": {},
   "outputs": [
    {
     "name": "stdout",
     "output_type": "stream",
     "text": [
      "<class 'pandas.core.frame.DataFrame'>\n",
      "RangeIndex: 13470 entries, 0 to 13469\n",
      "Data columns (total 5 columns):\n",
      " #   Column    Non-Null Count  Dtype\n",
      "---  ------    --------------  -----\n",
      " 0   REGION    13470 non-null  int32\n",
      " 1   SEX       13470 non-null  int32\n",
      " 2   RACERPI2  13470 non-null  int32\n",
      " 3   R_MARITL  13470 non-null  int32\n",
      " 4   ASICPUSE  13470 non-null  int32\n",
      "dtypes: int32(5)\n",
      "memory usage: 263.2 KB\n"
     ]
    }
   ],
   "source": [
    "# Selección de variables categóricas\n",
    "to_dummy = data.loc[:,data.columns.isin(cat_features) == True]\n",
    "to_dummy.info()"
   ]
  },
  {
   "cell_type": "code",
   "execution_count": 9,
   "metadata": {},
   "outputs": [],
   "source": [
    "# Se crean las variables dummies\n",
    "cat_dummy = pd.get_dummies(to_dummy.astype(str), drop_first=True)"
   ]
  },
  {
   "cell_type": "code",
   "execution_count": 10,
   "metadata": {},
   "outputs": [
    {
     "name": "stdout",
     "output_type": "stream",
     "text": [
      "<class 'pandas.core.frame.DataFrame'>\n",
      "RangeIndex: 13470 entries, 0 to 13469\n",
      "Data columns (total 58 columns):\n",
      " #   Column      Non-Null Count  Dtype  \n",
      "---  ------      --------------  -----  \n",
      " 0   id          13470 non-null  int64  \n",
      " 1   AHEIGHT     13470 non-null  float32\n",
      " 2   AWEIGHTP    13470 non-null  float32\n",
      " 3   BMI         13470 non-null  float32\n",
      " 4   AGE_P       13470 non-null  float32\n",
      " 5   CIGSDAY     13470 non-null  float32\n",
      " 6   VIG         13470 non-null  float32\n",
      " 7   MOD         13470 non-null  float32\n",
      " 8   ALC         13470 non-null  float32\n",
      " 9   ASISLEEP    13470 non-null  float32\n",
      " 10  DOINGLWA    13470 non-null  int32  \n",
      " 11  WRKLYR4     13470 non-null  int32  \n",
      " 12  HYPYR1      13470 non-null  int32  \n",
      " 13  HYPMED2     13470 non-null  int32  \n",
      " 14  CHLYR       13470 non-null  int32  \n",
      " 15  CHLMDNW2    13470 non-null  int32  \n",
      " 16  ANGEV       13470 non-null  int32  \n",
      " 17  MIEV        13470 non-null  int32  \n",
      " 18  HRTEV       13470 non-null  int32  \n",
      " 19  STREV       13470 non-null  int32  \n",
      " 20  EPHEV       13470 non-null  int32  \n",
      " 21  COPDEV      13470 non-null  int32  \n",
      " 22  ASP         13470 non-null  int32  \n",
      " 23  AASSTILL    13470 non-null  int32  \n",
      " 24  ULCYR       13470 non-null  int32  \n",
      " 25  DIBEV1      13470 non-null  int32  \n",
      " 26  DIBPILL1    13470 non-null  int32  \n",
      " 27  INSLN1      13470 non-null  int32  \n",
      " 28  AHAYFYR     13470 non-null  int32  \n",
      " 29  SINYR       13470 non-null  int32  \n",
      " 30  CBRCHYR     13470 non-null  int32  \n",
      " 31  KIDWKYR     13470 non-null  int32  \n",
      " 32  LIVYR       13470 non-null  int32  \n",
      " 33  ARTH1       13470 non-null  int32  \n",
      " 34  PAINECK     13470 non-null  int32  \n",
      " 35  PAINLB      13470 non-null  int32  \n",
      " 36  PAINFACE    13470 non-null  int32  \n",
      " 37  FLA1AR      13470 non-null  int32  \n",
      " 38  APOX        13470 non-null  int32  \n",
      " 39  AHEP        13470 non-null  int32  \n",
      " 40  LIVEV       13470 non-null  int32  \n",
      " 41  target      13470 non-null  int32  \n",
      " 42  REGION_2    13470 non-null  uint8  \n",
      " 43  REGION_3    13470 non-null  uint8  \n",
      " 44  REGION_4    13470 non-null  uint8  \n",
      " 45  SEX_2       13470 non-null  uint8  \n",
      " 46  RACERPI2_2  13470 non-null  uint8  \n",
      " 47  RACERPI2_3  13470 non-null  uint8  \n",
      " 48  RACERPI2_4  13470 non-null  uint8  \n",
      " 49  RACERPI2_5  13470 non-null  uint8  \n",
      " 50  RACERPI2_6  13470 non-null  uint8  \n",
      " 51  R_MARITL_2  13470 non-null  uint8  \n",
      " 52  R_MARITL_3  13470 non-null  uint8  \n",
      " 53  R_MARITL_4  13470 non-null  uint8  \n",
      " 54  R_MARITL_5  13470 non-null  uint8  \n",
      " 55  ASICPUSE_1  13470 non-null  uint8  \n",
      " 56  ASICPUSE_2  13470 non-null  uint8  \n",
      " 57  ASICPUSE_3  13470 non-null  uint8  \n",
      "dtypes: float32(9), int32(32), int64(1), uint8(16)\n",
      "memory usage: 2.4 MB\n"
     ]
    }
   ],
   "source": [
    "# Dataset para regresión\n",
    "data_dummy = pd.concat([data[[\"id\"]], data[cont_features], data[bool_features], cat_dummy], axis=1)\n",
    "data_dummy.info()"
   ]
  },
  {
   "cell_type": "code",
   "execution_count": 11,
   "metadata": {},
   "outputs": [],
   "source": [
    "data_dummy.to_csv(path_proc + \"data_dummy.csv\", index=False)"
   ]
  },
  {
   "cell_type": "markdown",
   "metadata": {},
   "source": [
    "## Datasets balanceado"
   ]
  },
  {
   "cell_type": "markdown",
   "metadata": {},
   "source": [
    "Se realizan 5 datasets, cada uno con distinto sampleo de la clase 0."
   ]
  },
  {
   "cell_type": "code",
   "execution_count": 12,
   "metadata": {},
   "outputs": [],
   "source": [
    "data_dummy = data_dummy.set_index(\"id\")"
   ]
  },
  {
   "cell_type": "code",
   "execution_count": 13,
   "metadata": {},
   "outputs": [
    {
     "name": "stdout",
     "output_type": "stream",
     "text": [
      "Casos positivos: 1528\n",
      "Casos negativos: 11942\n"
     ]
    }
   ],
   "source": [
    "# Casos target\n",
    "print(f\"Casos positivos: {len(data_dummy[data_dummy.target == 1])}\")\n",
    "print(f\"Casos negativos: {len(data_dummy[data_dummy.target == 0])}\")"
   ]
  },
  {
   "cell_type": "code",
   "execution_count": 14,
   "metadata": {},
   "outputs": [
    {
     "name": "stdout",
     "output_type": "stream",
     "text": [
      "Casos positivos: 1528\n",
      "Casos negativos: 1528\n"
     ]
    }
   ],
   "source": [
    "# Balanceo\n",
    "target1 = data_dummy[data_dummy.target == 1]\n",
    "target0 = data_dummy[data_dummy.target == 0].sample(n=1528, random_state=55)\n",
    "data_bal = pd.concat([target0,target1])\n",
    "# Casos target\n",
    "print(f\"Casos positivos: {len(data_bal[data_bal.target == 1])}\")\n",
    "print(f\"Casos negativos: {len(data_bal[data_bal.target == 0])}\")\n",
    "data_bal.to_csv(f\"{path_proc}data_bal.csv\", index=True)"
   ]
  },
  {
   "cell_type": "code",
   "execution_count": 16,
   "metadata": {},
   "outputs": [],
   "source": [
    "data_bal.to_csv(path_proc + \"data_bal_dummy.csv\", index=False)"
   ]
  },
  {
   "cell_type": "markdown",
   "metadata": {},
   "source": [
    "### Separación dev-test"
   ]
  },
  {
   "cell_type": "code",
   "execution_count": 17,
   "metadata": {},
   "outputs": [],
   "source": [
    "X_dev, X_test = train_test_split(data_bal, test_size=0.2, random_state=55)"
   ]
  },
  {
   "cell_type": "code",
   "execution_count": 18,
   "metadata": {},
   "outputs": [],
   "source": [
    "X_dev.to_csv(path_proc + \"data_bal_dummy_dev.csv\")\n",
    "X_test.to_csv(path_proc + \"data_bal_dummy_test.csv\")"
   ]
  },
  {
   "cell_type": "markdown",
   "metadata": {},
   "source": [
    "### Separación train-val"
   ]
  },
  {
   "cell_type": "code",
   "execution_count": 19,
   "metadata": {},
   "outputs": [
    {
     "name": "stdout",
     "output_type": "stream",
     "text": [
      "Random State: 55\n",
      "Random State: 110\n",
      "Random State: 165\n",
      "Random State: 220\n",
      "Random State: 275\n"
     ]
    }
   ],
   "source": [
    "i = 1\n",
    "while i < 6:\n",
    "    print(f\"Random State: {55*i}\")\n",
    "    X_train, X_val = train_test_split(X_dev, test_size=0.2, random_state=55*i)\n",
    "    X_train.to_csv(f\"{path_proc}data_bal_dummy_train{i}.csv\")\n",
    "    X_val.to_csv(f\"{path_proc}data_bal_dummy_val{i}.csv\")\n",
    "    i = i+1"
   ]
  },
  {
   "cell_type": "code",
   "execution_count": null,
   "metadata": {},
   "outputs": [],
   "source": []
  }
 ],
 "metadata": {
  "kernelspec": {
   "display_name": "Python 3",
   "language": "python",
   "name": "python3"
  },
  "language_info": {
   "codemirror_mode": {
    "name": "ipython",
    "version": 3
   },
   "file_extension": ".py",
   "mimetype": "text/x-python",
   "name": "python",
   "nbconvert_exporter": "python",
   "pygments_lexer": "ipython3",
   "version": "3.7.6"
  }
 },
 "nbformat": 4,
 "nbformat_minor": 4
}
