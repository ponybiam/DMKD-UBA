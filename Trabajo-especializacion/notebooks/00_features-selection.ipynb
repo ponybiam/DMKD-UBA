{
 "cells": [
  {
   "cell_type": "markdown",
   "metadata": {},
   "source": [
    "# Creación del dataset"
   ]
  },
  {
   "cell_type": "code",
   "execution_count": 1,
   "metadata": {},
   "outputs": [],
   "source": [
    "import pandas as pd\n",
    "import numpy as np"
   ]
  },
  {
   "cell_type": "code",
   "execution_count": 2,
   "metadata": {},
   "outputs": [],
   "source": [
    "path_original = \"..\\\\data\\\\original\\\\\"\n",
    "path_proc =  \"..\\\\data\\\\processed\\\\\"\n",
    "path_ext = \"..\\\\data\\\\external\\\\\""
   ]
  },
  {
   "cell_type": "markdown",
   "metadata": {},
   "source": [
    "## Selección de variables"
   ]
  },
  {
   "cell_type": "code",
   "execution_count": 3,
   "metadata": {},
   "outputs": [],
   "source": [
    "# Lista de variables seleccionadas\n",
    "sel = pd.read_csv(path_ext + \"feat_selection.csv\")\n",
    "# Convertir a lists\n",
    "sel = sel.Features.values.tolist()"
   ]
  },
  {
   "cell_type": "code",
   "execution_count": 4,
   "metadata": {},
   "outputs": [
    {
     "data": {
      "text/plain": [
       "58"
      ]
     },
     "execution_count": 4,
     "metadata": {},
     "output_type": "execute_result"
    }
   ],
   "source": [
    "len(sel)"
   ]
  },
  {
   "cell_type": "code",
   "execution_count": 5,
   "metadata": {},
   "outputs": [
    {
     "data": {
      "text/html": [
       "<div>\n",
       "<style scoped>\n",
       "    .dataframe tbody tr th:only-of-type {\n",
       "        vertical-align: middle;\n",
       "    }\n",
       "\n",
       "    .dataframe tbody tr th {\n",
       "        vertical-align: top;\n",
       "    }\n",
       "\n",
       "    .dataframe thead th {\n",
       "        text-align: right;\n",
       "    }\n",
       "</style>\n",
       "<table border=\"1\" class=\"dataframe\">\n",
       "  <thead>\n",
       "    <tr style=\"text-align: right;\">\n",
       "      <th></th>\n",
       "      <th>FPX</th>\n",
       "      <th>FMX</th>\n",
       "      <th>HHX</th>\n",
       "      <th>INTV_QRT</th>\n",
       "      <th>WTIA_SA</th>\n",
       "      <th>WTFA_SA</th>\n",
       "      <th>SEX</th>\n",
       "      <th>HISPAN_I</th>\n",
       "      <th>R_MARITL</th>\n",
       "      <th>MRACRPI2</th>\n",
       "      <th>...</th>\n",
       "      <th>DEP_2</th>\n",
       "      <th>PAIN_4</th>\n",
       "      <th>TIRED_1</th>\n",
       "      <th>TIRED_2</th>\n",
       "      <th>TIRED_3</th>\n",
       "      <th>RCS_AFD</th>\n",
       "      <th>PAIN_2A</th>\n",
       "      <th>ANX_3R</th>\n",
       "      <th>DEP_3R</th>\n",
       "      <th>COGCAUS2</th>\n",
       "    </tr>\n",
       "  </thead>\n",
       "  <tbody>\n",
       "    <tr>\n",
       "      <th>0</th>\n",
       "      <td>1</td>\n",
       "      <td>1</td>\n",
       "      <td>1</td>\n",
       "      <td>1</td>\n",
       "      <td>4228.8</td>\n",
       "      <td>3915</td>\n",
       "      <td>2</td>\n",
       "      <td>12</td>\n",
       "      <td>4</td>\n",
       "      <td>1</td>\n",
       "      <td>...</td>\n",
       "      <td>2</td>\n",
       "      <td>NaN</td>\n",
       "      <td>1</td>\n",
       "      <td>NaN</td>\n",
       "      <td>NaN</td>\n",
       "      <td>4</td>\n",
       "      <td>1</td>\n",
       "      <td>1.0</td>\n",
       "      <td>NaN</td>\n",
       "      <td>NaN</td>\n",
       "    </tr>\n",
       "    <tr>\n",
       "      <th>1</th>\n",
       "      <td>1</td>\n",
       "      <td>1</td>\n",
       "      <td>6</td>\n",
       "      <td>1</td>\n",
       "      <td>14650.9</td>\n",
       "      <td>16978</td>\n",
       "      <td>1</td>\n",
       "      <td>12</td>\n",
       "      <td>1</td>\n",
       "      <td>1</td>\n",
       "      <td>...</td>\n",
       "      <td>2</td>\n",
       "      <td>NaN</td>\n",
       "      <td>2</td>\n",
       "      <td>1.0</td>\n",
       "      <td>2.0</td>\n",
       "      <td>4</td>\n",
       "      <td>1</td>\n",
       "      <td>2.0</td>\n",
       "      <td>1.0</td>\n",
       "      <td>NaN</td>\n",
       "    </tr>\n",
       "    <tr>\n",
       "      <th>2</th>\n",
       "      <td>1</td>\n",
       "      <td>1</td>\n",
       "      <td>8</td>\n",
       "      <td>1</td>\n",
       "      <td>7066.1</td>\n",
       "      <td>10385</td>\n",
       "      <td>1</td>\n",
       "      <td>12</td>\n",
       "      <td>1</td>\n",
       "      <td>1</td>\n",
       "      <td>...</td>\n",
       "      <td>2</td>\n",
       "      <td>3.0</td>\n",
       "      <td>2</td>\n",
       "      <td>2.0</td>\n",
       "      <td>3.0</td>\n",
       "      <td>4</td>\n",
       "      <td>4</td>\n",
       "      <td>NaN</td>\n",
       "      <td>NaN</td>\n",
       "      <td>NaN</td>\n",
       "    </tr>\n",
       "    <tr>\n",
       "      <th>3</th>\n",
       "      <td>1</td>\n",
       "      <td>1</td>\n",
       "      <td>9</td>\n",
       "      <td>1</td>\n",
       "      <td>4497.5</td>\n",
       "      <td>3958</td>\n",
       "      <td>1</td>\n",
       "      <td>12</td>\n",
       "      <td>4</td>\n",
       "      <td>11</td>\n",
       "      <td>...</td>\n",
       "      <td>2</td>\n",
       "      <td>2.0</td>\n",
       "      <td>2</td>\n",
       "      <td>1.0</td>\n",
       "      <td>3.0</td>\n",
       "      <td>4</td>\n",
       "      <td>4</td>\n",
       "      <td>2.0</td>\n",
       "      <td>3.0</td>\n",
       "      <td>7.0</td>\n",
       "    </tr>\n",
       "    <tr>\n",
       "      <th>4</th>\n",
       "      <td>1</td>\n",
       "      <td>1</td>\n",
       "      <td>10</td>\n",
       "      <td>1</td>\n",
       "      <td>5594.0</td>\n",
       "      <td>6483</td>\n",
       "      <td>1</td>\n",
       "      <td>12</td>\n",
       "      <td>1</td>\n",
       "      <td>1</td>\n",
       "      <td>...</td>\n",
       "      <td>2</td>\n",
       "      <td>1.0</td>\n",
       "      <td>1</td>\n",
       "      <td>NaN</td>\n",
       "      <td>NaN</td>\n",
       "      <td>4</td>\n",
       "      <td>4</td>\n",
       "      <td>3.0</td>\n",
       "      <td>NaN</td>\n",
       "      <td>NaN</td>\n",
       "    </tr>\n",
       "  </tbody>\n",
       "</table>\n",
       "<p>5 rows × 742 columns</p>\n",
       "</div>"
      ],
      "text/plain": [
       "   FPX  FMX  HHX  INTV_QRT  WTIA_SA  WTFA_SA  SEX  HISPAN_I  R_MARITL  \\\n",
       "0    1    1    1         1   4228.8     3915    2        12         4   \n",
       "1    1    1    6         1  14650.9    16978    1        12         1   \n",
       "2    1    1    8         1   7066.1    10385    1        12         1   \n",
       "3    1    1    9         1   4497.5     3958    1        12         4   \n",
       "4    1    1   10         1   5594.0     6483    1        12         1   \n",
       "\n",
       "   MRACRPI2  ...  DEP_2  PAIN_4  TIRED_1  TIRED_2  TIRED_3  RCS_AFD  PAIN_2A  \\\n",
       "0         1  ...      2     NaN        1      NaN      NaN        4        1   \n",
       "1         1  ...      2     NaN        2      1.0      2.0        4        1   \n",
       "2         1  ...      2     3.0        2      2.0      3.0        4        4   \n",
       "3        11  ...      2     2.0        2      1.0      3.0        4        4   \n",
       "4         1  ...      2     1.0        1      NaN      NaN        4        4   \n",
       "\n",
       "   ANX_3R  DEP_3R  COGCAUS2  \n",
       "0     1.0     NaN       NaN  \n",
       "1     2.0     1.0       NaN  \n",
       "2     NaN     NaN       NaN  \n",
       "3     2.0     3.0       7.0  \n",
       "4     3.0     NaN       NaN  \n",
       "\n",
       "[5 rows x 742 columns]"
      ]
     },
     "execution_count": 5,
     "metadata": {},
     "output_type": "execute_result"
    }
   ],
   "source": [
    "# Dataset de trabajo\n",
    "data = pd.read_csv(path_original + \"data_original.csv\")\n",
    "data.head()"
   ]
  },
  {
   "cell_type": "code",
   "execution_count": 6,
   "metadata": {},
   "outputs": [
    {
     "data": {
      "text/html": [
       "<div>\n",
       "<style scoped>\n",
       "    .dataframe tbody tr th:only-of-type {\n",
       "        vertical-align: middle;\n",
       "    }\n",
       "\n",
       "    .dataframe tbody tr th {\n",
       "        vertical-align: top;\n",
       "    }\n",
       "\n",
       "    .dataframe thead th {\n",
       "        text-align: right;\n",
       "    }\n",
       "</style>\n",
       "<table border=\"1\" class=\"dataframe\">\n",
       "  <thead>\n",
       "    <tr style=\"text-align: right;\">\n",
       "      <th></th>\n",
       "      <th>SRVY_YR</th>\n",
       "      <th>HHX</th>\n",
       "      <th>FMX</th>\n",
       "      <th>FPX</th>\n",
       "      <th>REGION</th>\n",
       "      <th>SEX</th>\n",
       "      <th>RACERPI2</th>\n",
       "      <th>AGE_P</th>\n",
       "      <th>R_MARITL</th>\n",
       "      <th>DOINGLWA</th>\n",
       "      <th>...</th>\n",
       "      <th>AHEIGHT</th>\n",
       "      <th>AWEIGHTP</th>\n",
       "      <th>BMI</th>\n",
       "      <th>APOX</th>\n",
       "      <th>AHEP</th>\n",
       "      <th>LIVEV</th>\n",
       "      <th>ASICPUSE</th>\n",
       "      <th>ASISLEEP</th>\n",
       "      <th>PROXYSA</th>\n",
       "      <th>AFLHC29_</th>\n",
       "    </tr>\n",
       "  </thead>\n",
       "  <tbody>\n",
       "    <tr>\n",
       "      <th>0</th>\n",
       "      <td>2018</td>\n",
       "      <td>1</td>\n",
       "      <td>1</td>\n",
       "      <td>1</td>\n",
       "      <td>3</td>\n",
       "      <td>2</td>\n",
       "      <td>1</td>\n",
       "      <td>79</td>\n",
       "      <td>4</td>\n",
       "      <td>5</td>\n",
       "      <td>...</td>\n",
       "      <td>62</td>\n",
       "      <td>129</td>\n",
       "      <td>2358</td>\n",
       "      <td>1</td>\n",
       "      <td>2</td>\n",
       "      <td>2</td>\n",
       "      <td>1</td>\n",
       "      <td>8</td>\n",
       "      <td>2</td>\n",
       "      <td>2.0</td>\n",
       "    </tr>\n",
       "    <tr>\n",
       "      <th>1</th>\n",
       "      <td>2018</td>\n",
       "      <td>6</td>\n",
       "      <td>1</td>\n",
       "      <td>1</td>\n",
       "      <td>3</td>\n",
       "      <td>1</td>\n",
       "      <td>1</td>\n",
       "      <td>37</td>\n",
       "      <td>1</td>\n",
       "      <td>1</td>\n",
       "      <td>...</td>\n",
       "      <td>71</td>\n",
       "      <td>235</td>\n",
       "      <td>3279</td>\n",
       "      <td>1</td>\n",
       "      <td>2</td>\n",
       "      <td>2</td>\n",
       "      <td>4</td>\n",
       "      <td>5</td>\n",
       "      <td>2</td>\n",
       "      <td>NaN</td>\n",
       "    </tr>\n",
       "    <tr>\n",
       "      <th>2</th>\n",
       "      <td>2018</td>\n",
       "      <td>8</td>\n",
       "      <td>1</td>\n",
       "      <td>1</td>\n",
       "      <td>2</td>\n",
       "      <td>1</td>\n",
       "      <td>1</td>\n",
       "      <td>29</td>\n",
       "      <td>1</td>\n",
       "      <td>1</td>\n",
       "      <td>...</td>\n",
       "      <td>96</td>\n",
       "      <td>996</td>\n",
       "      <td>4363</td>\n",
       "      <td>1</td>\n",
       "      <td>2</td>\n",
       "      <td>2</td>\n",
       "      <td>4</td>\n",
       "      <td>7</td>\n",
       "      <td>2</td>\n",
       "      <td>NaN</td>\n",
       "    </tr>\n",
       "    <tr>\n",
       "      <th>3</th>\n",
       "      <td>2018</td>\n",
       "      <td>9</td>\n",
       "      <td>1</td>\n",
       "      <td>1</td>\n",
       "      <td>3</td>\n",
       "      <td>1</td>\n",
       "      <td>4</td>\n",
       "      <td>75</td>\n",
       "      <td>4</td>\n",
       "      <td>5</td>\n",
       "      <td>...</td>\n",
       "      <td>66</td>\n",
       "      <td>138</td>\n",
       "      <td>2229</td>\n",
       "      <td>1</td>\n",
       "      <td>2</td>\n",
       "      <td>2</td>\n",
       "      <td>1</td>\n",
       "      <td>5</td>\n",
       "      <td>2</td>\n",
       "      <td>2.0</td>\n",
       "    </tr>\n",
       "    <tr>\n",
       "      <th>4</th>\n",
       "      <td>2018</td>\n",
       "      <td>10</td>\n",
       "      <td>1</td>\n",
       "      <td>1</td>\n",
       "      <td>1</td>\n",
       "      <td>1</td>\n",
       "      <td>1</td>\n",
       "      <td>39</td>\n",
       "      <td>1</td>\n",
       "      <td>1</td>\n",
       "      <td>...</td>\n",
       "      <td>71</td>\n",
       "      <td>170</td>\n",
       "      <td>2372</td>\n",
       "      <td>1</td>\n",
       "      <td>2</td>\n",
       "      <td>2</td>\n",
       "      <td>4</td>\n",
       "      <td>8</td>\n",
       "      <td>2</td>\n",
       "      <td>2.0</td>\n",
       "    </tr>\n",
       "  </tbody>\n",
       "</table>\n",
       "<p>5 rows × 58 columns</p>\n",
       "</div>"
      ],
      "text/plain": [
       "   SRVY_YR  HHX  FMX  FPX  REGION  SEX  RACERPI2  AGE_P  R_MARITL  DOINGLWA  \\\n",
       "0     2018    1    1    1       3    2         1     79         4         5   \n",
       "1     2018    6    1    1       3    1         1     37         1         1   \n",
       "2     2018    8    1    1       2    1         1     29         1         1   \n",
       "3     2018    9    1    1       3    1         4     75         4         5   \n",
       "4     2018   10    1    1       1    1         1     39         1         1   \n",
       "\n",
       "   ...  AHEIGHT  AWEIGHTP   BMI  APOX  AHEP  LIVEV  ASICPUSE  ASISLEEP  \\\n",
       "0  ...       62       129  2358     1     2      2         1         8   \n",
       "1  ...       71       235  3279     1     2      2         4         5   \n",
       "2  ...       96       996  4363     1     2      2         4         7   \n",
       "3  ...       66       138  2229     1     2      2         1         5   \n",
       "4  ...       71       170  2372     1     2      2         4         8   \n",
       "\n",
       "   PROXYSA  AFLHC29_  \n",
       "0        2       2.0  \n",
       "1        2       NaN  \n",
       "2        2       NaN  \n",
       "3        2       2.0  \n",
       "4        2       2.0  \n",
       "\n",
       "[5 rows x 58 columns]"
      ]
     },
     "execution_count": 6,
     "metadata": {},
     "output_type": "execute_result"
    }
   ],
   "source": [
    "# Selección de variables\n",
    "data = data[sel]\n",
    "data.head()"
   ]
  },
  {
   "cell_type": "markdown",
   "metadata": {},
   "source": [
    "## Creación de variable ID"
   ]
  },
  {
   "cell_type": "markdown",
   "metadata": {},
   "source": [
    "El ID único de cada individuo se crea mediante la concatenación de los siguientes campos:\n",
    "<ul>\n",
    "    <li><strike><b>SRVY_YR:</b> año de la encuesta</strike></li>\n",
    "    <li><b>HHX:</b> número de vivienda</li>\n",
    "    <li><b>FMX:</b> número de familia</li>\n",
    "    <li><b>FPX:</b> número de inviduo dentro de la familia</li>\n",
    "</ul>\n",
    "(mientras sean datos de un único año no se usará el año como ID)"
   ]
  },
  {
   "cell_type": "code",
   "execution_count": 7,
   "metadata": {},
   "outputs": [],
   "source": [
    "# data[\"id\"] = data[\"SRVY_YR\"].astype(str) + data[\"HHX\"].astype(str) + data[\"FMX\"].astype(str) + data[\"FPX\"].astype(str)"
   ]
  },
  {
   "cell_type": "code",
   "execution_count": 8,
   "metadata": {},
   "outputs": [],
   "source": [
    "# Nuevo Id\n",
    "data[\"id\"] = data[\"HHX\"].astype(str) + data[\"FMX\"].astype(str) + data[\"FPX\"].astype(str)\n",
    "# Se descartan las variables usadas\n",
    "data = data.drop([\"SRVY_YR\",\"HHX\",\"FMX\",\"FPX\"], axis=1)"
   ]
  },
  {
   "cell_type": "code",
   "execution_count": 9,
   "metadata": {},
   "outputs": [
    {
     "name": "stdout",
     "output_type": "stream",
     "text": [
      "Cantidad de registros: 25417\n",
      "Cantidad de id únicos: 25417\n"
     ]
    }
   ],
   "source": [
    "# Chequea que sean valores únicos\n",
    "print(\"Cantidad de registros: \" + str(data.shape[0]))\n",
    "print(\"Cantidad de id únicos: \" + str(len(np.unique(data[\"id\"]))))"
   ]
  },
  {
   "cell_type": "markdown",
   "metadata": {},
   "source": [
    "## Variable Target"
   ]
  },
  {
   "cell_type": "markdown",
   "metadata": {},
   "source": [
    "La variable target es **AMIGR**: \"¿ha padecido migraña o cefaleas severas en los últimos 3 meses?\". Los registros con valores 7 (se rehusa a responder), 8 (no corresponde) y 9 (no sabe responder) en esta variable son removidos. Los valores 2 (no) se cambian a 0."
   ]
  },
  {
   "cell_type": "code",
   "execution_count": 10,
   "metadata": {},
   "outputs": [],
   "source": [
    "data = data[(data[\"AMIGR\"] == 1) | (data[\"AMIGR\"] == 2)]"
   ]
  },
  {
   "cell_type": "code",
   "execution_count": 11,
   "metadata": {},
   "outputs": [],
   "source": [
    "data.loc[(data[\"AMIGR\"] == 2),\"AMIGR\"] = 0"
   ]
  },
  {
   "cell_type": "code",
   "execution_count": 12,
   "metadata": {},
   "outputs": [
    {
     "name": "stdout",
     "output_type": "stream",
     "text": [
      "Cantidad de registros: 25403\n",
      "Cantidad de columnas: 55\n"
     ]
    }
   ],
   "source": [
    "print(\"Cantidad de registros: \" + str(data.shape[0]))\n",
    "print(\"Cantidad de columnas: \" + str(data.shape[1]))"
   ]
  },
  {
   "cell_type": "code",
   "execution_count": 13,
   "metadata": {},
   "outputs": [
    {
     "data": {
      "text/plain": [
       "array([0, 1], dtype=int64)"
      ]
     },
     "execution_count": 13,
     "metadata": {},
     "output_type": "execute_result"
    }
   ],
   "source": [
    "# Chequea categorías\n",
    "data.AMIGR.unique()"
   ]
  },
  {
   "cell_type": "code",
   "execution_count": 14,
   "metadata": {},
   "outputs": [],
   "source": [
    "# Rename target\n",
    "data = data.rename(columns={\"AMIGR\":\"target\"})"
   ]
  },
  {
   "cell_type": "code",
   "execution_count": 15,
   "metadata": {},
   "outputs": [
    {
     "name": "stdout",
     "output_type": "stream",
     "text": [
      "<class 'pandas.core.frame.DataFrame'>\n",
      "Int64Index: 25403 entries, 0 to 25416\n",
      "Data columns (total 55 columns):\n",
      " #   Column    Non-Null Count  Dtype  \n",
      "---  ------    --------------  -----  \n",
      " 0   REGION    25403 non-null  int64  \n",
      " 1   SEX       25403 non-null  int64  \n",
      " 2   RACERPI2  25403 non-null  int64  \n",
      " 3   AGE_P     25403 non-null  int64  \n",
      " 4   R_MARITL  25403 non-null  int64  \n",
      " 5   DOINGLWA  25403 non-null  int64  \n",
      " 6   WRKLYR4   25403 non-null  int64  \n",
      " 7   HYPYR1    8045 non-null   float64\n",
      " 8   HYPMED2   8225 non-null   float64\n",
      " 9   CHLYR     7921 non-null   float64\n",
      " 10  CHLMDNW2  5969 non-null   float64\n",
      " 11  ANGEV     25403 non-null  int64  \n",
      " 12  MIEV      25403 non-null  int64  \n",
      " 13  HRTEV     25403 non-null  int64  \n",
      " 14  STREV     25403 non-null  int64  \n",
      " 15  EPHEV     25403 non-null  int64  \n",
      " 16  COPDEV    25403 non-null  int64  \n",
      " 17  ASPMEDAD  5954 non-null   float64\n",
      " 18  ASPONOWN  11692 non-null  float64\n",
      " 19  AASSTILL  3444 non-null   float64\n",
      " 20  ULCYR     1795 non-null   float64\n",
      " 21  CANEV     25403 non-null  int64  \n",
      " 22  DIBEV1    25403 non-null  int64  \n",
      " 23  DIBPILL1  4768 non-null   float64\n",
      " 24  INSLN1    4768 non-null   float64\n",
      " 25  AHAYFYR   25403 non-null  int64  \n",
      " 26  SINYR     25403 non-null  int64  \n",
      " 27  CBRCHYR   25403 non-null  int64  \n",
      " 28  KIDWKYR   25403 non-null  int64  \n",
      " 29  LIVYR     25403 non-null  int64  \n",
      " 30  ARTH1     25403 non-null  int64  \n",
      " 31  PAINECK   25403 non-null  int64  \n",
      " 32  PAINLB    25403 non-null  int64  \n",
      " 33  PAINFACE  25403 non-null  int64  \n",
      " 34  target    25403 non-null  int64  \n",
      " 35  PREGNOW   6115 non-null   float64\n",
      " 36  FLA1AR    25403 non-null  int64  \n",
      " 37  CIGSDAY   3708 non-null   float64\n",
      " 38  VIGFREQW  25403 non-null  int64  \n",
      " 39  VIGMIN    12003 non-null  float64\n",
      " 40  MODFREQW  25403 non-null  int64  \n",
      " 41  MODMIN    16099 non-null  float64\n",
      " 42  ALC12MWK  20744 non-null  float64\n",
      " 43  ALCAMT    16595 non-null  float64\n",
      " 44  AHEIGHT   25403 non-null  int64  \n",
      " 45  AWEIGHTP  25403 non-null  int64  \n",
      " 46  BMI       25403 non-null  int64  \n",
      " 47  APOX      25403 non-null  int64  \n",
      " 48  AHEP      25403 non-null  int64  \n",
      " 49  LIVEV     25403 non-null  int64  \n",
      " 50  ASICPUSE  25403 non-null  int64  \n",
      " 51  ASISLEEP  25403 non-null  int64  \n",
      " 52  PROXYSA   25403 non-null  int64  \n",
      " 53  AFLHC29_  10869 non-null  float64\n",
      " 54  id        25403 non-null  object \n",
      "dtypes: float64(17), int64(37), object(1)\n",
      "memory usage: 10.9+ MB\n"
     ]
    }
   ],
   "source": [
    "data.info()"
   ]
  },
  {
   "cell_type": "markdown",
   "metadata": {},
   "source": [
    "## Selección de la población de estudio"
   ]
  },
  {
   "cell_type": "markdown",
   "metadata": {},
   "source": [
    "El dataset a utilizar contiene la información relevada de adultos mayores de 18 años. Se considerarán sólo los pacientes que:\n",
    "<ul>\n",
    "    <li>No padezcan enfermedades mentales graves que provoquen la pérdida del contacto con la realidad, tales como esquizofrenia</li>\n",
    "    <li>No padezcan sindromes que deterioren las capacidades psíquicas, tales como la demencia senil</li>\n",
    "    <li>No padezcan cáncer al momento de la encuesta</li>\n",
    "    <li>No se encuentren embarazadas</li>\n",
    "    <li>No padezcan addicción a sustancias de abuso como alcohol o drogas</li>\n",
    "</ul>\n",
    "Se utilzan las siguientes variables para filtrar la población de estudio:\n",
    "<ul>\n",
    "    <li>Conservar CANEV == 2. Pacientes que nunca hayan sido diagnosticados con cáncer.</li>\n",
    "    <li>Descartar PREGNOW == 1. Pacientes actualmente embarazadas.</li>\n",
    "    <li>Descartar PROXYSA == 1. Pacientes con discapacidad física o mental que les prohíbe responder la encuesta\n",
    "        por sí mismos.</li>\n",
    "    <li>Descartar AFLHC29_ == 1, 2 y 7. Pacientes con algún tipo de limitación física como consecuencia del uso de alcohol o drogas.\n",
    "</ul>"
   ]
  },
  {
   "cell_type": "code",
   "execution_count": 16,
   "metadata": {},
   "outputs": [],
   "source": [
    "# Filtrado\n",
    "data = data[(data[\"CANEV\"] == 2) & (data[\"PREGNOW\"] != 1) & (data[\"PROXYSA\"] != 1) & (data[\"AFLHC29_\"].isin([1,2,7]) == False)]"
   ]
  },
  {
   "cell_type": "code",
   "execution_count": 17,
   "metadata": {},
   "outputs": [],
   "source": [
    "# Descarta variables usadas\n",
    "data = data.drop([\"CANEV\",\"PREGNOW\",\"PROXYSA\",\"AFLHC29_\"], axis=1)"
   ]
  },
  {
   "cell_type": "code",
   "execution_count": 18,
   "metadata": {},
   "outputs": [
    {
     "name": "stdout",
     "output_type": "stream",
     "text": [
      "Cantidad de registros: 13479\n",
      "Cantidad de columnas: 51\n"
     ]
    }
   ],
   "source": [
    "print(\"Cantidad de registros: \" + str(data.shape[0]))\n",
    "print(\"Cantidad de columnas: \" + str(data.shape[1]))"
   ]
  },
  {
   "cell_type": "markdown",
   "metadata": {
    "toc-hr-collapsed": false
   },
   "source": [
    "## Recodificación de variables"
   ]
  },
  {
   "cell_type": "markdown",
   "metadata": {},
   "source": [
    "### Estado civil"
   ]
  },
  {
   "cell_type": "code",
   "execution_count": 19,
   "metadata": {},
   "outputs": [
    {
     "data": {
      "text/html": [
       "<div>\n",
       "<style scoped>\n",
       "    .dataframe tbody tr th:only-of-type {\n",
       "        vertical-align: middle;\n",
       "    }\n",
       "\n",
       "    .dataframe tbody tr th {\n",
       "        vertical-align: top;\n",
       "    }\n",
       "\n",
       "    .dataframe thead th {\n",
       "        text-align: right;\n",
       "    }\n",
       "</style>\n",
       "<table border=\"1\" class=\"dataframe\">\n",
       "  <thead>\n",
       "    <tr style=\"text-align: right;\">\n",
       "      <th></th>\n",
       "      <th>REGION</th>\n",
       "      <th>SEX</th>\n",
       "      <th>RACERPI2</th>\n",
       "      <th>AGE_P</th>\n",
       "      <th>R_MARITL</th>\n",
       "      <th>DOINGLWA</th>\n",
       "      <th>WRKLYR4</th>\n",
       "      <th>HYPYR1</th>\n",
       "      <th>HYPMED2</th>\n",
       "      <th>CHLYR</th>\n",
       "      <th>...</th>\n",
       "      <th>ALCAMT</th>\n",
       "      <th>AHEIGHT</th>\n",
       "      <th>AWEIGHTP</th>\n",
       "      <th>BMI</th>\n",
       "      <th>APOX</th>\n",
       "      <th>AHEP</th>\n",
       "      <th>LIVEV</th>\n",
       "      <th>ASICPUSE</th>\n",
       "      <th>ASISLEEP</th>\n",
       "      <th>id</th>\n",
       "    </tr>\n",
       "  </thead>\n",
       "  <tbody>\n",
       "  </tbody>\n",
       "</table>\n",
       "<p>0 rows × 51 columns</p>\n",
       "</div>"
      ],
      "text/plain": [
       "Empty DataFrame\n",
       "Columns: [REGION, SEX, RACERPI2, AGE_P, R_MARITL, DOINGLWA, WRKLYR4, HYPYR1, HYPMED2, CHLYR, CHLMDNW2, ANGEV, MIEV, HRTEV, STREV, EPHEV, COPDEV, ASPMEDAD, ASPONOWN, AASSTILL, ULCYR, DIBEV1, DIBPILL1, INSLN1, AHAYFYR, SINYR, CBRCHYR, KIDWKYR, LIVYR, ARTH1, PAINECK, PAINLB, PAINFACE, target, FLA1AR, CIGSDAY, VIGFREQW, VIGMIN, MODFREQW, MODMIN, ALC12MWK, ALCAMT, AHEIGHT, AWEIGHTP, BMI, APOX, AHEP, LIVEV, ASICPUSE, ASISLEEP, id]\n",
       "Index: []\n",
       "\n",
       "[0 rows x 51 columns]"
      ]
     },
     "execution_count": 19,
     "metadata": {},
     "output_type": "execute_result"
    }
   ],
   "source": [
    "# 0: menor de 14 años. No debería haber\n",
    "data[data[\"R_MARITL\"] == 0]"
   ]
  },
  {
   "cell_type": "code",
   "execution_count": 20,
   "metadata": {},
   "outputs": [],
   "source": [
    "# 1-2-3 => 1 (casado)\n",
    "data.loc[((data[\"R_MARITL\"] == 1) | (data[\"R_MARITL\"] == 2) | (data[\"R_MARITL\"] == 3)), \"R_MARITL\"] = np.int(1)\n",
    "# 4 => 2 (viudo)\n",
    "data.loc[data[\"R_MARITL\"] == 4, \"R_MARITL\"] = np.int(2)\n",
    "# 5-6 => 3 (separado)\n",
    "data.loc[((data[\"R_MARITL\"] == 5) | (data[\"R_MARITL\"] == 6)), \"R_MARITL\"] = np.int(3)\n",
    "# 7 => 4 (soltero)\n",
    "data.loc[data[\"R_MARITL\"] == 7, \"R_MARITL\"] = np.int(4)\n",
    "# 8 => 5 (en pareja)\n",
    "data.loc[data[\"R_MARITL\"] == 8, \"R_MARITL\"] = np.int(5)\n",
    "# 9 => NaN (desconocido)\n",
    "data.loc[data[\"R_MARITL\"] == 9, \"R_MARITL\"] = np.nan"
   ]
  },
  {
   "cell_type": "code",
   "execution_count": 21,
   "metadata": {},
   "outputs": [
    {
     "data": {
      "text/plain": [
       "array([ 1.,  3.,  4.,  5.,  2., nan])"
      ]
     },
     "execution_count": 21,
     "metadata": {},
     "output_type": "execute_result"
    }
   ],
   "source": [
    "# Chequea categorías\n",
    "data.R_MARITL.unique()"
   ]
  },
  {
   "cell_type": "markdown",
   "metadata": {
    "toc-hr-collapsed": true
   },
   "source": [
    "### Situación laboral"
   ]
  },
  {
   "cell_type": "markdown",
   "metadata": {},
   "source": [
    "#### Actual"
   ]
  },
  {
   "cell_type": "markdown",
   "metadata": {},
   "source": [
    "¿Tiene trabajo actualmente?"
   ]
  },
  {
   "cell_type": "code",
   "execution_count": 22,
   "metadata": {},
   "outputs": [],
   "source": [
    "# 1,2,4 => 1 (si)\n",
    "data.loc[((data[\"DOINGLWA\"] == 1) | (data[\"DOINGLWA\"] == 2) | (data[\"DOINGLWA\"] == 4)), \"DOINGLWA\"] = np.int(1)\n",
    "# 3,5 => 0 (no)\n",
    "data.loc[((data[\"DOINGLWA\"] == 3) | (data[\"DOINGLWA\"] == 5)), \"DOINGLWA\"] = np.int(0)\n",
    "# 7,8,9 => NaN (desconocido)\n",
    "data.loc[((data[\"DOINGLWA\"] == 7) | (data[\"DOINGLWA\"] == 8) | (data[\"DOINGLWA\"] == 9)), \"DOINGLWA\"] = np.nan"
   ]
  },
  {
   "cell_type": "code",
   "execution_count": 23,
   "metadata": {},
   "outputs": [
    {
     "data": {
      "text/plain": [
       "array([ 1.,  0., nan])"
      ]
     },
     "execution_count": 23,
     "metadata": {},
     "output_type": "execute_result"
    }
   ],
   "source": [
    "# Chequea categorías\n",
    "data.DOINGLWA.unique()"
   ]
  },
  {
   "cell_type": "markdown",
   "metadata": {},
   "source": [
    "#### Últimos 12 meses"
   ]
  },
  {
   "cell_type": "markdown",
   "metadata": {},
   "source": [
    "¿Tuvo trabajo en los últimos 12 meses?"
   ]
  },
  {
   "cell_type": "code",
   "execution_count": 24,
   "metadata": {},
   "outputs": [],
   "source": [
    "# 0,1 => 1 (si)\n",
    "data.loc[((data[\"WRKLYR4\"] == 0) | (data[\"WRKLYR4\"] == 1)), \"WRKLYR4\"] = np.int(1)\n",
    "# 2,3 => 0 (no)\n",
    "data.loc[((data[\"WRKLYR4\"] == 2) | (data[\"WRKLYR4\"] == 3)), \"WRKLYR4\"] = np.int(0)\n",
    "# 7,8,9 => NaN (desconocido)\n",
    "data.loc[((data[\"WRKLYR4\"] == 7) | (data[\"WRKLYR4\"] == 8) | (data[\"WRKLYR4\"] == 9)), \"WRKLYR4\"] = np.nan"
   ]
  },
  {
   "cell_type": "code",
   "execution_count": 25,
   "metadata": {},
   "outputs": [
    {
     "data": {
      "text/plain": [
       "array([ 1.,  0., nan])"
      ]
     },
     "execution_count": 25,
     "metadata": {},
     "output_type": "execute_result"
    }
   ],
   "source": [
    "# Chequea categorías\n",
    "data.WRKLYR4.unique()"
   ]
  },
  {
   "cell_type": "markdown",
   "metadata": {
    "toc-hr-collapsed": true
   },
   "source": [
    "### Medicamentos"
   ]
  },
  {
   "cell_type": "markdown",
   "metadata": {},
   "source": [
    "#### Aspirina"
   ]
  },
  {
   "cell_type": "markdown",
   "metadata": {},
   "source": [
    "Se unificarán las siguientes variables:\n",
    "<ul>\n",
    "    <li><b>ASPMEDAD</b>: toma aspirina por recomendación médica.</li>\n",
    "    <li><b>ASPONOWN</b>: toma aspirina sin recomendación médica.</li>\n",
    "</ul>\n",
    "Considerándose la pregunta: \"¿Toma aspirina actualmente?\". Los NaN correspondena individuos que no cumplen con la población en estudio (adultos mayores de 40 que alguna vez se les ha recomendado que tomen aspirina)."
   ]
  },
  {
   "cell_type": "code",
   "execution_count": 26,
   "metadata": {},
   "outputs": [],
   "source": [
    "# Los NaN son convertidos a 0, dado que no cumplen con la condición de la población en estudio.\n",
    "data.loc[(data[\"ASPMEDAD\"].isna() == True), \"ASPMEDAD\"] = np.int(0)\n",
    "data.loc[(data[\"ASPONOWN\"].isna() == True), \"ASPONOWN\"] = np.int(0)"
   ]
  },
  {
   "cell_type": "code",
   "execution_count": 27,
   "metadata": {},
   "outputs": [
    {
     "data": {
      "text/html": [
       "<div>\n",
       "<style scoped>\n",
       "    .dataframe tbody tr th:only-of-type {\n",
       "        vertical-align: middle;\n",
       "    }\n",
       "\n",
       "    .dataframe tbody tr th {\n",
       "        vertical-align: top;\n",
       "    }\n",
       "\n",
       "    .dataframe thead th {\n",
       "        text-align: right;\n",
       "    }\n",
       "</style>\n",
       "<table border=\"1\" class=\"dataframe\">\n",
       "  <thead>\n",
       "    <tr style=\"text-align: right;\">\n",
       "      <th></th>\n",
       "      <th>ASPMEDAD</th>\n",
       "      <th>ASPONOWN</th>\n",
       "    </tr>\n",
       "  </thead>\n",
       "  <tbody>\n",
       "    <tr>\n",
       "      <th>2</th>\n",
       "      <td>0.0</td>\n",
       "      <td>0.0</td>\n",
       "    </tr>\n",
       "    <tr>\n",
       "      <th>5</th>\n",
       "      <td>0.0</td>\n",
       "      <td>2.0</td>\n",
       "    </tr>\n",
       "    <tr>\n",
       "      <th>7</th>\n",
       "      <td>0.0</td>\n",
       "      <td>2.0</td>\n",
       "    </tr>\n",
       "    <tr>\n",
       "      <th>8</th>\n",
       "      <td>0.0</td>\n",
       "      <td>0.0</td>\n",
       "    </tr>\n",
       "    <tr>\n",
       "      <th>13</th>\n",
       "      <td>2.0</td>\n",
       "      <td>0.0</td>\n",
       "    </tr>\n",
       "    <tr>\n",
       "      <th>...</th>\n",
       "      <td>...</td>\n",
       "      <td>...</td>\n",
       "    </tr>\n",
       "    <tr>\n",
       "      <th>25405</th>\n",
       "      <td>0.0</td>\n",
       "      <td>0.0</td>\n",
       "    </tr>\n",
       "    <tr>\n",
       "      <th>25407</th>\n",
       "      <td>0.0</td>\n",
       "      <td>0.0</td>\n",
       "    </tr>\n",
       "    <tr>\n",
       "      <th>25410</th>\n",
       "      <td>0.0</td>\n",
       "      <td>0.0</td>\n",
       "    </tr>\n",
       "    <tr>\n",
       "      <th>25411</th>\n",
       "      <td>0.0</td>\n",
       "      <td>0.0</td>\n",
       "    </tr>\n",
       "    <tr>\n",
       "      <th>25412</th>\n",
       "      <td>0.0</td>\n",
       "      <td>0.0</td>\n",
       "    </tr>\n",
       "  </tbody>\n",
       "</table>\n",
       "<p>13479 rows × 2 columns</p>\n",
       "</div>"
      ],
      "text/plain": [
       "       ASPMEDAD  ASPONOWN\n",
       "2           0.0       0.0\n",
       "5           0.0       2.0\n",
       "7           0.0       2.0\n",
       "8           0.0       0.0\n",
       "13          2.0       0.0\n",
       "...         ...       ...\n",
       "25405       0.0       0.0\n",
       "25407       0.0       0.0\n",
       "25410       0.0       0.0\n",
       "25411       0.0       0.0\n",
       "25412       0.0       0.0\n",
       "\n",
       "[13479 rows x 2 columns]"
      ]
     },
     "execution_count": 27,
     "metadata": {},
     "output_type": "execute_result"
    }
   ],
   "source": [
    "data[[\"ASPMEDAD\",\"ASPONOWN\"]]"
   ]
  },
  {
   "cell_type": "code",
   "execution_count": 28,
   "metadata": {},
   "outputs": [],
   "source": [
    "conditions = [\n",
    "    (data['ASPMEDAD'] == 1) | (data['ASPONOWN'] == 1),   # una de las respuestas es \"si\"\n",
    "    (data['ASPMEDAD'] == 2) | (data['ASPONOWN'] == 2),   # la respuesta es \"no\"\n",
    "    (data['ASPMEDAD'] == 0) & (data['ASPONOWN'] == 0)]   # la respuesta es \"no\" por no ser parte de la población\n",
    "\n",
    "choices = [1, 0, 0]\n",
    "\n",
    "data['ASP'] = np.select(conditions, choices, default=np.nan)"
   ]
  },
  {
   "cell_type": "code",
   "execution_count": 29,
   "metadata": {},
   "outputs": [
    {
     "data": {
      "text/html": [
       "<div>\n",
       "<style scoped>\n",
       "    .dataframe tbody tr th:only-of-type {\n",
       "        vertical-align: middle;\n",
       "    }\n",
       "\n",
       "    .dataframe tbody tr th {\n",
       "        vertical-align: top;\n",
       "    }\n",
       "\n",
       "    .dataframe thead th {\n",
       "        text-align: right;\n",
       "    }\n",
       "</style>\n",
       "<table border=\"1\" class=\"dataframe\">\n",
       "  <thead>\n",
       "    <tr style=\"text-align: right;\">\n",
       "      <th></th>\n",
       "      <th>ASPMEDAD</th>\n",
       "      <th>ASPONOWN</th>\n",
       "      <th>ASP</th>\n",
       "    </tr>\n",
       "  </thead>\n",
       "  <tbody>\n",
       "    <tr>\n",
       "      <th>2</th>\n",
       "      <td>0.0</td>\n",
       "      <td>0.0</td>\n",
       "      <td>0.0</td>\n",
       "    </tr>\n",
       "    <tr>\n",
       "      <th>5</th>\n",
       "      <td>0.0</td>\n",
       "      <td>2.0</td>\n",
       "      <td>0.0</td>\n",
       "    </tr>\n",
       "    <tr>\n",
       "      <th>7</th>\n",
       "      <td>0.0</td>\n",
       "      <td>2.0</td>\n",
       "      <td>0.0</td>\n",
       "    </tr>\n",
       "    <tr>\n",
       "      <th>8</th>\n",
       "      <td>0.0</td>\n",
       "      <td>0.0</td>\n",
       "      <td>0.0</td>\n",
       "    </tr>\n",
       "    <tr>\n",
       "      <th>13</th>\n",
       "      <td>2.0</td>\n",
       "      <td>0.0</td>\n",
       "      <td>0.0</td>\n",
       "    </tr>\n",
       "  </tbody>\n",
       "</table>\n",
       "</div>"
      ],
      "text/plain": [
       "    ASPMEDAD  ASPONOWN  ASP\n",
       "2        0.0       0.0  0.0\n",
       "5        0.0       2.0  0.0\n",
       "7        0.0       2.0  0.0\n",
       "8        0.0       0.0  0.0\n",
       "13       2.0       0.0  0.0"
      ]
     },
     "execution_count": 29,
     "metadata": {},
     "output_type": "execute_result"
    }
   ],
   "source": [
    "data[[\"ASPMEDAD\",\"ASPONOWN\", \"ASP\"]].head()"
   ]
  },
  {
   "cell_type": "code",
   "execution_count": 30,
   "metadata": {},
   "outputs": [
    {
     "data": {
      "text/plain": [
       "array([ 0.,  1., nan])"
      ]
     },
     "execution_count": 30,
     "metadata": {},
     "output_type": "execute_result"
    }
   ],
   "source": [
    "# Chequea categorías\n",
    "data.ASP.unique()"
   ]
  },
  {
   "cell_type": "code",
   "execution_count": 31,
   "metadata": {},
   "outputs": [],
   "source": [
    "# Descarta variables usadas\n",
    "data = data.drop([\"ASPMEDAD\",\"ASPONOWN\"], axis=1)"
   ]
  },
  {
   "cell_type": "markdown",
   "metadata": {
    "toc-hr-collapsed": true
   },
   "source": [
    "### Enfermedades crónicas"
   ]
  },
  {
   "cell_type": "markdown",
   "metadata": {},
   "source": [
    "#### Diabetes"
   ]
  },
  {
   "cell_type": "markdown",
   "metadata": {},
   "source": [
    "Se reformula la pregunta: \"¿alguna vez le han diagnosticado diabetes o pre-diabetes?\""
   ]
  },
  {
   "cell_type": "code",
   "execution_count": 32,
   "metadata": {},
   "outputs": [],
   "source": [
    "# 1 => 1 (si)\n",
    "data.loc[data[\"DIBEV1\"] == 1, \"DIBEV1\"] = np.int(1)\n",
    "# 2 => 0 (no)\n",
    "data.loc[data[\"DIBEV1\"] == 2, \"DIBEV1\"] = np.int(0)\n",
    "# 3 => 1 (prediabetes)\n",
    "data.loc[data[\"DIBEV1\"] == 3, \"DIBEV1\"] = np.int(1)\n",
    "# 7,8,9 => NaN (desconocido)\n",
    "data.loc[((data[\"DIBEV1\"] == 7) | (data[\"DIBEV1\"] == 8) | (data[\"DIBEV1\"] == 9)), \"DIBEV1\"] = np.nan"
   ]
  },
  {
   "cell_type": "code",
   "execution_count": 33,
   "metadata": {},
   "outputs": [
    {
     "data": {
      "text/plain": [
       "array([ 0.,  1., nan])"
      ]
     },
     "execution_count": 33,
     "metadata": {},
     "output_type": "execute_result"
    }
   ],
   "source": [
    "# Chequea categorías\n",
    "data.DIBEV1.unique()"
   ]
  },
  {
   "cell_type": "markdown",
   "metadata": {},
   "source": [
    "#### Limitaciones físicas"
   ]
  },
  {
   "cell_type": "markdown",
   "metadata": {},
   "source": [
    "¿Posee algún tipo de limitación física/funcional?"
   ]
  },
  {
   "cell_type": "code",
   "execution_count": 34,
   "metadata": {},
   "outputs": [],
   "source": [
    "# 1 => 1 (si)\n",
    "data.loc[data[\"FLA1AR\"] == 0, \"FLA1AR\"] = np.int(1)\n",
    "# 2 => 0 (no)\n",
    "data.loc[data[\"FLA1AR\"] == 2, \"FLA1AR\"] = np.int(0)\n",
    "# 3 => nan (no lo sabe)\n",
    "data.loc[data[\"FLA1AR\"] == 3, \"FLA1AR\"] = np.nan"
   ]
  },
  {
   "cell_type": "code",
   "execution_count": 35,
   "metadata": {},
   "outputs": [
    {
     "data": {
      "text/plain": [
       "array([ 0.,  1., nan])"
      ]
     },
     "execution_count": 35,
     "metadata": {},
     "output_type": "execute_result"
    }
   ],
   "source": [
    "# Chequea categorías\n",
    "data.FLA1AR.unique()"
   ]
  },
  {
   "cell_type": "markdown",
   "metadata": {
    "toc-hr-collapsed": false
   },
   "source": [
    "### Hábitos"
   ]
  },
  {
   "cell_type": "markdown",
   "metadata": {},
   "source": [
    "#### Uso de PC"
   ]
  },
  {
   "cell_type": "markdown",
   "metadata": {},
   "source": [
    "¿Qué tan frecuente utiliza la computadora?"
   ]
  },
  {
   "cell_type": "code",
   "execution_count": 36,
   "metadata": {},
   "outputs": [],
   "source": [
    "# 1 => 0 (nunca o casi nunca)\n",
    "data.loc[data[\"ASICPUSE\"] == 1, \"ASICPUSE\"] = np.int(0)\n",
    "# 2 => 1 (a veces)\n",
    "data.loc[data[\"ASICPUSE\"] == 2, \"ASICPUSE\"] = np.int(1)\n",
    "# 3 => 2 (casi todos los días)\n",
    "data.loc[data[\"ASICPUSE\"] == 3, \"ASICPUSE\"] = np.int(2)\n",
    "# 4 => 3 (todos los días)\n",
    "data.loc[data[\"ASICPUSE\"] == 4, \"ASICPUSE\"] = np.int(3)\n",
    "# 7,8,9 => NaN (desconocido)\n",
    "data.loc[((data[\"ASICPUSE\"] == 7) | (data[\"ASICPUSE\"] == 8) | (data[\"ASICPUSE\"] == 9)), \"ASICPUSE\"] = np.nan"
   ]
  },
  {
   "cell_type": "code",
   "execution_count": 37,
   "metadata": {},
   "outputs": [
    {
     "data": {
      "text/plain": [
       "array([ 3.,  1.,  0.,  2., nan])"
      ]
     },
     "execution_count": 37,
     "metadata": {},
     "output_type": "execute_result"
    }
   ],
   "source": [
    "# Chequea categorías\n",
    "data.ASICPUSE.unique()"
   ]
  },
  {
   "cell_type": "markdown",
   "metadata": {},
   "source": [
    "#### Horas de sueño"
   ]
  },
  {
   "cell_type": "markdown",
   "metadata": {},
   "source": [
    "En promedio ¿cuántas horas duerme en un periodo de 24 horas?"
   ]
  },
  {
   "cell_type": "code",
   "execution_count": 38,
   "metadata": {},
   "outputs": [],
   "source": [
    "# 97,98,99 => nan (desconocido)\n",
    "data.loc[((data[\"ASISLEEP\"] == 97) | (data[\"ASISLEEP\"] == 98) | (data[\"ASISLEEP\"] == 99)), \"ASISLEEP\"] = np.nan"
   ]
  },
  {
   "cell_type": "code",
   "execution_count": 39,
   "metadata": {},
   "outputs": [
    {
     "data": {
      "text/plain": [
       "array([ 7.,  6.,  8.,  4.,  5.,  9., 10., nan,  3., 14., 12., 11., 18.,\n",
       "        2., 13., 16., 15.,  1.])"
      ]
     },
     "execution_count": 39,
     "metadata": {},
     "output_type": "execute_result"
    }
   ],
   "source": [
    "# Chequea categorías\n",
    "data.ASISLEEP.unique()"
   ]
  },
  {
   "cell_type": "markdown",
   "metadata": {},
   "source": [
    "#### Fumar"
   ]
  },
  {
   "cell_type": "markdown",
   "metadata": {},
   "source": [
    "¿Cuántos cigarros (de cualquier tipo) fuma al día?. Esta pregunta es sólo para fumadores, los NaN son no fumadores."
   ]
  },
  {
   "cell_type": "code",
   "execution_count": 40,
   "metadata": {},
   "outputs": [],
   "source": [
    "# Cantidad de cigarrillos que fuma por día (todo los tipos)\n",
    "# 97,98,99 => nan (desconocido)\n",
    "data.loc[((data[\"CIGSDAY\"] == 97) | (data[\"CIGSDAY\"] == 98) | (data[\"CIGSDAY\"] == 99)), \"AHEIGHT\"] = np.nan"
   ]
  },
  {
   "cell_type": "code",
   "execution_count": 41,
   "metadata": {},
   "outputs": [],
   "source": [
    "# Los NaN son convertidos a 0, dado que no cumplen con la condición de la población en estudio.\n",
    "data.loc[(data[\"CIGSDAY\"].isna() == True), \"CIGSDAY\"] = np.int(0)"
   ]
  },
  {
   "cell_type": "code",
   "execution_count": 42,
   "metadata": {},
   "outputs": [
    {
     "data": {
      "text/plain": [
       "array([ 0.,  8., 20.,  2., 25.,  1.,  3., 40., 60., 99., 15., 10.,  5.,\n",
       "        4., 12.,  7., 18.,  6., 30., 19., 17., 13., 22.,  9., 24., 14.,\n",
       "       11., 97., 16., 35., 21.])"
      ]
     },
     "execution_count": 42,
     "metadata": {},
     "output_type": "execute_result"
    }
   ],
   "source": [
    "# Chequea categorías\n",
    "data.CIGSDAY.unique()"
   ]
  },
  {
   "cell_type": "markdown",
   "metadata": {},
   "source": [
    "#### Ejercicio físico"
   ]
  },
  {
   "cell_type": "markdown",
   "metadata": {},
   "source": [
    "Se unifican las preguntas de \"¿Cuántas veces por semana realiza ejercicico?\" y \"¿Cuántos minutos de ejericicio realiza?\" a la pregunta: \"¿Cuntos minutos de ejercico realiza por semana?\". Separado según la intensidad del ejercicio:\n",
    "   - **VIG**: ejercicio vigoroso.\n",
    "   - **MOD**: ejercicio liviano o moderado."
   ]
  },
  {
   "cell_type": "markdown",
   "metadata": {},
   "source": [
    "**Vigoroso**"
   ]
  },
  {
   "cell_type": "code",
   "execution_count": 43,
   "metadata": {},
   "outputs": [],
   "source": [
    "# Frecuencia semanal\n",
    "# 00,95,96 => 0 (nunca)\n",
    "data.loc[((data[\"VIGFREQW\"] == 0) | (data[\"VIGFREQW\"] == 95) | (data[\"VIGFREQW\"] == 96)), \"VIGFREQW\"] = np.int(0)\n",
    "# 97,98,99 => nan (desconocido)\n",
    "data.loc[((data[\"VIGFREQW\"] == 97) | (data[\"VIGFREQW\"] == 98) | (data[\"VIGFREQW\"] == 99)), \"VIGFREQW\"] = np.nan\n",
    "\n",
    "# Minutos\n",
    "# 997,998,999 => nan (desconocido)\n",
    "data.loc[((data[\"VIGMIN\"] == 997) | (data[\"VIGMIN\"] == 998) | (data[\"VIGMIN\"] == 999)), \"VIGMIN\"] = np.nan"
   ]
  },
  {
   "cell_type": "code",
   "execution_count": 44,
   "metadata": {},
   "outputs": [],
   "source": [
    "# Condiciones para calcular los minutos de ejercicio\n",
    "conditions = [\n",
    "    (data['VIGFREQW'] == 0),             # no realiza ejercicio\n",
    "    (data['VIGFREQW'].isna() == True),   # Se desconoce si realiza ejercicio\n",
    "    (data['VIGFREQW'] > 0)]              # Realiza ejercicio más de 1 vez por semana\n",
    "\n",
    "choices = [0, np.nan, data['VIGFREQW'] * data['VIGMIN']]\n",
    "\n",
    "data['VIG'] = np.select(conditions, choices, default=0)"
   ]
  },
  {
   "cell_type": "code",
   "execution_count": 45,
   "metadata": {},
   "outputs": [
    {
     "data": {
      "text/html": [
       "<div>\n",
       "<style scoped>\n",
       "    .dataframe tbody tr th:only-of-type {\n",
       "        vertical-align: middle;\n",
       "    }\n",
       "\n",
       "    .dataframe tbody tr th {\n",
       "        vertical-align: top;\n",
       "    }\n",
       "\n",
       "    .dataframe thead th {\n",
       "        text-align: right;\n",
       "    }\n",
       "</style>\n",
       "<table border=\"1\" class=\"dataframe\">\n",
       "  <thead>\n",
       "    <tr style=\"text-align: right;\">\n",
       "      <th></th>\n",
       "      <th>VIGFREQW</th>\n",
       "      <th>VIGMIN</th>\n",
       "      <th>VIG</th>\n",
       "    </tr>\n",
       "  </thead>\n",
       "  <tbody>\n",
       "    <tr>\n",
       "      <th>2</th>\n",
       "      <td>4.0</td>\n",
       "      <td>30.0</td>\n",
       "      <td>120.0</td>\n",
       "    </tr>\n",
       "    <tr>\n",
       "      <th>5</th>\n",
       "      <td>0.0</td>\n",
       "      <td>NaN</td>\n",
       "      <td>0.0</td>\n",
       "    </tr>\n",
       "    <tr>\n",
       "      <th>7</th>\n",
       "      <td>14.0</td>\n",
       "      <td>15.0</td>\n",
       "      <td>210.0</td>\n",
       "    </tr>\n",
       "    <tr>\n",
       "      <th>8</th>\n",
       "      <td>3.0</td>\n",
       "      <td>60.0</td>\n",
       "      <td>180.0</td>\n",
       "    </tr>\n",
       "    <tr>\n",
       "      <th>13</th>\n",
       "      <td>5.0</td>\n",
       "      <td>90.0</td>\n",
       "      <td>450.0</td>\n",
       "    </tr>\n",
       "    <tr>\n",
       "      <th>...</th>\n",
       "      <td>...</td>\n",
       "      <td>...</td>\n",
       "      <td>...</td>\n",
       "    </tr>\n",
       "    <tr>\n",
       "      <th>25405</th>\n",
       "      <td>1.0</td>\n",
       "      <td>20.0</td>\n",
       "      <td>20.0</td>\n",
       "    </tr>\n",
       "    <tr>\n",
       "      <th>25407</th>\n",
       "      <td>2.0</td>\n",
       "      <td>30.0</td>\n",
       "      <td>60.0</td>\n",
       "    </tr>\n",
       "    <tr>\n",
       "      <th>25410</th>\n",
       "      <td>0.0</td>\n",
       "      <td>NaN</td>\n",
       "      <td>0.0</td>\n",
       "    </tr>\n",
       "    <tr>\n",
       "      <th>25411</th>\n",
       "      <td>4.0</td>\n",
       "      <td>60.0</td>\n",
       "      <td>240.0</td>\n",
       "    </tr>\n",
       "    <tr>\n",
       "      <th>25412</th>\n",
       "      <td>1.0</td>\n",
       "      <td>60.0</td>\n",
       "      <td>60.0</td>\n",
       "    </tr>\n",
       "  </tbody>\n",
       "</table>\n",
       "<p>13479 rows × 3 columns</p>\n",
       "</div>"
      ],
      "text/plain": [
       "       VIGFREQW  VIGMIN    VIG\n",
       "2           4.0    30.0  120.0\n",
       "5           0.0     NaN    0.0\n",
       "7          14.0    15.0  210.0\n",
       "8           3.0    60.0  180.0\n",
       "13          5.0    90.0  450.0\n",
       "...         ...     ...    ...\n",
       "25405       1.0    20.0   20.0\n",
       "25407       2.0    30.0   60.0\n",
       "25410       0.0     NaN    0.0\n",
       "25411       4.0    60.0  240.0\n",
       "25412       1.0    60.0   60.0\n",
       "\n",
       "[13479 rows x 3 columns]"
      ]
     },
     "execution_count": 45,
     "metadata": {},
     "output_type": "execute_result"
    }
   ],
   "source": [
    "data[[\"VIGFREQW\",\"VIGMIN\",\"VIG\"]]"
   ]
  },
  {
   "cell_type": "code",
   "execution_count": 46,
   "metadata": {},
   "outputs": [
    {
     "data": {
      "text/html": [
       "<div>\n",
       "<style scoped>\n",
       "    .dataframe tbody tr th:only-of-type {\n",
       "        vertical-align: middle;\n",
       "    }\n",
       "\n",
       "    .dataframe tbody tr th {\n",
       "        vertical-align: top;\n",
       "    }\n",
       "\n",
       "    .dataframe thead th {\n",
       "        text-align: right;\n",
       "    }\n",
       "</style>\n",
       "<table border=\"1\" class=\"dataframe\">\n",
       "  <thead>\n",
       "    <tr style=\"text-align: right;\">\n",
       "      <th></th>\n",
       "      <th>VIGFREQW</th>\n",
       "      <th>VIGMIN</th>\n",
       "      <th>VIG</th>\n",
       "      <th>AGE_P</th>\n",
       "    </tr>\n",
       "  </thead>\n",
       "  <tbody>\n",
       "    <tr>\n",
       "      <th>579</th>\n",
       "      <td>7.0</td>\n",
       "      <td>720.0</td>\n",
       "      <td>5040.0</td>\n",
       "      <td>46</td>\n",
       "    </tr>\n",
       "    <tr>\n",
       "      <th>2079</th>\n",
       "      <td>21.0</td>\n",
       "      <td>240.0</td>\n",
       "      <td>5040.0</td>\n",
       "      <td>20</td>\n",
       "    </tr>\n",
       "    <tr>\n",
       "      <th>3197</th>\n",
       "      <td>28.0</td>\n",
       "      <td>180.0</td>\n",
       "      <td>5040.0</td>\n",
       "      <td>20</td>\n",
       "    </tr>\n",
       "    <tr>\n",
       "      <th>12531</th>\n",
       "      <td>14.0</td>\n",
       "      <td>480.0</td>\n",
       "      <td>6720.0</td>\n",
       "      <td>23</td>\n",
       "    </tr>\n",
       "    <tr>\n",
       "      <th>13499</th>\n",
       "      <td>21.0</td>\n",
       "      <td>480.0</td>\n",
       "      <td>10080.0</td>\n",
       "      <td>57</td>\n",
       "    </tr>\n",
       "    <tr>\n",
       "      <th>20107</th>\n",
       "      <td>7.0</td>\n",
       "      <td>720.0</td>\n",
       "      <td>5040.0</td>\n",
       "      <td>30</td>\n",
       "    </tr>\n",
       "    <tr>\n",
       "      <th>20369</th>\n",
       "      <td>14.0</td>\n",
       "      <td>480.0</td>\n",
       "      <td>6720.0</td>\n",
       "      <td>66</td>\n",
       "    </tr>\n",
       "    <tr>\n",
       "      <th>21987</th>\n",
       "      <td>15.0</td>\n",
       "      <td>600.0</td>\n",
       "      <td>9000.0</td>\n",
       "      <td>53</td>\n",
       "    </tr>\n",
       "    <tr>\n",
       "      <th>24382</th>\n",
       "      <td>28.0</td>\n",
       "      <td>180.0</td>\n",
       "      <td>5040.0</td>\n",
       "      <td>57</td>\n",
       "    </tr>\n",
       "  </tbody>\n",
       "</table>\n",
       "</div>"
      ],
      "text/plain": [
       "       VIGFREQW  VIGMIN      VIG  AGE_P\n",
       "579         7.0   720.0   5040.0     46\n",
       "2079       21.0   240.0   5040.0     20\n",
       "3197       28.0   180.0   5040.0     20\n",
       "12531      14.0   480.0   6720.0     23\n",
       "13499      21.0   480.0  10080.0     57\n",
       "20107       7.0   720.0   5040.0     30\n",
       "20369      14.0   480.0   6720.0     66\n",
       "21987      15.0   600.0   9000.0     53\n",
       "24382      28.0   180.0   5040.0     57"
      ]
     },
     "execution_count": 46,
     "metadata": {},
     "output_type": "execute_result"
    }
   ],
   "source": [
    "data.loc[data[\"VIG\"] > 5000, [\"VIGFREQW\",\"VIGMIN\",\"VIG\",\"AGE_P\"]]"
   ]
  },
  {
   "cell_type": "code",
   "execution_count": 47,
   "metadata": {},
   "outputs": [],
   "source": [
    "# Se descartan las variables viejas\n",
    "data = data.drop([\"VIGFREQW\",\"VIGMIN\"], axis=1)"
   ]
  },
  {
   "cell_type": "code",
   "execution_count": 48,
   "metadata": {},
   "outputs": [
    {
     "data": {
      "text/plain": [
       "array([1.200e+02, 0.000e+00, 2.100e+02, 1.800e+02, 4.500e+02, 5.600e+02,\n",
       "       7.200e+02, 1.500e+02, 9.000e+01, 2.400e+02, 8.000e+01, 3.000e+01,\n",
       "       6.000e+01, 1.350e+02, 1.000e+02, 1.050e+02, 1.600e+02, 3.000e+02,\n",
       "       4.200e+02, 1.500e+01, 1.400e+02, 4.500e+01, 6.300e+02, 8.400e+02,\n",
       "       6.000e+02, 3.150e+02, 2.250e+02, 3.600e+02, 5.000e+01, 2.700e+02,\n",
       "       2.000e+01, 2.520e+03, 2.520e+02,       nan, 1.820e+02, 7.000e+01,\n",
       "       4.200e+01, 4.800e+02, 3.360e+03, 2.800e+02, 1.260e+03, 1.680e+03,\n",
       "       5.040e+03, 1.750e+02, 2.000e+02, 1.890e+03, 7.500e+01, 2.500e+02,\n",
       "       1.000e+01, 2.500e+01, 5.400e+02, 9.000e+02, 4.000e+01, 1.250e+02,\n",
       "       1.440e+03, 4.900e+02, 3.300e+02, 3.750e+02, 1.120e+03, 2.750e+02,\n",
       "       9.450e+02, 1.200e+03, 2.450e+02, 9.800e+02, 6.800e+01, 2.100e+03,\n",
       "       1.080e+03, 5.250e+02, 3.500e+01, 1.540e+02, 3.500e+02, 1.500e+03,\n",
       "       1.335e+03, 3.780e+03, 3.200e+02, 9.600e+02, 1.400e+03, 1.060e+02,\n",
       "       1.320e+03, 2.200e+02, 1.650e+02, 6.720e+03, 1.008e+04, 6.600e+02,\n",
       "       2.940e+03, 4.000e+02, 8.400e+01, 1.050e+03, 1.710e+02, 4.550e+02,\n",
       "       2.880e+02, 3.150e+03, 1.100e+02, 9.900e+02, 4.400e+02, 9.000e+03,\n",
       "       3.220e+02, 2.300e+01, 3.600e+01, 7.600e+01, 1.920e+03, 7.500e+02,\n",
       "       7.000e+02])"
      ]
     },
     "execution_count": 48,
     "metadata": {},
     "output_type": "execute_result"
    }
   ],
   "source": [
    "# Chequea categorías\n",
    "data.VIG.unique()"
   ]
  },
  {
   "cell_type": "markdown",
   "metadata": {},
   "source": [
    "**Moderado**"
   ]
  },
  {
   "cell_type": "code",
   "execution_count": 49,
   "metadata": {},
   "outputs": [],
   "source": [
    "# Frecuencia semanal\n",
    "# 00,95,96 => 0 (nunca)\n",
    "data.loc[((data[\"MODFREQW\"] == 0) | (data[\"MODFREQW\"] == 95) | (data[\"MODFREQW\"] == 96)), \"MODFREQW\"] = np.int(0)\n",
    "# 97,98,99 => nan (desconocido)\n",
    "data.loc[((data[\"MODFREQW\"] == 97) | (data[\"MODFREQW\"] == 98) | (data[\"MODFREQW\"] == 99)), \"MODFREQW\"] = np.nan\n",
    "\n",
    "# Minutos\n",
    "# 997,998,999 => nan (desconocido)\n",
    "data.loc[((data[\"MODMIN\"] == 997) | (data[\"MODMIN\"] == 998) | (data[\"MODMIN\"] == 999)), \"MODMIN\"] = np.nan"
   ]
  },
  {
   "cell_type": "code",
   "execution_count": 50,
   "metadata": {},
   "outputs": [],
   "source": [
    "# Condiciones para calcular los minutos de ejercicio\n",
    "conditions = [\n",
    "    (data['MODFREQW'] == 0),             # no realiza ejercicio\n",
    "    (data['MODFREQW'].isna() == True),   # Se desconoce si realiza ejercicio\n",
    "    (data['MODFREQW'] > 0)]              # Realiza ejercicio más de 1 vez por semana\n",
    "\n",
    "choices = [0, np.nan, data['MODFREQW'] * data['MODMIN']]\n",
    "\n",
    "data['MOD'] = np.select(conditions, choices, default=0)"
   ]
  },
  {
   "cell_type": "code",
   "execution_count": 51,
   "metadata": {},
   "outputs": [
    {
     "data": {
      "text/html": [
       "<div>\n",
       "<style scoped>\n",
       "    .dataframe tbody tr th:only-of-type {\n",
       "        vertical-align: middle;\n",
       "    }\n",
       "\n",
       "    .dataframe tbody tr th {\n",
       "        vertical-align: top;\n",
       "    }\n",
       "\n",
       "    .dataframe thead th {\n",
       "        text-align: right;\n",
       "    }\n",
       "</style>\n",
       "<table border=\"1\" class=\"dataframe\">\n",
       "  <thead>\n",
       "    <tr style=\"text-align: right;\">\n",
       "      <th></th>\n",
       "      <th>MODFREQW</th>\n",
       "      <th>MODMIN</th>\n",
       "      <th>MOD</th>\n",
       "    </tr>\n",
       "  </thead>\n",
       "  <tbody>\n",
       "    <tr>\n",
       "      <th>2</th>\n",
       "      <td>7.0</td>\n",
       "      <td>30.0</td>\n",
       "      <td>210.0</td>\n",
       "    </tr>\n",
       "    <tr>\n",
       "      <th>5</th>\n",
       "      <td>0.0</td>\n",
       "      <td>NaN</td>\n",
       "      <td>0.0</td>\n",
       "    </tr>\n",
       "    <tr>\n",
       "      <th>7</th>\n",
       "      <td>14.0</td>\n",
       "      <td>15.0</td>\n",
       "      <td>210.0</td>\n",
       "    </tr>\n",
       "    <tr>\n",
       "      <th>8</th>\n",
       "      <td>4.0</td>\n",
       "      <td>30.0</td>\n",
       "      <td>120.0</td>\n",
       "    </tr>\n",
       "    <tr>\n",
       "      <th>13</th>\n",
       "      <td>0.0</td>\n",
       "      <td>NaN</td>\n",
       "      <td>0.0</td>\n",
       "    </tr>\n",
       "    <tr>\n",
       "      <th>...</th>\n",
       "      <td>...</td>\n",
       "      <td>...</td>\n",
       "      <td>...</td>\n",
       "    </tr>\n",
       "    <tr>\n",
       "      <th>25405</th>\n",
       "      <td>3.0</td>\n",
       "      <td>10.0</td>\n",
       "      <td>30.0</td>\n",
       "    </tr>\n",
       "    <tr>\n",
       "      <th>25407</th>\n",
       "      <td>1.0</td>\n",
       "      <td>30.0</td>\n",
       "      <td>30.0</td>\n",
       "    </tr>\n",
       "    <tr>\n",
       "      <th>25410</th>\n",
       "      <td>1.0</td>\n",
       "      <td>30.0</td>\n",
       "      <td>30.0</td>\n",
       "    </tr>\n",
       "    <tr>\n",
       "      <th>25411</th>\n",
       "      <td>2.0</td>\n",
       "      <td>30.0</td>\n",
       "      <td>60.0</td>\n",
       "    </tr>\n",
       "    <tr>\n",
       "      <th>25412</th>\n",
       "      <td>1.0</td>\n",
       "      <td>60.0</td>\n",
       "      <td>60.0</td>\n",
       "    </tr>\n",
       "  </tbody>\n",
       "</table>\n",
       "<p>13479 rows × 3 columns</p>\n",
       "</div>"
      ],
      "text/plain": [
       "       MODFREQW  MODMIN    MOD\n",
       "2           7.0    30.0  210.0\n",
       "5           0.0     NaN    0.0\n",
       "7          14.0    15.0  210.0\n",
       "8           4.0    30.0  120.0\n",
       "13          0.0     NaN    0.0\n",
       "...         ...     ...    ...\n",
       "25405       3.0    10.0   30.0\n",
       "25407       1.0    30.0   30.0\n",
       "25410       1.0    30.0   30.0\n",
       "25411       2.0    30.0   60.0\n",
       "25412       1.0    60.0   60.0\n",
       "\n",
       "[13479 rows x 3 columns]"
      ]
     },
     "execution_count": 51,
     "metadata": {},
     "output_type": "execute_result"
    }
   ],
   "source": [
    "data[[\"MODFREQW\",\"MODMIN\",\"MOD\"]]"
   ]
  },
  {
   "cell_type": "code",
   "execution_count": 52,
   "metadata": {},
   "outputs": [
    {
     "data": {
      "text/html": [
       "<div>\n",
       "<style scoped>\n",
       "    .dataframe tbody tr th:only-of-type {\n",
       "        vertical-align: middle;\n",
       "    }\n",
       "\n",
       "    .dataframe tbody tr th {\n",
       "        vertical-align: top;\n",
       "    }\n",
       "\n",
       "    .dataframe thead th {\n",
       "        text-align: right;\n",
       "    }\n",
       "</style>\n",
       "<table border=\"1\" class=\"dataframe\">\n",
       "  <thead>\n",
       "    <tr style=\"text-align: right;\">\n",
       "      <th></th>\n",
       "      <th>MODFREQW</th>\n",
       "      <th>MODMIN</th>\n",
       "      <th>MOD</th>\n",
       "      <th>AGE_P</th>\n",
       "    </tr>\n",
       "  </thead>\n",
       "  <tbody>\n",
       "    <tr>\n",
       "      <th>825</th>\n",
       "      <td>14.0</td>\n",
       "      <td>360.0</td>\n",
       "      <td>5040.0</td>\n",
       "      <td>60</td>\n",
       "    </tr>\n",
       "    <tr>\n",
       "      <th>1883</th>\n",
       "      <td>21.0</td>\n",
       "      <td>240.0</td>\n",
       "      <td>5040.0</td>\n",
       "      <td>50</td>\n",
       "    </tr>\n",
       "    <tr>\n",
       "      <th>6829</th>\n",
       "      <td>28.0</td>\n",
       "      <td>180.0</td>\n",
       "      <td>5040.0</td>\n",
       "      <td>73</td>\n",
       "    </tr>\n",
       "    <tr>\n",
       "      <th>7617</th>\n",
       "      <td>28.0</td>\n",
       "      <td>180.0</td>\n",
       "      <td>5040.0</td>\n",
       "      <td>60</td>\n",
       "    </tr>\n",
       "    <tr>\n",
       "      <th>10238</th>\n",
       "      <td>7.0</td>\n",
       "      <td>720.0</td>\n",
       "      <td>5040.0</td>\n",
       "      <td>24</td>\n",
       "    </tr>\n",
       "    <tr>\n",
       "      <th>12127</th>\n",
       "      <td>21.0</td>\n",
       "      <td>300.0</td>\n",
       "      <td>6300.0</td>\n",
       "      <td>65</td>\n",
       "    </tr>\n",
       "    <tr>\n",
       "      <th>15401</th>\n",
       "      <td>28.0</td>\n",
       "      <td>360.0</td>\n",
       "      <td>10080.0</td>\n",
       "      <td>31</td>\n",
       "    </tr>\n",
       "    <tr>\n",
       "      <th>15879</th>\n",
       "      <td>28.0</td>\n",
       "      <td>240.0</td>\n",
       "      <td>6720.0</td>\n",
       "      <td>46</td>\n",
       "    </tr>\n",
       "    <tr>\n",
       "      <th>19597</th>\n",
       "      <td>7.0</td>\n",
       "      <td>720.0</td>\n",
       "      <td>5040.0</td>\n",
       "      <td>61</td>\n",
       "    </tr>\n",
       "    <tr>\n",
       "      <th>20152</th>\n",
       "      <td>7.0</td>\n",
       "      <td>720.0</td>\n",
       "      <td>5040.0</td>\n",
       "      <td>48</td>\n",
       "    </tr>\n",
       "    <tr>\n",
       "      <th>24990</th>\n",
       "      <td>28.0</td>\n",
       "      <td>240.0</td>\n",
       "      <td>6720.0</td>\n",
       "      <td>68</td>\n",
       "    </tr>\n",
       "  </tbody>\n",
       "</table>\n",
       "</div>"
      ],
      "text/plain": [
       "       MODFREQW  MODMIN      MOD  AGE_P\n",
       "825        14.0   360.0   5040.0     60\n",
       "1883       21.0   240.0   5040.0     50\n",
       "6829       28.0   180.0   5040.0     73\n",
       "7617       28.0   180.0   5040.0     60\n",
       "10238       7.0   720.0   5040.0     24\n",
       "12127      21.0   300.0   6300.0     65\n",
       "15401      28.0   360.0  10080.0     31\n",
       "15879      28.0   240.0   6720.0     46\n",
       "19597       7.0   720.0   5040.0     61\n",
       "20152       7.0   720.0   5040.0     48\n",
       "24990      28.0   240.0   6720.0     68"
      ]
     },
     "execution_count": 52,
     "metadata": {},
     "output_type": "execute_result"
    }
   ],
   "source": [
    "data.loc[data[\"MOD\"] > 5000, [\"MODFREQW\",\"MODMIN\",\"MOD\",\"AGE_P\"]]"
   ]
  },
  {
   "cell_type": "code",
   "execution_count": 53,
   "metadata": {},
   "outputs": [],
   "source": [
    "# Se descartan las variables viejas\n",
    "data = data.drop([\"MODFREQW\",\"MODMIN\"], axis=1)"
   ]
  },
  {
   "cell_type": "code",
   "execution_count": 54,
   "metadata": {},
   "outputs": [
    {
     "data": {
      "text/plain": [
       "array([2.100e+02, 0.000e+00, 1.200e+02, 5.600e+02, 1.500e+02, 2.800e+02,\n",
       "       9.000e+01, 8.400e+02, 3.000e+02, 1.600e+02, 2.250e+02, 1.750e+02,\n",
       "       6.000e+01, 6.000e+02, 1.050e+02, 1.800e+02, 1.000e+02, 4.000e+01,\n",
       "       3.000e+01, 7.000e+01, 5.000e+01,       nan, 4.200e+02, 2.400e+02,\n",
       "       4.500e+01, 2.700e+02, 3.600e+02, 1.400e+02, 2.000e+01, 3.150e+02,\n",
       "       1.350e+02, 7.500e+01, 1.260e+03, 3.360e+03, 2.940e+03, 1.000e+01,\n",
       "       1.680e+03, 2.000e+02, 1.200e+01, 1.500e+01, 5.040e+03, 9.600e+02,\n",
       "       6.300e+02, 8.000e+01, 2.520e+03, 1.250e+02, 3.500e+02, 5.250e+02,\n",
       "       2.450e+02, 4.800e+02, 9.000e+02, 2.100e+03, 4.900e+02, 7.200e+02,\n",
       "       3.400e+02, 9.450e+02, 9.800e+01, 2.400e+03, 4.500e+02, 4.600e+01,\n",
       "       1.920e+03, 3.500e+01, 5.400e+02, 1.200e+03, 8.400e+01, 1.080e+03,\n",
       "       2.500e+01, 4.000e+02, 1.500e+03, 2.160e+03, 2.500e+02, 4.320e+03,\n",
       "       3.900e+01, 1.800e+03, 8.500e+01, 1.120e+03, 3.750e+02, 4.200e+03,\n",
       "       6.300e+03, 1.610e+02, 5.400e+01, 1.440e+03, 4.200e+01, 1.300e+01,\n",
       "       1.008e+04, 1.190e+02, 1.890e+03, 6.720e+03, 1.575e+03, 2.400e+01,\n",
       "       1.050e+03, 1.545e+03, 2.520e+02, 2.550e+02, 1.680e+02, 7.600e+01,\n",
       "       1.890e+02])"
      ]
     },
     "execution_count": 54,
     "metadata": {},
     "output_type": "execute_result"
    }
   ],
   "source": [
    "# Chequea categorías\n",
    "data.MOD.unique()"
   ]
  },
  {
   "cell_type": "markdown",
   "metadata": {},
   "source": [
    "#### Consumo de alcohol"
   ]
  },
  {
   "cell_type": "markdown",
   "metadata": {},
   "source": [
    "Se unifican las preguntas \"¿En promedio cuántas veces por semana bebió alcohol en el último año?\" y \"¿En promedio cuántos vasos bebe cada vez que toma?\" a: ¿En promedio cuántos vasos de alcohol bebe por semana?\""
   ]
  },
  {
   "cell_type": "markdown",
   "metadata": {},
   "source": [
    "**Bebidas por semana**"
   ]
  },
  {
   "cell_type": "code",
   "execution_count": 55,
   "metadata": {},
   "outputs": [],
   "source": [
    "# 00,95 => 0 (nunca)\n",
    "data.loc[((data[\"ALC12MWK\"] == 0) | (data[\"ALC12MWK\"] == 95)), \"ALC12MWK\"] = np.int(0)\n",
    "# 97,98,99 => nan (desconocido)\n",
    "data.loc[((data[\"ALC12MWK\"] == 97) | (data[\"ALC12MWK\"] == 98) | (data[\"ALC12MWK\"] == 99)), \"ALC12MWK\"] = np.nan\n",
    "# NaN => 0 (No bebe)\n",
    "data.loc[(data['ALC12MWK'].isna() == True), \"ALC12MWK\"] = np.int(0)"
   ]
  },
  {
   "cell_type": "code",
   "execution_count": 56,
   "metadata": {},
   "outputs": [
    {
     "data": {
      "text/plain": [
       "array([0., 1., 3., 2., 6., 5., 4., 7.])"
      ]
     },
     "execution_count": 56,
     "metadata": {},
     "output_type": "execute_result"
    }
   ],
   "source": [
    "# Chequea categorías\n",
    "data.ALC12MWK.unique()"
   ]
  },
  {
   "cell_type": "markdown",
   "metadata": {},
   "source": [
    "**Cantidad de vasos**"
   ]
  },
  {
   "cell_type": "code",
   "execution_count": 57,
   "metadata": {},
   "outputs": [],
   "source": [
    "# 97,98,99 => nan (desconocido)\n",
    "data.loc[((data[\"ALCAMT\"] == 97) | (data[\"ALCAMT\"] == 98) | (data[\"ALCAMT\"] == 99)), \"ALCAMT\"] = np.nan\n",
    "# NaN => 0 (No bebió en el último año)\n",
    "data.loc[(data['ALCAMT'].isna() == True), \"ALCAMT\"] = np.int(0)"
   ]
  },
  {
   "cell_type": "code",
   "execution_count": 58,
   "metadata": {},
   "outputs": [
    {
     "data": {
      "text/plain": [
       "array([ 1.,  0.,  2.,  3.,  4.,  6.,  8.,  5., 12., 10.,  7., 30., 15.,\n",
       "        9., 18., 20., 13., 52., 22., 35., 24., 14., 90., 95.])"
      ]
     },
     "execution_count": 58,
     "metadata": {},
     "output_type": "execute_result"
    }
   ],
   "source": [
    "# Chequea categorías\n",
    "data.ALCAMT.unique()"
   ]
  },
  {
   "cell_type": "markdown",
   "metadata": {},
   "source": [
    "**Nueva variable**"
   ]
  },
  {
   "cell_type": "code",
   "execution_count": 59,
   "metadata": {},
   "outputs": [],
   "source": [
    "# Condiciones para calcular los minutos de ejercicio\n",
    "conditions = [\n",
    "    (data['ALC12MWK'] == 0),             # no realiza ejercicio\n",
    "    (data['ALC12MWK'] > 0)]              # Realiza ejercicio más de 1 vez por semana\n",
    "\n",
    "choices = [0, data['ALC12MWK'] * data['ALCAMT']]\n",
    "\n",
    "data['ALC'] = np.select(conditions, choices, default=0)"
   ]
  },
  {
   "cell_type": "code",
   "execution_count": 60,
   "metadata": {},
   "outputs": [
    {
     "data": {
      "text/html": [
       "<div>\n",
       "<style scoped>\n",
       "    .dataframe tbody tr th:only-of-type {\n",
       "        vertical-align: middle;\n",
       "    }\n",
       "\n",
       "    .dataframe tbody tr th {\n",
       "        vertical-align: top;\n",
       "    }\n",
       "\n",
       "    .dataframe thead th {\n",
       "        text-align: right;\n",
       "    }\n",
       "</style>\n",
       "<table border=\"1\" class=\"dataframe\">\n",
       "  <thead>\n",
       "    <tr style=\"text-align: right;\">\n",
       "      <th></th>\n",
       "      <th>ALC12MWK</th>\n",
       "      <th>ALCAMT</th>\n",
       "      <th>ALC</th>\n",
       "    </tr>\n",
       "  </thead>\n",
       "  <tbody>\n",
       "    <tr>\n",
       "      <th>2</th>\n",
       "      <td>0.0</td>\n",
       "      <td>1.0</td>\n",
       "      <td>0.0</td>\n",
       "    </tr>\n",
       "    <tr>\n",
       "      <th>5</th>\n",
       "      <td>0.0</td>\n",
       "      <td>0.0</td>\n",
       "      <td>0.0</td>\n",
       "    </tr>\n",
       "    <tr>\n",
       "      <th>7</th>\n",
       "      <td>0.0</td>\n",
       "      <td>0.0</td>\n",
       "      <td>0.0</td>\n",
       "    </tr>\n",
       "    <tr>\n",
       "      <th>8</th>\n",
       "      <td>1.0</td>\n",
       "      <td>2.0</td>\n",
       "      <td>2.0</td>\n",
       "    </tr>\n",
       "    <tr>\n",
       "      <th>13</th>\n",
       "      <td>0.0</td>\n",
       "      <td>0.0</td>\n",
       "      <td>0.0</td>\n",
       "    </tr>\n",
       "    <tr>\n",
       "      <th>...</th>\n",
       "      <td>...</td>\n",
       "      <td>...</td>\n",
       "      <td>...</td>\n",
       "    </tr>\n",
       "    <tr>\n",
       "      <th>25405</th>\n",
       "      <td>0.0</td>\n",
       "      <td>3.0</td>\n",
       "      <td>0.0</td>\n",
       "    </tr>\n",
       "    <tr>\n",
       "      <th>25407</th>\n",
       "      <td>3.0</td>\n",
       "      <td>2.0</td>\n",
       "      <td>6.0</td>\n",
       "    </tr>\n",
       "    <tr>\n",
       "      <th>25410</th>\n",
       "      <td>0.0</td>\n",
       "      <td>0.0</td>\n",
       "      <td>0.0</td>\n",
       "    </tr>\n",
       "    <tr>\n",
       "      <th>25411</th>\n",
       "      <td>0.0</td>\n",
       "      <td>4.0</td>\n",
       "      <td>0.0</td>\n",
       "    </tr>\n",
       "    <tr>\n",
       "      <th>25412</th>\n",
       "      <td>0.0</td>\n",
       "      <td>0.0</td>\n",
       "      <td>0.0</td>\n",
       "    </tr>\n",
       "  </tbody>\n",
       "</table>\n",
       "<p>13479 rows × 3 columns</p>\n",
       "</div>"
      ],
      "text/plain": [
       "       ALC12MWK  ALCAMT  ALC\n",
       "2           0.0     1.0  0.0\n",
       "5           0.0     0.0  0.0\n",
       "7           0.0     0.0  0.0\n",
       "8           1.0     2.0  2.0\n",
       "13          0.0     0.0  0.0\n",
       "...         ...     ...  ...\n",
       "25405       0.0     3.0  0.0\n",
       "25407       3.0     2.0  6.0\n",
       "25410       0.0     0.0  0.0\n",
       "25411       0.0     4.0  0.0\n",
       "25412       0.0     0.0  0.0\n",
       "\n",
       "[13479 rows x 3 columns]"
      ]
     },
     "execution_count": 60,
     "metadata": {},
     "output_type": "execute_result"
    }
   ],
   "source": [
    "data[[\"ALC12MWK\",\"ALCAMT\", \"ALC\"]]"
   ]
  },
  {
   "cell_type": "code",
   "execution_count": 61,
   "metadata": {},
   "outputs": [
    {
     "data": {
      "text/plain": [
       "array([  0.,   2.,   6.,   4.,   1.,  12.,   8.,   5.,   3.,  16.,  14.,\n",
       "        42.,   7.,  15.,  30.,   9.,  18.,  24.,  10.,  21.,  35.,  70.,\n",
       "        28.,  32.,  36.,  49.,  25.,  20.,  84.,  13.,  52.,  56., 105.,\n",
       "       132.,  48., 126., 245.,  40.,  72., 140., 630.,  45., 210., 285.])"
      ]
     },
     "execution_count": 61,
     "metadata": {},
     "output_type": "execute_result"
    }
   ],
   "source": [
    "# Chequea categorías\n",
    "data.ALC.unique()"
   ]
  },
  {
   "cell_type": "code",
   "execution_count": 62,
   "metadata": {},
   "outputs": [],
   "source": [
    "# Se descartan las variables viejas\n",
    "data = data.drop([\"ALC12MWK\",\"ALCAMT\"], axis=1)"
   ]
  },
  {
   "cell_type": "markdown",
   "metadata": {
    "toc-hr-collapsed": true
   },
   "source": [
    "### Estado físico del paciente"
   ]
  },
  {
   "cell_type": "markdown",
   "metadata": {},
   "source": [
    "#### Altura"
   ]
  },
  {
   "cell_type": "code",
   "execution_count": 63,
   "metadata": {},
   "outputs": [],
   "source": [
    "# 96,97,98,99 => nan (desconocido)\n",
    "data.loc[((data[\"AHEIGHT\"] == 96) | (data[\"AHEIGHT\"] == 97) | (data[\"AHEIGHT\"] == 98) | (data[\"AHEIGHT\"] == 99)), \"AHEIGHT\"] = np.nan"
   ]
  },
  {
   "cell_type": "code",
   "execution_count": 64,
   "metadata": {},
   "outputs": [],
   "source": [
    "# Se convierte de pulgadas a cm\n",
    "data[\"AHEIGHT\"] = data[\"AHEIGHT\"] * 2.54"
   ]
  },
  {
   "cell_type": "code",
   "execution_count": 65,
   "metadata": {},
   "outputs": [
    {
     "name": "stdout",
     "output_type": "stream",
     "text": [
      "Mínimo valor: 149.86\n",
      "Máximo valor: 193.04\n"
     ]
    }
   ],
   "source": [
    "print(\"Mínimo valor: \" + str(data[\"AHEIGHT\"].min()))\n",
    "print(\"Máximo valor: \" + str(data[\"AHEIGHT\"].max()))"
   ]
  },
  {
   "cell_type": "markdown",
   "metadata": {},
   "source": [
    "#### Peso"
   ]
  },
  {
   "cell_type": "code",
   "execution_count": 66,
   "metadata": {},
   "outputs": [],
   "source": [
    "# 996,997,998,999 => nan (desconocido)\n",
    "data.loc[((data[\"AWEIGHTP\"] == 996) | (data[\"AWEIGHTP\"] == 997) | (data[\"AWEIGHTP\"] == 998) | (data[\"AWEIGHTP\"] == 999)), \"AWEIGHTP\"] = np.nan"
   ]
  },
  {
   "cell_type": "code",
   "execution_count": 67,
   "metadata": {},
   "outputs": [],
   "source": [
    "# Se convierte de pounds a Kg\n",
    "data[\"AWEIGHTP\"] = round(data[\"AWEIGHTP\"] * 0.453592, 1)"
   ]
  },
  {
   "cell_type": "code",
   "execution_count": 68,
   "metadata": {},
   "outputs": [
    {
     "name": "stdout",
     "output_type": "stream",
     "text": [
      "Mínimo valor: 45.4\n",
      "Máximo valor: 135.2\n"
     ]
    }
   ],
   "source": [
    "print(\"Mínimo valor: \" + str(data[\"AWEIGHTP\"].min()))\n",
    "print(\"Máximo valor: \" + str(data[\"AWEIGHTP\"].max()))"
   ]
  },
  {
   "cell_type": "markdown",
   "metadata": {},
   "source": [
    "#### Índice de masa corporal"
   ]
  },
  {
   "cell_type": "markdown",
   "metadata": {},
   "source": [
    "Esta variable si bien es contínua, está indicada en el dataset original por códigos. Aquí se reemplazará por el cálculo de BMI = peso (Kg) / altura (m) al cuadrado"
   ]
  },
  {
   "cell_type": "code",
   "execution_count": 69,
   "metadata": {},
   "outputs": [],
   "source": [
    "# 9999 => nan (desconocido)\n",
    "data.loc[data[\"BMI\"] == 9999, \"BMI\"] = np.nan"
   ]
  },
  {
   "cell_type": "code",
   "execution_count": 70,
   "metadata": {},
   "outputs": [],
   "source": [
    "data[\"BMI\"] = round(data[\"AWEIGHTP\"] / np.power(data[\"AHEIGHT\"]/100,2),2)"
   ]
  },
  {
   "cell_type": "code",
   "execution_count": 71,
   "metadata": {},
   "outputs": [
    {
     "name": "stdout",
     "output_type": "stream",
     "text": [
      "Mínimo valor: 15.68\n",
      "Máximo valor: 49.92\n"
     ]
    }
   ],
   "source": [
    "print(\"Mínimo valor: \" + str(data[\"BMI\"].min()))\n",
    "print(\"Máximo valor: \" + str(data[\"BMI\"].max()))"
   ]
  },
  {
   "cell_type": "markdown",
   "metadata": {},
   "source": [
    "### Variables con misma recodificación"
   ]
  },
  {
   "cell_type": "code",
   "execution_count": 73,
   "metadata": {},
   "outputs": [],
   "source": [
    "feat_list = [\"HYPYR1\",\n",
    "\"HYPMED2\",\n",
    "\"CHLYR\",\n",
    "\"CHLMDNW2\",\n",
    "\"ANGEV\",\n",
    "\"MIEV\",\n",
    "\"HRTEV\",\n",
    "\"STREV\",\n",
    "\"EPHEV\",\n",
    "\"COPDEV\",\n",
    "\"AASSTILL\",\n",
    "\"ULCYR\",\n",
    "\"DIBPILL1\",\n",
    "\"INSLN1\",\n",
    "\"AHAYFYR\",\n",
    "\"SINYR\",\n",
    "\"CBRCHYR\",\n",
    "\"KIDWKYR\",\n",
    "\"LIVYR\",\n",
    "\"ARTH1\",\n",
    "\"PAINECK\",\n",
    "\"PAINLB\",\n",
    "\"PAINFACE\",\n",
    "\"APOX\",\n",
    "\"AHEP\",\n",
    "\"LIVEV\"]"
   ]
  },
  {
   "cell_type": "code",
   "execution_count": 74,
   "metadata": {},
   "outputs": [
    {
     "name": "stdout",
     "output_type": "stream",
     "text": [
      "Variable HYPYR1\n",
      "   Categorías: [nan, 1.0, 2.0, 9.0]\n",
      "   Nulos: 82.08\n",
      "\n",
      "Variable HYPMED2\n",
      "   Categorías: [nan, 1.0, 2.0]\n",
      "   Nulos: 81.83\n",
      "\n",
      "Variable CHLYR\n",
      "   Categorías: [nan, 1.0, 9.0, 2.0]\n",
      "   Nulos: 80.7\n",
      "\n",
      "Variable CHLMDNW2\n",
      "   Categorías: [nan, 1.0, 2.0]\n",
      "   Nulos: 87.45\n",
      "\n",
      "Variable ANGEV\n",
      "   Categorías: [2, 1, 9, 7]\n",
      "   Nulos: 0.0\n",
      "\n",
      "Variable MIEV\n",
      "   Categorías: [2, 1, 7, 9]\n",
      "   Nulos: 0.0\n",
      "\n",
      "Variable HRTEV\n",
      "   Categorías: [2, 1, 7, 9]\n",
      "   Nulos: 0.0\n",
      "\n",
      "Variable STREV\n",
      "   Categorías: [2, 1, 7]\n",
      "   Nulos: 0.0\n",
      "\n",
      "Variable EPHEV\n",
      "   Categorías: [2, 1, 7, 9]\n",
      "   Nulos: 0.0\n",
      "\n",
      "Variable COPDEV\n",
      "   Categorías: [2, 1, 9, 7]\n",
      "   Nulos: 0.0\n",
      "\n",
      "Variable AASSTILL\n",
      "   Categorías: [nan, 1.0, 2.0, 9.0]\n",
      "   Nulos: 89.14\n",
      "\n",
      "Variable ULCYR\n",
      "   Categorías: [nan, 2.0, 1.0, 9.0]\n",
      "   Nulos: 96.62\n",
      "\n",
      "Variable DIBPILL1\n",
      "   Categorías: [nan, 2.0, 1.0, 9.0]\n",
      "   Nulos: 89.94\n",
      "\n",
      "Variable INSLN1\n",
      "   Categorías: [nan, 2.0, 1.0]\n",
      "   Nulos: 89.94\n",
      "\n",
      "Variable AHAYFYR\n",
      "   Categorías: [2, 1, 9]\n",
      "   Nulos: 0.0\n",
      "\n",
      "Variable SINYR\n",
      "   Categorías: [2, 1, 9]\n",
      "   Nulos: 0.0\n",
      "\n",
      "Variable CBRCHYR\n",
      "   Categorías: [2, 1, 9]\n",
      "   Nulos: 0.0\n",
      "\n",
      "Variable KIDWKYR\n",
      "   Categorías: [2, 1]\n",
      "   Nulos: 0.0\n",
      "\n",
      "Variable LIVYR\n",
      "   Categorías: [2, 1, 9]\n",
      "   Nulos: 0.0\n",
      "\n",
      "Variable ARTH1\n",
      "   Categorías: [2, 1, 9]\n",
      "   Nulos: 0.0\n",
      "\n",
      "Variable PAINECK\n",
      "   Categorías: [1, 2, 9, 7]\n",
      "   Nulos: 0.0\n",
      "\n",
      "Variable PAINLB\n",
      "   Categorías: [1, 2, 9, 7]\n",
      "   Nulos: 0.0\n",
      "\n",
      "Variable PAINFACE\n",
      "   Categorías: [2, 1]\n",
      "   Nulos: 0.0\n",
      "\n",
      "Variable APOX\n",
      "   Categorías: [1, 2, 9, 8, 7]\n",
      "   Nulos: 0.0\n",
      "\n",
      "Variable AHEP\n",
      "   Categorías: [2, 8, 1, 9, 7]\n",
      "   Nulos: 0.0\n",
      "\n",
      "Variable LIVEV\n",
      "   Categorías: [2, 8, 9, 1, 7]\n",
      "   Nulos: 0.0\n",
      "\n"
     ]
    }
   ],
   "source": [
    "for i in feat_list:\n",
    "    print(\"Variable \" + str(i))\n",
    "    print(\"   Categorías: \" +  str(list(data[i].unique())))\n",
    "    print(\"   Nulos: \" + str(round(data[i].isna().sum()*100/len(data),2)))\n",
    "    print()"
   ]
  },
  {
   "cell_type": "code",
   "execution_count": 75,
   "metadata": {},
   "outputs": [
    {
     "name": "stdout",
     "output_type": "stream",
     "text": [
      "Transformando variable HYPYR1\n",
      "Categorías: [0.0, 1.0, nan]\n",
      "\n",
      "Transformando variable HYPMED2\n",
      "Categorías: [0.0, 1.0]\n",
      "\n",
      "Transformando variable CHLYR\n",
      "Categorías: [0.0, 1.0, nan]\n",
      "\n",
      "Transformando variable CHLMDNW2\n",
      "Categorías: [0.0, 1.0]\n",
      "\n",
      "Transformando variable ANGEV\n",
      "Categorías: [0.0, 1.0, nan]\n",
      "\n",
      "Transformando variable MIEV\n",
      "Categorías: [0.0, 1.0, nan]\n",
      "\n",
      "Transformando variable HRTEV\n",
      "Categorías: [0.0, 1.0, nan]\n",
      "\n",
      "Transformando variable STREV\n",
      "Categorías: [0.0, 1.0, nan]\n",
      "\n",
      "Transformando variable EPHEV\n",
      "Categorías: [0.0, 1.0, nan]\n",
      "\n",
      "Transformando variable COPDEV\n",
      "Categorías: [0.0, 1.0, nan]\n",
      "\n",
      "Transformando variable AASSTILL\n",
      "Categorías: [0.0, 1.0, nan]\n",
      "\n",
      "Transformando variable ULCYR\n",
      "Categorías: [0.0, 1.0, nan]\n",
      "\n",
      "Transformando variable DIBPILL1\n",
      "Categorías: [0.0, 1.0, nan]\n",
      "\n",
      "Transformando variable INSLN1\n",
      "Categorías: [0.0, 1.0]\n",
      "\n",
      "Transformando variable AHAYFYR\n",
      "Categorías: [0.0, 1.0, nan]\n",
      "\n",
      "Transformando variable SINYR\n",
      "Categorías: [0.0, 1.0, nan]\n",
      "\n",
      "Transformando variable CBRCHYR\n",
      "Categorías: [0.0, 1.0, nan]\n",
      "\n",
      "Transformando variable KIDWKYR\n",
      "Categorías: [0.0, 1.0]\n",
      "\n",
      "Transformando variable LIVYR\n",
      "Categorías: [0.0, 1.0, nan]\n",
      "\n",
      "Transformando variable ARTH1\n",
      "Categorías: [0.0, 1.0, nan]\n",
      "\n",
      "Transformando variable PAINECK\n",
      "Categorías: [1.0, 0.0, nan]\n",
      "\n",
      "Transformando variable PAINLB\n",
      "Categorías: [1.0, 0.0, nan]\n",
      "\n",
      "Transformando variable PAINFACE\n",
      "Categorías: [0.0, 1.0]\n",
      "\n",
      "Transformando variable APOX\n",
      "Categorías: [1.0, 0.0, nan]\n",
      "\n",
      "Transformando variable AHEP\n",
      "Categorías: [0.0, nan, 1.0]\n",
      "\n",
      "Transformando variable LIVEV\n",
      "Categorías: [0.0, nan, 1.0]\n",
      "\n"
     ]
    }
   ],
   "source": [
    "for i in feat_list:\n",
    "    print(\"Transformando variable \" + str(i))\n",
    "    # Los NaN son convertidos a 0, dado que no cumplen con la condición de la población en estudio\n",
    "    data.loc[(data[i].isna() == True), i] = np.int(0)\n",
    "    # 1 => 1 (si)\n",
    "    data.loc[(data[i] == 1), i] = np.int(1)\n",
    "    # 2 => 0 (no)\n",
    "    data.loc[(data[i] == 2), i] = np.int(0)\n",
    "    # 7,8,9 => NaN (desconocido)\n",
    "    data.loc[((data[i] == 7) | (data[i] == 8) | (data[i] == 9)), i] = np.nan    \n",
    "    print(\"Categorías: \" +  str(list(data[i].unique())))\n",
    "    print()"
   ]
  },
  {
   "cell_type": "markdown",
   "metadata": {},
   "source": [
    "### Exportar dataset"
   ]
  },
  {
   "cell_type": "code",
   "execution_count": 76,
   "metadata": {},
   "outputs": [],
   "source": [
    "# Reordenar\n",
    "data = data[\n",
    "    [\n",
    "        \"id\",\n",
    "        \"REGION\",\n",
    "        \"SEX\",\n",
    "        \"AHEIGHT\",\n",
    "        \"AWEIGHTP\",\n",
    "        \"BMI\",\n",
    "        \"AGE_P\",\n",
    "        \"RACERPI2\",\n",
    "        \"R_MARITL\",\n",
    "        \"DOINGLWA\",\n",
    "        \"WRKLYR4\",\n",
    "        \"HYPYR1\",\n",
    "        \"HYPMED2\",\n",
    "        \"CHLYR\",\n",
    "        \"CHLMDNW2\",\n",
    "        \"ANGEV\",\n",
    "        \"MIEV\",\n",
    "        \"HRTEV\",\n",
    "        \"STREV\",\n",
    "        \"EPHEV\",\n",
    "        \"COPDEV\",\n",
    "        \"ASP\",\n",
    "        \"AASSTILL\",\n",
    "        \"ULCYR\",\n",
    "        \"DIBEV1\",\n",
    "        \"DIBPILL1\",\n",
    "        \"INSLN1\",\n",
    "        \"AHAYFYR\",\n",
    "        \"SINYR\",\n",
    "        \"CBRCHYR\",\n",
    "        \"KIDWKYR\",\n",
    "        \"LIVYR\",\n",
    "        \"ARTH1\",\n",
    "        \"PAINECK\",\n",
    "        \"PAINLB\",\n",
    "        \"PAINFACE\",\n",
    "        \"FLA1AR\",\n",
    "        \"CIGSDAY\",\n",
    "        \"VIG\",\n",
    "        \"MOD\",\n",
    "        \"ALC\",\n",
    "        \"APOX\",\n",
    "        \"AHEP\",\n",
    "        \"LIVEV\",\n",
    "        \"ASICPUSE\",\n",
    "        \"ASISLEEP\",\n",
    "        \"target\",\n",
    "    ]\n",
    "]"
   ]
  },
  {
   "cell_type": "code",
   "execution_count": 77,
   "metadata": {},
   "outputs": [],
   "source": [
    "# Reset index\n",
    "data = data.reset_index(drop=True)"
   ]
  },
  {
   "cell_type": "code",
   "execution_count": 78,
   "metadata": {},
   "outputs": [
    {
     "name": "stdout",
     "output_type": "stream",
     "text": [
      "<class 'pandas.core.frame.DataFrame'>\n",
      "RangeIndex: 13479 entries, 0 to 13478\n",
      "Data columns (total 47 columns):\n",
      " #   Column    Non-Null Count  Dtype  \n",
      "---  ------    --------------  -----  \n",
      " 0   id        13479 non-null  object \n",
      " 1   REGION    13479 non-null  int64  \n",
      " 2   SEX       13479 non-null  int64  \n",
      " 3   AHEIGHT   12711 non-null  float64\n",
      " 4   AWEIGHTP  12497 non-null  float64\n",
      " 5   BMI       12470 non-null  float64\n",
      " 6   AGE_P     13479 non-null  int64  \n",
      " 7   RACERPI2  13479 non-null  int64  \n",
      " 8   R_MARITL  13450 non-null  float64\n",
      " 9   DOINGLWA  13471 non-null  float64\n",
      " 10  WRKLYR4   13459 non-null  float64\n",
      " 11  HYPYR1    13459 non-null  float64\n",
      " 12  HYPMED2   13479 non-null  float64\n",
      " 13  CHLYR     13427 non-null  float64\n",
      " 14  CHLMDNW2  13479 non-null  float64\n",
      " 15  ANGEV     13468 non-null  float64\n",
      " 16  MIEV      13472 non-null  float64\n",
      " 17  HRTEV     13474 non-null  float64\n",
      " 18  STREV     13478 non-null  float64\n",
      " 19  EPHEV     13477 non-null  float64\n",
      " 20  COPDEV    13477 non-null  float64\n",
      " 21  ASP       13475 non-null  float64\n",
      " 22  AASSTILL  13471 non-null  float64\n",
      " 23  ULCYR     13476 non-null  float64\n",
      " 24  DIBEV1    13476 non-null  float64\n",
      " 25  DIBPILL1  13478 non-null  float64\n",
      " 26  INSLN1    13479 non-null  float64\n",
      " 27  AHAYFYR   13471 non-null  float64\n",
      " 28  SINYR     13475 non-null  float64\n",
      " 29  CBRCHYR   13477 non-null  float64\n",
      " 30  KIDWKYR   13479 non-null  float64\n",
      " 31  LIVYR     13475 non-null  float64\n",
      " 32  ARTH1     13473 non-null  float64\n",
      " 33  PAINECK   13477 non-null  float64\n",
      " 34  PAINLB    13477 non-null  float64\n",
      " 35  PAINFACE  13479 non-null  float64\n",
      " 36  FLA1AR    13460 non-null  float64\n",
      " 37  CIGSDAY   13479 non-null  float64\n",
      " 38  VIG       13251 non-null  float64\n",
      " 39  MOD       13086 non-null  float64\n",
      " 40  ALC       13479 non-null  float64\n",
      " 41  APOX      12844 non-null  float64\n",
      " 42  AHEP      13283 non-null  float64\n",
      " 43  LIVEV     13291 non-null  float64\n",
      " 44  ASICPUSE  13278 non-null  float64\n",
      " 45  ASISLEEP  13155 non-null  float64\n",
      " 46  target    13479 non-null  int64  \n",
      "dtypes: float64(41), int64(5), object(1)\n",
      "memory usage: 4.8+ MB\n"
     ]
    }
   ],
   "source": [
    "data.info()"
   ]
  },
  {
   "cell_type": "code",
   "execution_count": 79,
   "metadata": {},
   "outputs": [
    {
     "data": {
      "text/plain": [
       "0    11951\n",
       "1     1528\n",
       "Name: target, dtype: int64"
      ]
     },
     "execution_count": 79,
     "metadata": {},
     "output_type": "execute_result"
    }
   ],
   "source": [
    "data.target.value_counts()"
   ]
  },
  {
   "cell_type": "code",
   "execution_count": 80,
   "metadata": {},
   "outputs": [],
   "source": [
    "# Exportar dataset\n",
    "data.to_csv(path_proc + \"data_filter.csv\", index=False)"
   ]
  },
  {
   "cell_type": "code",
   "execution_count": null,
   "metadata": {},
   "outputs": [],
   "source": []
  }
 ],
 "metadata": {
  "kernelspec": {
   "display_name": "Python 3",
   "language": "python",
   "name": "python3"
  },
  "language_info": {
   "codemirror_mode": {
    "name": "ipython",
    "version": 3
   },
   "file_extension": ".py",
   "mimetype": "text/x-python",
   "name": "python",
   "nbconvert_exporter": "python",
   "pygments_lexer": "ipython3",
   "version": "3.7.7"
  }
 },
 "nbformat": 4,
 "nbformat_minor": 4
}
